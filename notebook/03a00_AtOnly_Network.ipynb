{
 "cells": [
  {
   "cell_type": "markdown",
   "id": "25051f73-403f-4eb8-b779-3575a0a9dfc2",
   "metadata": {},
   "source": [
    "# 03a00 AtOnly Network-based feature selection"
   ]
  },
  {
   "cell_type": "code",
   "execution_count": 11,
   "outputs": [],
   "source": [
    "%matplotlib inline\n",
    "\n",
    "import pandas as pd\n",
    "import networkx as nx\n",
    "import networkit as nk\n",
    "import numpy as np\n",
    "import seaborn as sns\n",
    "\n",
    "import matplotlib.pyplot as plt\n",
    "\n",
    "from collections import Counter\n",
    "\n",
    "# pd.set_option('display.max_rows', None) \n",
    "\n",
    "# from IPython.core.interactiveshell import InteractiveShell\n",
    "# InteractiveShell.ast_node_interactivity = \"all\"\n",
    "\n",
    "from icecream import ic\n",
    "\n",
    "# increase plot resolution\n",
    "# import matplotlib as mpl\n",
    "# mpl.rcParams['figure.dpi']= 150"
   ],
   "metadata": {
    "collapsed": false
   }
  },
  {
   "cell_type": "code",
   "execution_count": 12,
   "id": "4051877e-e677-4db9-910a-d38b26ffb3db",
   "metadata": {},
   "outputs": [],
   "source": [
    "# df = pd.read_csv(\"/content/drive/MyDrive/Colab Notebooks/BIO/LesionAtBcNormTPMReadsStarMapAtBc.csv\")\n",
    "df = pd.read_csv(\"../data/LesionAtBcNormTPMReadsStarMapAtBc.csv\")"
   ]
  },
  {
   "cell_type": "code",
   "execution_count": 13,
   "id": "fc4b3db1-01fd-4a2f-ac74-a4521add5889",
   "metadata": {},
   "outputs": [],
   "source": [
    "import os\n",
    "import itertools\n",
    "from scipy.spatial.distance import euclidean\n",
    "import scipy.stats as stats\n",
    "from scipy import io\n",
    "import csv\n",
    "import glob\n",
    "import networkit as nk"
   ]
  },
  {
   "cell_type": "code",
   "execution_count": 24,
   "id": "1d47556c-cf4f-4964-9f25-6fedf033b0e5",
   "metadata": {},
   "outputs": [],
   "source": [
    "def node_dimension(G,weight=None):\n",
    "    node_dimension = {}\n",
    "    for node in G.nodes():\n",
    "        grow = []\n",
    "        r_g = []\n",
    "        num_g = []\n",
    "        num_nodes = 0\n",
    "        if weight == None:\n",
    "            spl = nx.single_source_shortest_path_length(G,node)\n",
    "        else:\n",
    "            spl = nx.single_source_dijkstra_path_length(G,node)\n",
    "        for s in spl.values():\n",
    "            if s>0:\n",
    "                grow.append(s)\n",
    "        grow.sort()\n",
    "        num = Counter(grow)\n",
    "        for i,j in num.items():\n",
    "            num_nodes += j\n",
    "            if i>0:\n",
    "                #if np.log(num_nodes) < 0.95*np.log(G.number_of_nodes()):\n",
    "                r_g.append(i)\n",
    "                num_g.append(num_nodes)\n",
    "                if np.log(num_nodes) > 0.9*np.log(G.number_of_nodes()):\n",
    "                    break\n",
    "        x = np.log(r_g)\n",
    "        y = np.log(num_g)\n",
    "#         if len(r_g) < 3:\n",
    "#             print(\"local\",node)\n",
    "        if len(r_g) > 1:\n",
    "            try:\n",
    "                slope, intercept, r_value, p_value, std_err = stats.linregress(x, y)\n",
    "            except:\n",
    "                print(node)\n",
    "            node_dimension[node] = slope\n",
    "        else:\n",
    "            node_dimension[node] = 0\n",
    "    return node_dimension"
   ]
  },
  {
   "cell_type": "code",
   "execution_count": 15,
   "id": "fbc06113-a941-4c46-b398-578326150e20",
   "metadata": {},
   "outputs": [],
   "source": [
    "def FDC(G,weight=None):\n",
    "    node_dimension = {}\n",
    "    Gn = G.number_of_nodes()\n",
    "    for node in G.nodes():\n",
    "        grow = []\n",
    "        r_g = []\n",
    "        num_g = []\n",
    "        num_nodes = 0\n",
    "        deg = 0\n",
    "        if weight == None:\n",
    "            spl = nx.single_source_shortest_path_length(G,node)\n",
    "        else:\n",
    "            spl = nx.single_source_dijkstra_path_length(G,node)\n",
    "        for s in spl.values():\n",
    "            if s>0:\n",
    "                grow.append(s)\n",
    "        grow.sort()\n",
    "        num = Counter(grow)\n",
    "        deg = list(num.values())[0]\n",
    "        for i,j in num.items():\n",
    "            num_nodes += j\n",
    "            if i>0:\n",
    "                #if np.log(num_nodes) < 0.95*np.log(G.number_of_nodes()):\n",
    "                r_g.append(i)\n",
    "                num_g.append(num_nodes)\n",
    "                if np.log(num_nodes) > 0.9*np.log(Gn):\n",
    "                    break\n",
    "        #if len(r_g) < 3:\n",
    "            #print(\"local\",node,len(r_g))\n",
    "        if len(r_g) > 1:\n",
    "            try:\n",
    "                slope, intercept, r_value, p_value, std_err = stats.linregress(np.log(r_g), np.log(num_g))\n",
    "            except:\n",
    "                print(node)\n",
    "            node_dimension[node] = slope/np.log(Gn/deg)\n",
    "        else:\n",
    "            node_dimension[node] = 0\n",
    "    return node_dimension"
   ]
  },
  {
   "cell_type": "markdown",
   "id": "2d07b742-4ea8-4391-a772-0417ac4fc1c9",
   "metadata": {},
   "source": [
    "## Network Approach"
   ]
  },
  {
   "cell_type": "code",
   "execution_count": 16,
   "id": "c3dad131-ac64-4a0a-852f-9e69ca6650b4",
   "metadata": {},
   "outputs": [
    {
     "name": "stdout",
     "output_type": "stream",
     "text": [
      "==== BotAt Data Summary ====\n",
      "HostGenoType: {'npr1', 'col0', 'coi1'}\n",
      "Bot Isolates: 96\n",
      "Data samples: 1092\n",
      "Data features: 29107\n"
     ]
    }
   ],
   "source": [
    "print(\"==== BotAt Data Summary ====\")\n",
    "print(\"HostGenoType:\", set(df.loc[:,'HostGenoType']))\n",
    "print(\"Bot Isolates: %d\" % len(set(df.Isolate)))\n",
    "print(\"Data samples: %d\" % np.shape(df)[0])\n",
    "print(\"Data features: %d\" % np.shape(df)[1])"
   ]
  },
  {
   "cell_type": "code",
   "execution_count": 17,
   "id": "1e2a3e6a-8927-46ce-b65a-bff024e5d9a2",
   "metadata": {},
   "outputs": [
    {
     "name": "stdout",
     "output_type": "stream",
     "text": [
      "Number of At genes: 20340\n"
     ]
    }
   ],
   "source": [
    "# extract feature names from RNASeq data\n",
    "gene_names = list(df)[6:29107]\n",
    "gene_names = [x.upper() for x in gene_names]\n",
    "\n",
    "# Arabidopsis only feature gene set\n",
    "At_list = gene_names[0:20340]\n",
    "print(\"Number of At genes:\", len(At_list))"
   ]
  },
  {
   "cell_type": "markdown",
   "id": "5f440ece-4a60-4329-b698-b5681d4acae8",
   "metadata": {},
   "source": [
    "### Dataframe gene data decomposition according to organism"
   ]
  },
  {
   "cell_type": "code",
   "execution_count": 18,
   "id": "ffabf947-c07a-4054-9fef-033e5d110d4b",
   "metadata": {},
   "outputs": [],
   "source": [
    "# data indices\n",
    "At_idx_start = 6;\n",
    "At_idx_end = 20346;\n",
    "Bot_idx_start = 20346;\n",
    "Bot_idx_end = 29107;\n",
    "\n",
    "# gene lengths\n",
    "At_length = At_idx_end - At_idx_start\n",
    "Bot_length = Bot_idx_end - Bot_idx_start\n",
    "\n",
    "### Total genes\n",
    "# There are a total of 29101 Arabidopsis and Botrytis genes\n",
    "df_AtBot = df.iloc[:, At_idx_start:Bot_idx_end]\n",
    "# df_AtBot.head()\n",
    "\n",
    "### Arabidopsis genes\n",
    "# There are 20340 Arabidopsis genes\n",
    "df_At = df.iloc[:, At_idx_start:At_idx_end]\n",
    "# df_At.head()\n",
    "\n",
    "### Botrytis genes\n",
    "# There are 8761 Botrytis genes\n",
    "df_Bot = df.iloc[:, Bot_idx_start:Bot_idx_end]\n",
    "# df_Bot.head()"
   ]
  },
  {
   "cell_type": "markdown",
   "id": "116432eb-29af-4bbf-99ba-8bff6883b349",
   "metadata": {},
   "source": [
    "### Correlation matrix"
   ]
  },
  {
   "cell_type": "code",
   "execution_count": 19,
   "id": "64f402f6-bd79-485f-8f29-e6abf423c851",
   "metadata": {},
   "outputs": [
    {
     "name": "stdout",
     "output_type": "stream",
     "text": [
      "(29101, 29101)\n"
     ]
    }
   ],
   "source": [
    "# loading the .csv file as pandas dataframe\n",
    "# df_load = pd.read_csv(\"./data/test_csv.csv\", index_col=0)\n",
    "# df_load.head()\n",
    "\n",
    "# loading the .npy file as numpy array\n",
    "file_npy = \"../results/gene_correlation.npy\"\n",
    "AtBotCorrMatrix = np.load(file_npy)\n",
    "print(np.shape(AtBotCorrMatrix))"
   ]
  },
  {
   "cell_type": "code",
   "execution_count": 20,
   "id": "d61588de-2b26-4dcb-94eb-2269ada1de9c",
   "metadata": {},
   "outputs": [
    {
     "name": "stdout",
     "output_type": "stream",
     "text": [
      "(20340, 20340)\n"
     ]
    }
   ],
   "source": [
    "AtCorrMatrix = AtBotCorrMatrix[0:At_length,0:At_length]\n",
    "# print(AtCorrMatrix[0:5,0:5])\n",
    "print(np.shape(AtCorrMatrix))\n",
    "\n",
    "# plt.imshow(AtCorrMatrix)\n",
    "# plt.colorbar()"
   ]
  },
  {
   "cell_type": "markdown",
   "source": [
    "### At Only Thresholding"
   ],
   "metadata": {
    "collapsed": false
   }
  },
  {
   "cell_type": "code",
   "execution_count": 21,
   "outputs": [],
   "source": [
    "h = 0.7\n",
    "AdjMat = ((AtCorrMatrix > h) | (AtCorrMatrix < -h)) # * corrMatrix\n",
    "# plt.imshow(AtBot_AdjMat)\n",
    "# plt.colorbar()"
   ],
   "metadata": {
    "collapsed": false
   }
  },
  {
   "cell_type": "code",
   "execution_count": 22,
   "outputs": [
    {
     "name": "stdout",
     "output_type": "stream",
     "text": [
      "Name: Graph with threshold 0.7\n",
      "Type: Graph\n",
      "Number of nodes: 20340\n",
      "Number of edges: 347419\n",
      "Average degree:  34.1612\n",
      "Number of components:  12259\n",
      "Number of 1-sized components: 12214\n",
      "Largest component size: 7990\n",
      "Component size counts:\n",
      "[(1, 12214), (2, 29), (3, 6), (4, 4), (5, 2), (6, 1), (11, 1), (17, 1), (7990, 1)]\n",
      "\n",
      "Name: Graph with threshold 0.7\n",
      "Type: Graph\n",
      "Number of nodes: 8126\n",
      "Number of edges: 347419\n",
      "Average degree:  85.5080\n"
     ]
    },
    {
     "data": {
      "image/png": "[encoded data removed]",
      "text/plain": [
       "<Figure size 432x288 with 1 Axes>"
      ]
     },
     "metadata": {
      "needs_background": "light"
     },
     "output_type": "display_data"
    }
   ],
   "source": [
    "G = nx.from_numpy_array(AdjMat)\n",
    "G.name = f\"Graph with threshold {h}\"\n",
    "\n",
    "# remove self-loops\n",
    "G.remove_edges_from(nx.selfloop_edges(G))\n",
    "print(nx.info(G))\n",
    "\n",
    "# check component size\n",
    "# sorted list of connected components \n",
    "Gcc = sorted(nx.connected_components(G), key=len, reverse=True)\n",
    "\n",
    "component_sizes = [len(cc) for cc in Gcc]\n",
    "comp_ctr = Counter(component_sizes)\n",
    "lists = sorted(comp_ctr.items())\n",
    "x, y = zip(*lists[1:]) # unpack a list of pairs into two tuples\n",
    "plt.plot(x,y)\n",
    "plt.xlabel('component size')\n",
    "plt.ylabel('count')\n",
    "plt.title('Component size count except size 1')\n",
    "\n",
    "print(\"Number of components: % d\" % len(Gcc))\n",
    "print(\"Number of 1-sized components: %d\" % lists[0][1])\n",
    "print(\"Largest component size: %d\" % len(Gcc[0]))\n",
    "print(\"Component size counts:\")\n",
    "print(lists)\n",
    "\n",
    "# remove all single node components\n",
    "node_set = set()\n",
    "for G1 in Gcc:\n",
    "    if len(G1)>1:\n",
    "        node_set |= G1\n",
    "        \n",
    "node_list = np.array(list(node_set))\n",
    "# node_list\n",
    "\n",
    "# fdim\n",
    "G_sub = G.subgraph(node_list)\n",
    "print()\n",
    "print(nx.info(G_sub))"
   ],
   "metadata": {
    "collapsed": false
   }
  },
  {
   "cell_type": "markdown",
   "source": [
    "#### Degree Centrality"
   ],
   "metadata": {
    "collapsed": false
   }
  },
  {
   "cell_type": "code",
   "execution_count": 13,
   "outputs": [],
   "source": [
    "# degree centrality\n",
    "dc = nx.degree_centrality(G_sub)\n",
    "nx.set_node_attributes(G_sub,dc,'degree')\n",
    "\n",
    "dc_sort = {gene_names[k]: v for k, v in sorted(dc.items(), key=lambda item: item[1], reverse=True)}\n",
    "# dc_sort = {k: v for k, v in sorted(dc.items(), key=lambda item: item[1], reverse=True)}\n",
    "dc_sort2 = dict()\n",
    "for (key, value) in dc_sort.items():\n",
    "    if value > 0:\n",
    "        dc_sort2[key] = value\n",
    "\n",
    "dc_keys = list(dc_sort.keys())\n",
    "\n",
    "file_out = f\"../notebook/models/03a_features/AtOnly_degree_{h}.npy\"\n",
    "np.save(file_out, dc_keys, allow_pickle=True)\n",
    "\n",
    "file_out = f\"../notebook/models/03a_features/AtOnly_degree_{h}_dict.npy\"\n",
    "np.save(file_out, dc_sort, allow_pickle=True)"
   ],
   "metadata": {
    "collapsed": false
   }
  },
  {
   "cell_type": "code",
   "execution_count": 14,
   "id": "a16f2b7f-c8e6-4834-94d0-e29ace40d0c3",
   "metadata": {},
   "outputs": [],
   "source": [
    "# # plot top 50 degree genes\n",
    "\n",
    "# dc_keys = np.array(list(dc_sort.keys()))\n",
    "# dc_vals = np.array(list(dc_sort.values()))\n",
    "# # plt.barh([])\n",
    "\n",
    "# for i in range(0,10):\n",
    "#     print(i, dc_keys[i], dc_vals[i])\n",
    "    \n",
    "# cols = df.columns\n",
    "\n",
    "# topN = 50\n",
    "# dc_key50 = dc_keys[:topN]\n",
    "# dc_val50 = dc_vals[:topN] \n",
    "\n",
    "# plt.figure(figsize=(8,16))\n",
    "# plt.barh([cols[i] for i in np.flip(dc_key50[-50:])],np.flip(dc_val50[-50:]))\n",
    "# plt.xlabel('Degree centrality')\n",
    "# plt.ylabel('Genes')\n",
    "# plt.title(f'AtBot Network Degree (h={h}) Feature Importance')\n",
    "\n",
    "# file_out = f'../notebook/figures/03a_AtOnly/03a_AtOnly_degree_importances_{topN}.pdf'\n",
    "# plt.savefig(file_out,bbox_inches='tight')"
   ]
  },
  {
   "cell_type": "markdown",
   "id": "f0991c88-2e5c-4706-9caa-bd4a857371b5",
   "metadata": {},
   "source": [
    "#### NFD"
   ]
  },
  {
   "cell_type": "code",
   "execution_count": 25,
   "id": "07a3ce05-ed1f-40be-a427-3e98495fd01a",
   "metadata": {},
   "outputs": [
    {
     "name": "stdout",
     "output_type": "stream",
     "text": [
      "4.211977262102514\n",
      "3.6442309049628445\n",
      "3.821424497182757\n",
      "3.165207909436423\n",
      "5.550729266827894\n",
      "3.3726310368813532\n",
      "2.6189060391278622\n",
      "4.079580864471846\n",
      "3.211947196408192\n",
      "4.797481338790323\n",
      "2.884966959721746\n",
      "1.543239436735828\n"
     ]
    },
    {
     "ename": "KeyboardInterrupt",
     "evalue": "",
     "output_type": "error",
     "traceback": [
      "\u001B[0;31m---------------------------------------------------------------------------\u001B[0m",
      "\u001B[0;31mKeyboardInterrupt\u001B[0m                         Traceback (most recent call last)",
      "\u001B[0;32m<ipython-input-25-038618b94cb8>\u001B[0m in \u001B[0;36m<module>\u001B[0;34m\u001B[0m\n\u001B[0;32m----> 1\u001B[0;31m \u001B[0mnfd\u001B[0m \u001B[0;34m=\u001B[0m \u001B[0mnode_dimension\u001B[0m\u001B[0;34m(\u001B[0m\u001B[0mG_sub\u001B[0m\u001B[0;34m)\u001B[0m\u001B[0;34m\u001B[0m\u001B[0;34m\u001B[0m\u001B[0m\n\u001B[0m",
      "\u001B[0;32m<ipython-input-24-a2d725821822>\u001B[0m in \u001B[0;36mnode_dimension\u001B[0;34m(G, weight)\u001B[0m\n\u001B[1;32m      7\u001B[0m         \u001B[0mnum_nodes\u001B[0m \u001B[0;34m=\u001B[0m \u001B[0;36m0\u001B[0m\u001B[0;34m\u001B[0m\u001B[0;34m\u001B[0m\u001B[0m\n\u001B[1;32m      8\u001B[0m         \u001B[0;32mif\u001B[0m \u001B[0mweight\u001B[0m \u001B[0;34m==\u001B[0m \u001B[0;32mNone\u001B[0m\u001B[0;34m:\u001B[0m\u001B[0;34m\u001B[0m\u001B[0;34m\u001B[0m\u001B[0m\n\u001B[0;32m----> 9\u001B[0;31m             \u001B[0mspl\u001B[0m \u001B[0;34m=\u001B[0m \u001B[0mnx\u001B[0m\u001B[0;34m.\u001B[0m\u001B[0msingle_source_shortest_path_length\u001B[0m\u001B[0;34m(\u001B[0m\u001B[0mG\u001B[0m\u001B[0;34m,\u001B[0m\u001B[0mnode\u001B[0m\u001B[0;34m)\u001B[0m\u001B[0;34m\u001B[0m\u001B[0;34m\u001B[0m\u001B[0m\n\u001B[0m\u001B[1;32m     10\u001B[0m         \u001B[0;32melse\u001B[0m\u001B[0;34m:\u001B[0m\u001B[0;34m\u001B[0m\u001B[0;34m\u001B[0m\u001B[0m\n\u001B[1;32m     11\u001B[0m             \u001B[0mspl\u001B[0m \u001B[0;34m=\u001B[0m \u001B[0mnx\u001B[0m\u001B[0;34m.\u001B[0m\u001B[0msingle_source_dijkstra_path_length\u001B[0m\u001B[0;34m(\u001B[0m\u001B[0mG\u001B[0m\u001B[0;34m,\u001B[0m\u001B[0mnode\u001B[0m\u001B[0;34m)\u001B[0m\u001B[0;34m\u001B[0m\u001B[0;34m\u001B[0m\u001B[0m\n",
      "\u001B[0;32m~/miniconda3/envs/py38/lib/python3.8/site-packages/networkx/algorithms/shortest_paths/unweighted.py\u001B[0m in \u001B[0;36msingle_source_shortest_path_length\u001B[0;34m(G, source, cutoff)\u001B[0m\n\u001B[1;32m     57\u001B[0m         \u001B[0mcutoff\u001B[0m \u001B[0;34m=\u001B[0m \u001B[0mfloat\u001B[0m\u001B[0;34m(\u001B[0m\u001B[0;34m\"inf\"\u001B[0m\u001B[0;34m)\u001B[0m\u001B[0;34m\u001B[0m\u001B[0;34m\u001B[0m\u001B[0m\n\u001B[1;32m     58\u001B[0m     \u001B[0mnextlevel\u001B[0m \u001B[0;34m=\u001B[0m \u001B[0;34m{\u001B[0m\u001B[0msource\u001B[0m\u001B[0;34m:\u001B[0m \u001B[0;36m1\u001B[0m\u001B[0;34m}\u001B[0m\u001B[0;34m\u001B[0m\u001B[0;34m\u001B[0m\u001B[0m\n\u001B[0;32m---> 59\u001B[0;31m     \u001B[0;32mreturn\u001B[0m \u001B[0mdict\u001B[0m\u001B[0;34m(\u001B[0m\u001B[0m_single_shortest_path_length\u001B[0m\u001B[0;34m(\u001B[0m\u001B[0mG\u001B[0m\u001B[0;34m.\u001B[0m\u001B[0madj\u001B[0m\u001B[0;34m,\u001B[0m \u001B[0mnextlevel\u001B[0m\u001B[0;34m,\u001B[0m \u001B[0mcutoff\u001B[0m\u001B[0;34m)\u001B[0m\u001B[0;34m)\u001B[0m\u001B[0;34m\u001B[0m\u001B[0;34m\u001B[0m\u001B[0m\n\u001B[0m\u001B[1;32m     60\u001B[0m \u001B[0;34m\u001B[0m\u001B[0m\n\u001B[1;32m     61\u001B[0m \u001B[0;34m\u001B[0m\u001B[0m\n",
      "\u001B[0;32m~/miniconda3/envs/py38/lib/python3.8/site-packages/networkx/algorithms/shortest_paths/unweighted.py\u001B[0m in \u001B[0;36m_single_shortest_path_length\u001B[0;34m(adj, firstlevel, cutoff)\u001B[0m\n\u001B[1;32m     89\u001B[0m             \u001B[0;32mreturn\u001B[0m\u001B[0;34m\u001B[0m\u001B[0;34m\u001B[0m\u001B[0m\n\u001B[1;32m     90\u001B[0m         \u001B[0;32mfor\u001B[0m \u001B[0mv\u001B[0m \u001B[0;32min\u001B[0m \u001B[0mfound\u001B[0m\u001B[0;34m:\u001B[0m\u001B[0;34m\u001B[0m\u001B[0;34m\u001B[0m\u001B[0m\n\u001B[0;32m---> 91\u001B[0;31m             \u001B[0mnextlevel\u001B[0m\u001B[0;34m.\u001B[0m\u001B[0mupdate\u001B[0m\u001B[0;34m(\u001B[0m\u001B[0madj\u001B[0m\u001B[0;34m[\u001B[0m\u001B[0mv\u001B[0m\u001B[0;34m]\u001B[0m\u001B[0;34m)\u001B[0m\u001B[0;34m\u001B[0m\u001B[0;34m\u001B[0m\u001B[0m\n\u001B[0m\u001B[1;32m     92\u001B[0m         \u001B[0mlevel\u001B[0m \u001B[0;34m+=\u001B[0m \u001B[0;36m1\u001B[0m\u001B[0;34m\u001B[0m\u001B[0;34m\u001B[0m\u001B[0m\n\u001B[1;32m     93\u001B[0m     \u001B[0;32mdel\u001B[0m \u001B[0mseen\u001B[0m\u001B[0;34m\u001B[0m\u001B[0;34m\u001B[0m\u001B[0m\n",
      "\u001B[0;32m~/miniconda3/envs/py38/lib/python3.8/site-packages/networkx/classes/coreviews.py\u001B[0m in \u001B[0;36m<genexpr>\u001B[0;34m(.0)\u001B[0m\n\u001B[1;32m    277\u001B[0m         \u001B[0;32mif\u001B[0m \u001B[0mnode_ok_shorter\u001B[0m\u001B[0;34m:\u001B[0m\u001B[0;34m\u001B[0m\u001B[0;34m\u001B[0m\u001B[0m\n\u001B[1;32m    278\u001B[0m             \u001B[0;32mreturn\u001B[0m \u001B[0;34m(\u001B[0m\u001B[0mn\u001B[0m \u001B[0;32mfor\u001B[0m \u001B[0mn\u001B[0m \u001B[0;32min\u001B[0m \u001B[0mself\u001B[0m\u001B[0;34m.\u001B[0m\u001B[0mNODE_OK\u001B[0m\u001B[0;34m.\u001B[0m\u001B[0mnodes\u001B[0m \u001B[0;32mif\u001B[0m \u001B[0mn\u001B[0m \u001B[0;32min\u001B[0m \u001B[0mself\u001B[0m\u001B[0;34m.\u001B[0m\u001B[0m_atlas\u001B[0m\u001B[0;34m)\u001B[0m\u001B[0;34m\u001B[0m\u001B[0;34m\u001B[0m\u001B[0m\n\u001B[0;32m--> 279\u001B[0;31m         \u001B[0;32mreturn\u001B[0m \u001B[0;34m(\u001B[0m\u001B[0mn\u001B[0m \u001B[0;32mfor\u001B[0m \u001B[0mn\u001B[0m \u001B[0;32min\u001B[0m \u001B[0mself\u001B[0m\u001B[0;34m.\u001B[0m\u001B[0m_atlas\u001B[0m \u001B[0;32mif\u001B[0m \u001B[0mself\u001B[0m\u001B[0;34m.\u001B[0m\u001B[0mNODE_OK\u001B[0m\u001B[0;34m(\u001B[0m\u001B[0mn\u001B[0m\u001B[0;34m)\u001B[0m\u001B[0;34m)\u001B[0m\u001B[0;34m\u001B[0m\u001B[0;34m\u001B[0m\u001B[0m\n\u001B[0m\u001B[1;32m    280\u001B[0m \u001B[0;34m\u001B[0m\u001B[0m\n\u001B[1;32m    281\u001B[0m     \u001B[0;32mdef\u001B[0m \u001B[0m__getitem__\u001B[0m\u001B[0;34m(\u001B[0m\u001B[0mself\u001B[0m\u001B[0;34m,\u001B[0m \u001B[0mkey\u001B[0m\u001B[0;34m)\u001B[0m\u001B[0;34m:\u001B[0m\u001B[0;34m\u001B[0m\u001B[0;34m\u001B[0m\u001B[0m\n",
      "\u001B[0;31mKeyboardInterrupt\u001B[0m: "
     ]
    }
   ],
   "source": [
    "nfd = node_dimension(G_sub)"
   ]
  },
  {
   "cell_type": "code",
   "execution_count": null,
   "id": "f88c57be-750c-4d71-aad4-2342be3eafea",
   "metadata": {},
   "outputs": [],
   "source": [
    "nfd_sort = {gene_names[k]: v for k, v in sorted(nfd.items(), key=lambda item: item[1], reverse=True)}\n",
    "nfd_sort2 = dict()\n",
    "for (key, value) in nfd_sort.items():\n",
    "    if value > 0:\n",
    "        nfd_sort2[key] = value\n",
    "        \n",
    "nfd_keys = list(nfd_sort.keys())\n",
    "\n",
    "# nfd_keys = np.array(list(nfd_sort.keys()))\n",
    "# nfd_keys = nfd_keys + At_idx_start\n",
    "\n",
    "file_out = f\"../notebook/models/03a_features/AtOnly_nfd_{h}.npy\"\n",
    "np.save(file_out, nfd_keys, allow_pickle=True)\n",
    "\n",
    "file_out = f\"../notebook/models/03a_features/AtOnly_nfd_{h}_dict.npy\"\n",
    "np.save(file_out, nfd_sort, allow_pickle=True)\n",
    "len(nfd_sort2)"
   ]
  },
  {
   "cell_type": "markdown",
   "id": "28dfda93-ad49-4369-bcef-00620fd84e34",
   "metadata": {},
   "source": [
    "#### FDC"
   ]
  },
  {
   "cell_type": "code",
   "execution_count": null,
   "id": "4456d78f-dce1-4db9-a875-2ca7eda194a5",
   "metadata": {},
   "outputs": [],
   "source": [
    "fdc = FDC(G_sub)"
   ]
  },
  {
   "cell_type": "code",
   "execution_count": null,
   "id": "53bd3d59-53f4-4143-a622-85ef6f63d47d",
   "metadata": {},
   "outputs": [],
   "source": [
    "fdc_sort = {gene_names[k]: v for k, v in sorted(fdc.items(), key=lambda item: item[1], reverse=True)}\n",
    "fdc_sort2 = dict()\n",
    "for (key, value) in fdc_sort.items():\n",
    "    if value > 0:\n",
    "        fdc_sort2[key] = value\n",
    "        \n",
    "fdc_keys = list(fdc_sort.keys())\n",
    "\n",
    "file_out = f\"../notebook/models/03a_features/AtOnly_fdc_{h}.npy\"\n",
    "np.save(file_out, fdc_keys, allow_pickle=True)\n",
    "\n",
    "file_out = f\"../notebook/models/03a_features/AtOnly_fdc_{h}_dict.npy\"\n",
    "np.save(file_out, fdc_sort, allow_pickle=True)\n",
    "len(fdc_sort2)\n"
   ]
  },
  {
   "cell_type": "markdown",
   "id": "1b315ab7-033f-4c6c-ae3c-1c05a2362f59",
   "metadata": {},
   "source": [
    "#### Betweenness"
   ]
  },
  {
   "cell_type": "code",
   "execution_count": null,
   "id": "16fbc5b3-7469-4f06-8353-11979a8c5ace",
   "metadata": {},
   "outputs": [],
   "source": [
    "bc = nx.betweenness_centrality(G_sub)\n",
    "nx.set_node_attributes(G_sub,bc,'betweenness')\n",
    "\n",
    "bc_sort = {gene_names[k]: v for k, v in sorted(bc.items(), key=lambda item: item[1], reverse=True)}\n",
    "bc_sort2 = dict()\n",
    "for (key, value) in bc_sort.items():\n",
    "    if value > 0:\n",
    "        bc_sort2[key] = value\n",
    "\n",
    "bc_keys = list(bc_sort.keys())\n",
    "# bc_keys = np.array(list(bc_sort.keys())) + At_idx_start\n",
    "\n",
    "file_out = f\"../notebook/models/03a_features/AtOnly_betweenness_{h}.npy\"\n",
    "np.save(file_out, bc_keys, allow_pickle=True)\n",
    "\n",
    "file_out = f\"../notebook/models/03a_features/AtOnly_betweenness_{h}_dict.npy\"\n",
    "np.save(file_out, bc_sort, allow_pickle=True)"
   ]
  },
  {
   "cell_type": "code",
   "execution_count": null,
   "id": "8d96a119-b700-4a0c-bf1e-e73167cf2d7f",
   "metadata": {},
   "outputs": [],
   "source": []
  }
 ],
 "metadata": {
  "kernelspec": {
   "display_name": "Python 3 (ipykernel)",
   "language": "python",
   "name": "python3"
  },
  "language_info": {
   "codemirror_mode": {
    "name": "ipython",
    "version": 3
   },
   "file_extension": ".py",
   "mimetype": "text/x-python",
   "name": "python",
   "nbconvert_exporter": "python",
   "pygments_lexer": "ipython3",
   "version": "3.8.5"
  }
 },
 "nbformat": 4,
 "nbformat_minor": 5
}

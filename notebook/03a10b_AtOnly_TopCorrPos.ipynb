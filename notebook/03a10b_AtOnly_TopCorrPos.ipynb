{
 "cells": [
  {
   "cell_type": "markdown",
   "id": "d335927c-ab16-47ce-85ae-c688fe99ef1b",
   "metadata": {},
   "source": [
    "# 03a10 At Only -- Top Correlations features"
   ]
  },
  {
   "cell_type": "code",
   "execution_count": 1,
   "id": "d11d63db-0de4-48cb-a28f-e73fa9b54e0d",
   "metadata": {
    "tags": []
   },
   "outputs": [],
   "source": [
    "%matplotlib inline\n",
    "\n",
    "import pandas as pd\n",
    "import numpy as np\n",
    "import pickle \n",
    "import time \n",
    "\n",
    "from scipy import stats\n",
    "\n",
    "from xgboost import XGBClassifier\n",
    "\n",
    "from sklearn.ensemble import RandomForestClassifier\n",
    "from sklearn.svm import SVC\n",
    "# from sklearn.inspection import permutation_importance\n",
    "\n",
    "import seaborn as sns\n",
    "import matplotlib.pyplot as plt\n",
    "sns.set_theme(style=\"white\")\n",
    "\n",
    "from collections import Counter\n",
    "\n",
    "import sys; sys.path.insert(0, '..') # add parent folder path where lib folder is\n",
    "from atbotml.custom_fuctions import *"
   ]
  },
  {
   "cell_type": "markdown",
   "id": "b7fecacd-7f12-4896-a54b-c8057cf41362",
   "metadata": {},
   "source": [
    "## Notebook parameters"
   ]
  },
  {
   "cell_type": "code",
   "execution_count": 2,
   "id": "44b50dc9-97aa-4829-a470-f138a6683504",
   "metadata": {},
   "outputs": [],
   "source": [
    "nb_id = f'03a10b'\n",
    "# nb_long_id = f'{nb_id}_TopCorr_PosNeg' # Pos, Neg, PosNeg\n",
    "num_classes = 10\n",
    "random_state = 42"
   ]
  },
  {
   "cell_type": "markdown",
   "id": "ec0ccf84-3b57-4eb4-91f0-b947acba9f41",
   "metadata": {},
   "source": [
    "## Load data"
   ]
  },
  {
   "cell_type": "code",
   "execution_count": 3,
   "id": "4052c6a6-c24f-45ce-a1ac-79533b0d7c95",
   "metadata": {},
   "outputs": [
    {
     "name": "stdout",
     "output_type": "stream",
     "text": [
      "Number of data samples: 1092\n",
      "Number of features: 29101\n",
      "Number of At genes: 20340\n"
     ]
    },
    {
     "data": {
      "text/html": [
       "<div>\n",
       "<style scoped>\n",
       "    .dataframe tbody tr th:only-of-type {\n",
       "        vertical-align: middle;\n",
       "    }\n",
       "\n",
       "    .dataframe tbody tr th {\n",
       "        vertical-align: top;\n",
       "    }\n",
       "\n",
       "    .dataframe thead th {\n",
       "        text-align: right;\n",
       "    }\n",
       "</style>\n",
       "<table border=\"1\" class=\"dataframe\">\n",
       "  <thead>\n",
       "    <tr style=\"text-align: right;\">\n",
       "      <th></th>\n",
       "      <th>Index</th>\n",
       "      <th>LibraryID</th>\n",
       "      <th>HostGenoType</th>\n",
       "      <th>Sample</th>\n",
       "      <th>Isolate</th>\n",
       "      <th>Lesion</th>\n",
       "      <th>AT1G01010</th>\n",
       "      <th>AT1G01040</th>\n",
       "      <th>AT1G01046</th>\n",
       "      <th>AT1G01050</th>\n",
       "      <th>...</th>\n",
       "      <th>BCIN18G00020</th>\n",
       "      <th>BCIN18G00060</th>\n",
       "      <th>BCIN18G00145</th>\n",
       "      <th>BCIN18G00180</th>\n",
       "      <th>BCIN18G00190</th>\n",
       "      <th>EFBCT00000013145</th>\n",
       "      <th>EFBCT00000013262</th>\n",
       "      <th>EFBCT00000013292</th>\n",
       "      <th>ENSRNA049512921.T1</th>\n",
       "      <th>ENSRNA049513883.T1</th>\n",
       "    </tr>\n",
       "  </thead>\n",
       "  <tbody>\n",
       "    <tr>\n",
       "      <th>0</th>\n",
       "      <td>coi1_1</td>\n",
       "      <td>coi.1.G1E.1</td>\n",
       "      <td>coi1</td>\n",
       "      <td>1</td>\n",
       "      <td>1.01.01</td>\n",
       "      <td>36.590004</td>\n",
       "      <td>39.556340</td>\n",
       "      <td>0.000000</td>\n",
       "      <td>0.000000</td>\n",
       "      <td>21.373592</td>\n",
       "      <td>...</td>\n",
       "      <td>0.0</td>\n",
       "      <td>0.000000</td>\n",
       "      <td>0.000000</td>\n",
       "      <td>0.000000</td>\n",
       "      <td>0.000000</td>\n",
       "      <td>12.438875</td>\n",
       "      <td>0.000000</td>\n",
       "      <td>0.000000</td>\n",
       "      <td>0.000000</td>\n",
       "      <td>5.321551</td>\n",
       "    </tr>\n",
       "    <tr>\n",
       "      <th>1</th>\n",
       "      <td>coi1_1</td>\n",
       "      <td>coi.1.G1F.1</td>\n",
       "      <td>coi1</td>\n",
       "      <td>1</td>\n",
       "      <td>1.01.01</td>\n",
       "      <td>36.590004</td>\n",
       "      <td>16.918722</td>\n",
       "      <td>0.000000</td>\n",
       "      <td>0.000000</td>\n",
       "      <td>119.029216</td>\n",
       "      <td>...</td>\n",
       "      <td>0.0</td>\n",
       "      <td>0.000000</td>\n",
       "      <td>0.000000</td>\n",
       "      <td>0.000000</td>\n",
       "      <td>0.000000</td>\n",
       "      <td>15.521645</td>\n",
       "      <td>0.000000</td>\n",
       "      <td>0.000000</td>\n",
       "      <td>0.000000</td>\n",
       "      <td>0.000000</td>\n",
       "    </tr>\n",
       "    <tr>\n",
       "      <th>2</th>\n",
       "      <td>coi1_1</td>\n",
       "      <td>coi.1.G2F.1</td>\n",
       "      <td>coi1</td>\n",
       "      <td>1</td>\n",
       "      <td>1.01.01</td>\n",
       "      <td>36.590004</td>\n",
       "      <td>14.735361</td>\n",
       "      <td>0.000000</td>\n",
       "      <td>0.000000</td>\n",
       "      <td>58.388002</td>\n",
       "      <td>...</td>\n",
       "      <td>0.0</td>\n",
       "      <td>0.000000</td>\n",
       "      <td>0.000000</td>\n",
       "      <td>0.000000</td>\n",
       "      <td>0.000000</td>\n",
       "      <td>76.250891</td>\n",
       "      <td>0.000000</td>\n",
       "      <td>0.000000</td>\n",
       "      <td>0.000000</td>\n",
       "      <td>0.000000</td>\n",
       "    </tr>\n",
       "    <tr>\n",
       "      <th>3</th>\n",
       "      <td>coi1_1</td>\n",
       "      <td>coi.1.G2E.1</td>\n",
       "      <td>coi1</td>\n",
       "      <td>1</td>\n",
       "      <td>1.01.01</td>\n",
       "      <td>36.590004</td>\n",
       "      <td>10.552052</td>\n",
       "      <td>0.000000</td>\n",
       "      <td>1.000161</td>\n",
       "      <td>19.548414</td>\n",
       "      <td>...</td>\n",
       "      <td>0.0</td>\n",
       "      <td>0.000000</td>\n",
       "      <td>0.000000</td>\n",
       "      <td>0.000000</td>\n",
       "      <td>0.000000</td>\n",
       "      <td>41.388120</td>\n",
       "      <td>73.847835</td>\n",
       "      <td>53.937879</td>\n",
       "      <td>0.000000</td>\n",
       "      <td>5.059001</td>\n",
       "    </tr>\n",
       "    <tr>\n",
       "      <th>4</th>\n",
       "      <td>coi1_10</td>\n",
       "      <td>coi.1.G2E.10</td>\n",
       "      <td>coi1</td>\n",
       "      <td>10</td>\n",
       "      <td>1.02.04</td>\n",
       "      <td>36.418731</td>\n",
       "      <td>15.229003</td>\n",
       "      <td>0.000000</td>\n",
       "      <td>0.000000</td>\n",
       "      <td>99.136624</td>\n",
       "      <td>...</td>\n",
       "      <td>0.0</td>\n",
       "      <td>15.577566</td>\n",
       "      <td>32.042486</td>\n",
       "      <td>0.000000</td>\n",
       "      <td>24.233666</td>\n",
       "      <td>47.555802</td>\n",
       "      <td>0.000000</td>\n",
       "      <td>54.228767</td>\n",
       "      <td>0.000000</td>\n",
       "      <td>0.000000</td>\n",
       "    </tr>\n",
       "    <tr>\n",
       "      <th>...</th>\n",
       "      <td>...</td>\n",
       "      <td>...</td>\n",
       "      <td>...</td>\n",
       "      <td>...</td>\n",
       "      <td>...</td>\n",
       "      <td>...</td>\n",
       "      <td>...</td>\n",
       "      <td>...</td>\n",
       "      <td>...</td>\n",
       "      <td>...</td>\n",
       "      <td>...</td>\n",
       "      <td>...</td>\n",
       "      <td>...</td>\n",
       "      <td>...</td>\n",
       "      <td>...</td>\n",
       "      <td>...</td>\n",
       "      <td>...</td>\n",
       "      <td>...</td>\n",
       "      <td>...</td>\n",
       "      <td>...</td>\n",
       "      <td>...</td>\n",
       "    </tr>\n",
       "    <tr>\n",
       "      <th>1087</th>\n",
       "      <td>npr1_97</td>\n",
       "      <td>npr.1.G1F.972</td>\n",
       "      <td>npr1</td>\n",
       "      <td>97</td>\n",
       "      <td>1.05.16</td>\n",
       "      <td>20.747628</td>\n",
       "      <td>4.210585</td>\n",
       "      <td>0.226497</td>\n",
       "      <td>0.000000</td>\n",
       "      <td>88.664582</td>\n",
       "      <td>...</td>\n",
       "      <td>0.0</td>\n",
       "      <td>4.623277</td>\n",
       "      <td>12.227030</td>\n",
       "      <td>3.334425</td>\n",
       "      <td>16.953341</td>\n",
       "      <td>12.097817</td>\n",
       "      <td>0.000000</td>\n",
       "      <td>13.795366</td>\n",
       "      <td>0.000000</td>\n",
       "      <td>0.000000</td>\n",
       "    </tr>\n",
       "    <tr>\n",
       "      <th>1088</th>\n",
       "      <td>npr1_97</td>\n",
       "      <td>npr.1.G2E.971</td>\n",
       "      <td>npr1</td>\n",
       "      <td>97</td>\n",
       "      <td>1.05.16</td>\n",
       "      <td>20.747628</td>\n",
       "      <td>3.895372</td>\n",
       "      <td>0.000000</td>\n",
       "      <td>0.000000</td>\n",
       "      <td>18.900222</td>\n",
       "      <td>...</td>\n",
       "      <td>0.0</td>\n",
       "      <td>5.101576</td>\n",
       "      <td>16.951453</td>\n",
       "      <td>7.924833</td>\n",
       "      <td>14.651827</td>\n",
       "      <td>48.519908</td>\n",
       "      <td>11.222415</td>\n",
       "      <td>24.590291</td>\n",
       "      <td>1.537600</td>\n",
       "      <td>0.000000</td>\n",
       "    </tr>\n",
       "    <tr>\n",
       "      <th>1089</th>\n",
       "      <td>npr1_97</td>\n",
       "      <td>npr.1.G2E.972</td>\n",
       "      <td>npr1</td>\n",
       "      <td>97</td>\n",
       "      <td>1.05.16</td>\n",
       "      <td>20.747628</td>\n",
       "      <td>7.494782</td>\n",
       "      <td>0.000000</td>\n",
       "      <td>0.000000</td>\n",
       "      <td>14.318503</td>\n",
       "      <td>...</td>\n",
       "      <td>0.0</td>\n",
       "      <td>7.547289</td>\n",
       "      <td>19.236880</td>\n",
       "      <td>3.313311</td>\n",
       "      <td>15.314539</td>\n",
       "      <td>42.074248</td>\n",
       "      <td>18.768019</td>\n",
       "      <td>27.416028</td>\n",
       "      <td>0.642859</td>\n",
       "      <td>3.857151</td>\n",
       "    </tr>\n",
       "    <tr>\n",
       "      <th>1090</th>\n",
       "      <td>npr1_97</td>\n",
       "      <td>npr.1.G2F.971</td>\n",
       "      <td>npr1</td>\n",
       "      <td>97</td>\n",
       "      <td>1.05.16</td>\n",
       "      <td>20.747628</td>\n",
       "      <td>1.965208</td>\n",
       "      <td>0.000000</td>\n",
       "      <td>0.000000</td>\n",
       "      <td>23.361068</td>\n",
       "      <td>...</td>\n",
       "      <td>0.0</td>\n",
       "      <td>1.803102</td>\n",
       "      <td>16.690115</td>\n",
       "      <td>4.551550</td>\n",
       "      <td>37.868097</td>\n",
       "      <td>132.109896</td>\n",
       "      <td>103.127734</td>\n",
       "      <td>0.000000</td>\n",
       "      <td>0.000000</td>\n",
       "      <td>0.000000</td>\n",
       "    </tr>\n",
       "    <tr>\n",
       "      <th>1091</th>\n",
       "      <td>npr1_97</td>\n",
       "      <td>npr.1.G2F.972</td>\n",
       "      <td>npr1</td>\n",
       "      <td>97</td>\n",
       "      <td>1.05.16</td>\n",
       "      <td>20.747628</td>\n",
       "      <td>4.988623</td>\n",
       "      <td>0.000000</td>\n",
       "      <td>0.866872</td>\n",
       "      <td>21.179064</td>\n",
       "      <td>...</td>\n",
       "      <td>0.0</td>\n",
       "      <td>0.000000</td>\n",
       "      <td>13.988056</td>\n",
       "      <td>19.073366</td>\n",
       "      <td>10.579138</td>\n",
       "      <td>107.261806</td>\n",
       "      <td>43.215895</td>\n",
       "      <td>31.564551</td>\n",
       "      <td>0.000000</td>\n",
       "      <td>2.960537</td>\n",
       "    </tr>\n",
       "  </tbody>\n",
       "</table>\n",
       "<p>1092 rows × 29107 columns</p>\n",
       "</div>"
      ],
      "text/plain": [
       "        Index      LibraryID HostGenoType  Sample  Isolate     Lesion  \\\n",
       "0      coi1_1    coi.1.G1E.1         coi1       1  1.01.01  36.590004   \n",
       "1      coi1_1    coi.1.G1F.1         coi1       1  1.01.01  36.590004   \n",
       "2      coi1_1    coi.1.G2F.1         coi1       1  1.01.01  36.590004   \n",
       "3      coi1_1    coi.1.G2E.1         coi1       1  1.01.01  36.590004   \n",
       "4     coi1_10   coi.1.G2E.10         coi1      10  1.02.04  36.418731   \n",
       "...       ...            ...          ...     ...      ...        ...   \n",
       "1087  npr1_97  npr.1.G1F.972         npr1      97  1.05.16  20.747628   \n",
       "1088  npr1_97  npr.1.G2E.971         npr1      97  1.05.16  20.747628   \n",
       "1089  npr1_97  npr.1.G2E.972         npr1      97  1.05.16  20.747628   \n",
       "1090  npr1_97  npr.1.G2F.971         npr1      97  1.05.16  20.747628   \n",
       "1091  npr1_97  npr.1.G2F.972         npr1      97  1.05.16  20.747628   \n",
       "\n",
       "      AT1G01010  AT1G01040  AT1G01046   AT1G01050  ...  BCIN18G00020  \\\n",
       "0     39.556340   0.000000   0.000000   21.373592  ...           0.0   \n",
       "1     16.918722   0.000000   0.000000  119.029216  ...           0.0   \n",
       "2     14.735361   0.000000   0.000000   58.388002  ...           0.0   \n",
       "3     10.552052   0.000000   1.000161   19.548414  ...           0.0   \n",
       "4     15.229003   0.000000   0.000000   99.136624  ...           0.0   \n",
       "...         ...        ...        ...         ...  ...           ...   \n",
       "1087   4.210585   0.226497   0.000000   88.664582  ...           0.0   \n",
       "1088   3.895372   0.000000   0.000000   18.900222  ...           0.0   \n",
       "1089   7.494782   0.000000   0.000000   14.318503  ...           0.0   \n",
       "1090   1.965208   0.000000   0.000000   23.361068  ...           0.0   \n",
       "1091   4.988623   0.000000   0.866872   21.179064  ...           0.0   \n",
       "\n",
       "      BCIN18G00060  BCIN18G00145  BCIN18G00180  BCIN18G00190  \\\n",
       "0         0.000000      0.000000      0.000000      0.000000   \n",
       "1         0.000000      0.000000      0.000000      0.000000   \n",
       "2         0.000000      0.000000      0.000000      0.000000   \n",
       "3         0.000000      0.000000      0.000000      0.000000   \n",
       "4        15.577566     32.042486      0.000000     24.233666   \n",
       "...            ...           ...           ...           ...   \n",
       "1087      4.623277     12.227030      3.334425     16.953341   \n",
       "1088      5.101576     16.951453      7.924833     14.651827   \n",
       "1089      7.547289     19.236880      3.313311     15.314539   \n",
       "1090      1.803102     16.690115      4.551550     37.868097   \n",
       "1091      0.000000     13.988056     19.073366     10.579138   \n",
       "\n",
       "      EFBCT00000013145  EFBCT00000013262  EFBCT00000013292  \\\n",
       "0            12.438875          0.000000          0.000000   \n",
       "1            15.521645          0.000000          0.000000   \n",
       "2            76.250891          0.000000          0.000000   \n",
       "3            41.388120         73.847835         53.937879   \n",
       "4            47.555802          0.000000         54.228767   \n",
       "...                ...               ...               ...   \n",
       "1087         12.097817          0.000000         13.795366   \n",
       "1088         48.519908         11.222415         24.590291   \n",
       "1089         42.074248         18.768019         27.416028   \n",
       "1090        132.109896        103.127734          0.000000   \n",
       "1091        107.261806         43.215895         31.564551   \n",
       "\n",
       "      ENSRNA049512921.T1  ENSRNA049513883.T1  \n",
       "0               0.000000            5.321551  \n",
       "1               0.000000            0.000000  \n",
       "2               0.000000            0.000000  \n",
       "3               0.000000            5.059001  \n",
       "4               0.000000            0.000000  \n",
       "...                  ...                 ...  \n",
       "1087            0.000000            0.000000  \n",
       "1088            1.537600            0.000000  \n",
       "1089            0.642859            3.857151  \n",
       "1090            0.000000            0.000000  \n",
       "1091            0.000000            2.960537  \n",
       "\n",
       "[1092 rows x 29107 columns]"
      ]
     },
     "execution_count": 3,
     "metadata": {},
     "output_type": "execute_result"
    }
   ],
   "source": [
    "# load complete training dataframe\n",
    "df = pd.read_pickle(\"./01_AtBot_data.pkl\")\n",
    "print(f\"Number of data samples: {len(df)}\")\n",
    "print(f\"Number of features: {len(df.columns)-6}\")\n",
    "\n",
    "# extract feature names from RNASeq data\n",
    "gene_names = list(df)[6:29107]\n",
    "\n",
    "# Arabidopsis only feature gene set\n",
    "n_At = 20340\n",
    "At_list = gene_names[0:n_At]\n",
    "print(f\"Number of At genes: {n_At}\")\n",
    "df"
   ]
  },
  {
   "cell_type": "markdown",
   "id": "5647a21a-8164-4bee-8dc8-2306588605d2",
   "metadata": {},
   "source": [
    "### Features list"
   ]
  },
  {
   "cell_type": "code",
   "execution_count": 4,
   "id": "e1de66dd-50b3-4513-be13-95251b3dc003",
   "metadata": {},
   "outputs": [],
   "source": [
    "df_At_pos_corr = pd.read_csv(\"../data/raw/top_correlation/AtTop1000PositiveCorLesion.csv\")\n",
    "At_pos_corr_features = df_At_pos_corr['GeneID'].to_list()\n",
    "\n",
    "# df_At_neg_corr = pd.read_csv(\"../data/raw/top_correlation/AtTop1000NegativeCorLesion.csv\")\n",
    "# At_neg_corr_features = df_At_neg_corr['GeneID'].to_list()"
   ]
  },
  {
   "cell_type": "code",
   "execution_count": 5,
   "id": "84e5acc4-2e4a-480d-8bbb-a525dca75da1",
   "metadata": {},
   "outputs": [
    {
     "name": "stdout",
     "output_type": "stream",
     "text": [
      "Number of features: 1000\n",
      "Unique features: 1000\n",
      "Intersection: 786\n"
     ]
    }
   ],
   "source": [
    "features = At_pos_corr_features\n",
    "feature_title = \"Positive Correlations\"\n",
    "nb_long_id = f'{nb_id}_TopCorr_Pos' # Pos, Neg, PosNeg\n",
    "\n",
    "# features = At_neg_corr_features\n",
    "# feature_title = \"Negative Correlations\"\n",
    "# nb_long_id = f'{nb_id}_TopCorr_Neg' # Pos, Neg, PosNeg\n",
    "\n",
    "# features = set(At_pos_corr_features) | set(At_neg_corr_features)\n",
    "# feature_title = \"Positive/Negative Correlations\"\n",
    "# nb_long_id = f'{nb_id}_TopCorr_PosNeg' # Pos, Neg, PosNeg\n",
    "\n",
    "\n",
    "print(f'Number of features: {len(features)}')\n",
    "print(f'Unique features: {len(set(features))}')\n",
    "\n",
    "ugene_names = [each_string.upper() for each_string in gene_names]\n",
    "common_features = set(features) & set(ugene_names)\n",
    "\n",
    "features_list = common_features\n",
    "topN = len(features_list)\n",
    "\n",
    "print(f'Intersection: {len(common_features)}')"
   ]
  },
  {
   "cell_type": "code",
   "execution_count": 7,
   "id": "e57df4e0-db70-4e61-aacb-0ec915a5234a",
   "metadata": {},
   "outputs": [],
   "source": [
    "# save features\n",
    "df_fs = pd.DataFrame(features_list) \n",
    "df_fs.to_csv(f\"../results/03_At/features/{nb_long_id}_list_{topN}.csv\", header=False, index=False)"
   ]
  },
  {
   "cell_type": "markdown",
   "id": "73ddc2ab-484f-4d29-9567-5c8fe22d3b92",
   "metadata": {},
   "source": [
    "### Training, validation, and test data"
   ]
  },
  {
   "cell_type": "code",
   "execution_count": 6,
   "id": "db40d8fd-b195-4ad0-a21a-2f305757f738",
   "metadata": {},
   "outputs": [
    {
     "name": "stdout",
     "output_type": "stream",
     "text": [
      "Training and validation sets\n",
      "X_train: (2060, 786)\n",
      "X_test: (328, 786)\n",
      "y_train: (2060,)\n",
      "y_test: (328,)\n",
      "\n",
      "Test set\n",
      "At_X_test_scaled: (6, 786)\n",
      "\n",
      "AtPsy Test set\n",
      "At_X_test_scaled: (100, 786)\n"
     ]
    }
   ],
   "source": [
    "# load training, validation data\n",
    "f = open(\"01_train_test_data.pkl\", 'rb')\n",
    "train_test_data = pickle.load(f)\n",
    "f.close()\n",
    "\n",
    "df_X_train = train_test_data['df_X_train']\n",
    "df_X_train = df_X_train.loc[:,features_list]\n",
    "\n",
    "df_X_test = train_test_data['df_X_test']\n",
    "df_X_test = df_X_test.loc[:,features_list]\n",
    "\n",
    "y_train = train_test_data['y_train']\n",
    "y_test = train_test_data['y_test']\n",
    "scaler = train_test_data['scaler']\n",
    "\n",
    "print(f\"Training and validation sets\")\n",
    "print(f\"X_train: {np.shape(df_X_train)}\")\n",
    "print(f\"X_test: {np.shape(df_X_test)}\")\n",
    "print(f\"y_train: {np.shape(y_train)}\")\n",
    "print(f\"y_test: {np.shape(y_test)}\")\n",
    "\n",
    "# At Only test data\n",
    "f = open(\"01_At_test_data.pkl\", 'rb')\n",
    "df_At_X_test_scaled = pickle.load(f)\n",
    "f.close()\n",
    "\n",
    "df_At_X_test_scaled = df_At_X_test_scaled.loc[:,features_list]\n",
    "\n",
    "print(f\"\\nTest set\")\n",
    "print(f\"At_X_test_scaled: {np.shape(df_At_X_test_scaled)}\")\n",
    "\n",
    "# At-Psy test data\n",
    "f = open(\"01_AtPsy_test_data.pkl\", 'rb')\n",
    "df_AtPsy_X_test_scaled = pickle.load(f)\n",
    "f.close()\n",
    "\n",
    "df_AtPsy_X_test_scaled = df_AtPsy_X_test_scaled.loc[:,features_list]\n",
    "\n",
    "print(f\"\\nAtPsy Test set\")\n",
    "print(f\"At_X_test_scaled: {np.shape(df_AtPsy_X_test_scaled)}\")\n",
    "\n",
    "X_train = df_X_train.to_numpy()\n",
    "X_test = df_X_test.to_numpy()\n",
    "At_X_test_scaled = df_At_X_test_scaled.to_numpy()\n",
    "AtPsy_X_test_scaled = df_AtPsy_X_test_scaled.to_numpy()"
   ]
  },
  {
   "cell_type": "code",
   "execution_count": 7,
   "id": "e53aa6c6-f1f3-40f3-b8e4-1ed822df8be9",
   "metadata": {},
   "outputs": [],
   "source": [
    "X_train = df_X_train.to_numpy()\n",
    "X_test = df_X_test.to_numpy()\n",
    "At_X_test_scaled = df_At_X_test_scaled.to_numpy()"
   ]
  },
  {
   "cell_type": "markdown",
   "id": "09567cd5-350e-4e20-802b-f72836c4a26a",
   "metadata": {},
   "source": [
    "## DNN"
   ]
  },
  {
   "cell_type": "markdown",
   "id": "c5f48930-3116-47c2-9f80-69c764ed930f",
   "metadata": {},
   "source": [
    "Classification accuracy is almost universally inappropriate for imbalanced classification.\n",
    "\n",
    "For imbalanced classification problems, the *majority class* is typically referred to as the negative outcome (e.g. such as “no change” or “negative test result“), and the *minority class* is typically referred to as the positive outcome (e.g. “change” or “positive test result“).\n",
    "\n",
    "**Sensitivity-Specificity Metrics** <br>\n",
    "Sensitivity = TruePositive / (TruePositive + FalseNegative) *<br>\n",
    "Specificity = TrueNegative / (FalsePositive + TrueNegative) <br>\n",
    "G-Mean = sqrt(Sensitivity * Specificity)<br>\n",
    "\n",
    "\n",
    "\n",
    "\n",
    "**Precision-Recall Metrics**<br>\n",
    "Precision = TruePositive / (TruePositive + FalsePositive)<br>\n",
    "Recall = TruePositive / (TruePositive + FalseNegative)<br>\n",
    "F-Measure = (2 * Precision * Recall) / (Precision + Recall) *\n",
    "\n",
    "### Train"
   ]
  },
  {
   "cell_type": "code",
   "execution_count": 8,
   "id": "ce9c8456-8ae5-42aa-87ff-0db9f1cf04f9",
   "metadata": {
    "scrolled": true,
    "tags": []
   },
   "outputs": [
    {
     "name": "stderr",
     "output_type": "stream",
     "text": [
      "2021-09-21 18:36:41.919336: I tensorflow/compiler/jit/xla_cpu_device.cc:41] Not creating XLA devices, tf_xla_enable_xla_devices not set\n",
      "2021-09-21 18:36:41.919504: I tensorflow/core/platform/cpu_feature_guard.cc:142] This TensorFlow binary is optimized with oneAPI Deep Neural Network Library (oneDNN) to use the following CPU instructions in performance-critical operations:  AVX2 FMA\n",
      "To enable them in other operations, rebuild TensorFlow with the appropriate compiler flags.\n",
      "2021-09-21 18:36:41.956431: I tensorflow/compiler/mlir/mlir_graph_optimization_pass.cc:116] None of the MLIR optimization passes are enabled (registered 2)\n"
     ]
    },
    {
     "name": "stdout",
     "output_type": "stream",
     "text": [
      "Epoch 1/50\n",
      "65/65 [==============================] - 1s 9ms/step - loss: 2.2057 - sparse_categorical_accuracy: 0.3495 - val_loss: 2.6434 - val_sparse_categorical_accuracy: 0.2134\n",
      "Epoch 2/50\n",
      "65/65 [==============================] - 0s 2ms/step - loss: 0.9679 - sparse_categorical_accuracy: 0.6617 - val_loss: 2.4734 - val_sparse_categorical_accuracy: 0.2866\n",
      "Epoch 3/50\n",
      "65/65 [==============================] - 0s 3ms/step - loss: 0.6936 - sparse_categorical_accuracy: 0.7532 - val_loss: 2.5812 - val_sparse_categorical_accuracy: 0.2591\n",
      "Epoch 4/50\n",
      "65/65 [==============================] - 0s 3ms/step - loss: 0.5692 - sparse_categorical_accuracy: 0.8076 - val_loss: 2.6759 - val_sparse_categorical_accuracy: 0.2805\n",
      "Epoch 5/50\n",
      "65/65 [==============================] - 0s 3ms/step - loss: 0.4836 - sparse_categorical_accuracy: 0.8212 - val_loss: 2.7968 - val_sparse_categorical_accuracy: 0.2470\n",
      "Epoch 6/50\n",
      "65/65 [==============================] - 0s 2ms/step - loss: 0.3763 - sparse_categorical_accuracy: 0.8780 - val_loss: 2.8246 - val_sparse_categorical_accuracy: 0.2317\n",
      "Epoch 7/50\n",
      "65/65 [==============================] - 0s 2ms/step - loss: 0.3127 - sparse_categorical_accuracy: 0.9019 - val_loss: 3.0492 - val_sparse_categorical_accuracy: 0.2957\n",
      "Epoch 8/50\n",
      "65/65 [==============================] - 0s 3ms/step - loss: 0.2996 - sparse_categorical_accuracy: 0.8993 - val_loss: 3.1369 - val_sparse_categorical_accuracy: 0.2317\n",
      "Epoch 9/50\n",
      "65/65 [==============================] - 0s 3ms/step - loss: 0.3088 - sparse_categorical_accuracy: 0.8950 - val_loss: 3.0801 - val_sparse_categorical_accuracy: 0.2439\n",
      "Epoch 10/50\n",
      "65/65 [==============================] - 0s 2ms/step - loss: 0.2609 - sparse_categorical_accuracy: 0.9181 - val_loss: 3.5409 - val_sparse_categorical_accuracy: 0.2805\n",
      "Epoch 11/50\n",
      "65/65 [==============================] - 0s 2ms/step - loss: 0.2329 - sparse_categorical_accuracy: 0.9248 - val_loss: 3.5999 - val_sparse_categorical_accuracy: 0.2165\n",
      "Epoch 12/50\n",
      "65/65 [==============================] - 0s 2ms/step - loss: 0.2405 - sparse_categorical_accuracy: 0.9196 - val_loss: 3.7974 - val_sparse_categorical_accuracy: 0.2652\n",
      "Epoch 13/50\n",
      "65/65 [==============================] - 0s 3ms/step - loss: 0.2216 - sparse_categorical_accuracy: 0.9219 - val_loss: 3.7221 - val_sparse_categorical_accuracy: 0.2195\n",
      "Epoch 14/50\n",
      "65/65 [==============================] - 0s 2ms/step - loss: 0.1816 - sparse_categorical_accuracy: 0.9370 - val_loss: 3.7796 - val_sparse_categorical_accuracy: 0.2774\n",
      "Epoch 15/50\n",
      "65/65 [==============================] - 0s 2ms/step - loss: 0.1360 - sparse_categorical_accuracy: 0.9640 - val_loss: 3.9662 - val_sparse_categorical_accuracy: 0.2713\n",
      "Epoch 16/50\n",
      "65/65 [==============================] - 0s 2ms/step - loss: 0.1118 - sparse_categorical_accuracy: 0.9642 - val_loss: 4.1456 - val_sparse_categorical_accuracy: 0.2348\n",
      "Epoch 17/50\n",
      "65/65 [==============================] - 0s 2ms/step - loss: 0.1417 - sparse_categorical_accuracy: 0.9543 - val_loss: 4.1488 - val_sparse_categorical_accuracy: 0.2622\n",
      "Epoch 18/50\n",
      "65/65 [==============================] - 0s 2ms/step - loss: 0.1616 - sparse_categorical_accuracy: 0.9396 - val_loss: 4.3914 - val_sparse_categorical_accuracy: 0.2591\n",
      "Epoch 19/50\n",
      "65/65 [==============================] - 0s 3ms/step - loss: 0.1321 - sparse_categorical_accuracy: 0.9661 - val_loss: 4.7205 - val_sparse_categorical_accuracy: 0.2561\n",
      "Epoch 20/50\n",
      "65/65 [==============================] - 0s 2ms/step - loss: 0.1003 - sparse_categorical_accuracy: 0.9698 - val_loss: 4.4472 - val_sparse_categorical_accuracy: 0.2256\n",
      "Epoch 21/50\n",
      "65/65 [==============================] - 0s 2ms/step - loss: 0.1355 - sparse_categorical_accuracy: 0.9589 - val_loss: 4.4346 - val_sparse_categorical_accuracy: 0.2835\n",
      "Epoch 22/50\n",
      "65/65 [==============================] - 0s 2ms/step - loss: 0.1054 - sparse_categorical_accuracy: 0.9676 - val_loss: 4.4633 - val_sparse_categorical_accuracy: 0.2896\n",
      "Epoch 23/50\n",
      "65/65 [==============================] - 0s 2ms/step - loss: 0.0725 - sparse_categorical_accuracy: 0.9815 - val_loss: 4.5417 - val_sparse_categorical_accuracy: 0.2378\n",
      "Epoch 24/50\n",
      "65/65 [==============================] - 0s 2ms/step - loss: 0.0859 - sparse_categorical_accuracy: 0.9733 - val_loss: 4.4234 - val_sparse_categorical_accuracy: 0.2713\n",
      "Epoch 25/50\n",
      "65/65 [==============================] - 0s 3ms/step - loss: 0.1594 - sparse_categorical_accuracy: 0.9540 - val_loss: 5.0060 - val_sparse_categorical_accuracy: 0.2256\n",
      "Epoch 26/50\n",
      "65/65 [==============================] - 0s 3ms/step - loss: 0.1344 - sparse_categorical_accuracy: 0.9612 - val_loss: 5.2299 - val_sparse_categorical_accuracy: 0.2835\n",
      "Epoch 27/50\n",
      "65/65 [==============================] - 0s 2ms/step - loss: 0.1505 - sparse_categorical_accuracy: 0.9457 - val_loss: 5.1805 - val_sparse_categorical_accuracy: 0.2622\n",
      "Epoch 28/50\n",
      "65/65 [==============================] - 0s 2ms/step - loss: 0.0872 - sparse_categorical_accuracy: 0.9740 - val_loss: 5.0539 - val_sparse_categorical_accuracy: 0.2683\n",
      "Epoch 29/50\n",
      "65/65 [==============================] - 0s 2ms/step - loss: 0.0689 - sparse_categorical_accuracy: 0.9801 - val_loss: 5.3928 - val_sparse_categorical_accuracy: 0.2622\n",
      "Epoch 30/50\n",
      "65/65 [==============================] - 0s 2ms/step - loss: 0.1259 - sparse_categorical_accuracy: 0.9610 - val_loss: 5.3729 - val_sparse_categorical_accuracy: 0.2226\n",
      "Epoch 31/50\n",
      "65/65 [==============================] - 0s 2ms/step - loss: 0.0691 - sparse_categorical_accuracy: 0.9770 - val_loss: 5.5248 - val_sparse_categorical_accuracy: 0.2470\n",
      "Epoch 32/50\n",
      "65/65 [==============================] - 0s 2ms/step - loss: 0.0798 - sparse_categorical_accuracy: 0.9820 - val_loss: 5.8951 - val_sparse_categorical_accuracy: 0.2378\n",
      "Epoch 33/50\n",
      "65/65 [==============================] - 0s 3ms/step - loss: 0.1280 - sparse_categorical_accuracy: 0.9622 - val_loss: 5.7841 - val_sparse_categorical_accuracy: 0.2530\n",
      "Epoch 34/50\n",
      "65/65 [==============================] - 0s 3ms/step - loss: 0.0793 - sparse_categorical_accuracy: 0.9712 - val_loss: 5.9881 - val_sparse_categorical_accuracy: 0.2652\n",
      "Epoch 35/50\n",
      "65/65 [==============================] - 0s 2ms/step - loss: 0.1456 - sparse_categorical_accuracy: 0.9698 - val_loss: 6.3349 - val_sparse_categorical_accuracy: 0.2409\n",
      "Epoch 36/50\n",
      "65/65 [==============================] - 0s 2ms/step - loss: 0.1017 - sparse_categorical_accuracy: 0.9628 - val_loss: 6.6005 - val_sparse_categorical_accuracy: 0.2317\n",
      "Epoch 37/50\n",
      "65/65 [==============================] - 0s 2ms/step - loss: 0.0831 - sparse_categorical_accuracy: 0.9761 - val_loss: 5.8454 - val_sparse_categorical_accuracy: 0.2683\n",
      "Epoch 38/50\n",
      "65/65 [==============================] - 0s 2ms/step - loss: 0.0653 - sparse_categorical_accuracy: 0.9798 - val_loss: 5.8638 - val_sparse_categorical_accuracy: 0.2287\n",
      "Epoch 39/50\n",
      "65/65 [==============================] - 0s 2ms/step - loss: 0.0669 - sparse_categorical_accuracy: 0.9808 - val_loss: 6.1748 - val_sparse_categorical_accuracy: 0.2561\n",
      "Epoch 40/50\n",
      "65/65 [==============================] - 0s 2ms/step - loss: 0.0907 - sparse_categorical_accuracy: 0.9750 - val_loss: 6.1450 - val_sparse_categorical_accuracy: 0.2774\n",
      "Epoch 41/50\n",
      "65/65 [==============================] - 0s 2ms/step - loss: 0.0562 - sparse_categorical_accuracy: 0.9822 - val_loss: 6.7195 - val_sparse_categorical_accuracy: 0.2774\n",
      "Epoch 42/50\n",
      "65/65 [==============================] - 0s 2ms/step - loss: 0.1369 - sparse_categorical_accuracy: 0.9670 - val_loss: 6.6437 - val_sparse_categorical_accuracy: 0.2927\n",
      "Epoch 43/50\n",
      "65/65 [==============================] - 0s 2ms/step - loss: 0.0963 - sparse_categorical_accuracy: 0.9667 - val_loss: 6.9469 - val_sparse_categorical_accuracy: 0.2500\n",
      "Epoch 44/50\n",
      "65/65 [==============================] - 0s 2ms/step - loss: 0.0696 - sparse_categorical_accuracy: 0.9767 - val_loss: 6.6168 - val_sparse_categorical_accuracy: 0.2470\n",
      "Epoch 45/50\n",
      "65/65 [==============================] - 0s 2ms/step - loss: 0.0441 - sparse_categorical_accuracy: 0.9853 - val_loss: 6.5527 - val_sparse_categorical_accuracy: 0.2530\n",
      "Epoch 46/50\n",
      "65/65 [==============================] - 0s 3ms/step - loss: 0.0445 - sparse_categorical_accuracy: 0.9877 - val_loss: 6.9999 - val_sparse_categorical_accuracy: 0.2744\n",
      "Epoch 47/50\n",
      "65/65 [==============================] - 0s 3ms/step - loss: 0.0690 - sparse_categorical_accuracy: 0.9788 - val_loss: 6.7489 - val_sparse_categorical_accuracy: 0.2287\n",
      "Epoch 48/50\n",
      "65/65 [==============================] - 0s 3ms/step - loss: 0.0578 - sparse_categorical_accuracy: 0.9804 - val_loss: 6.7602 - val_sparse_categorical_accuracy: 0.2439\n",
      "Epoch 49/50\n",
      "65/65 [==============================] - 0s 3ms/step - loss: 0.0574 - sparse_categorical_accuracy: 0.9787 - val_loss: 7.0937 - val_sparse_categorical_accuracy: 0.2561\n",
      "Epoch 50/50\n",
      "65/65 [==============================] - 0s 2ms/step - loss: 0.0351 - sparse_categorical_accuracy: 0.9901 - val_loss: 7.1834 - val_sparse_categorical_accuracy: 0.2470\n",
      "Model: \"sequential\"\n",
      "_________________________________________________________________\n",
      "Layer (type)                 Output Shape              Param #   \n",
      "=================================================================\n",
      "batch_normalization (BatchNo (None, 786)               3144      \n",
      "_________________________________________________________________\n",
      "flatten (Flatten)            (None, 786)               0         \n",
      "_________________________________________________________________\n",
      "dense (Dense)                (None, 512)               402944    \n",
      "_________________________________________________________________\n",
      "dropout (Dropout)            (None, 512)               0         \n",
      "_________________________________________________________________\n",
      "dense_1 (Dense)              (None, 10)                5130      \n",
      "=================================================================\n",
      "Total params: 411,218\n",
      "Trainable params: 409,646\n",
      "Non-trainable params: 1,572\n",
      "_________________________________________________________________\n",
      "\n",
      "elapsed time: 0.15 mins\n"
     ]
    }
   ],
   "source": [
    "model, history = train_dnn_1layer(X_train, y_train, X_test, y_test, num_classes, epochs=50)"
   ]
  },
  {
   "cell_type": "markdown",
   "id": "95915a3a-bd33-4992-8a69-879bb49b516b",
   "metadata": {},
   "source": [
    "### Test1"
   ]
  },
  {
   "cell_type": "code",
   "execution_count": 9,
   "id": "c6b83a05-6eed-4924-a823-b395f916276d",
   "metadata": {},
   "outputs": [
    {
     "name": "stderr",
     "output_type": "stream",
     "text": [
      "/Users/jayson/miniconda3/envs/py38/lib/python3.8/site-packages/sklearn/metrics/_classification.py:1245: UndefinedMetricWarning: Precision is ill-defined and being set to 0.0 in labels with no predicted samples. Use `zero_division` parameter to control this behavior.\n",
      "  _warn_prf(average, modifier, msg_start, len(result))\n"
     ]
    },
    {
     "name": "stdout",
     "output_type": "stream",
     "text": [
      "Accuracy:\t 24.70%\n",
      "Precision:\t 16.18%\n",
      "Recall:\t\t 15.52%\n",
      "F1 score:\t 15.56%\n"
     ]
    },
    {
     "name": "stderr",
     "output_type": "stream",
     "text": [
      "2021-09-21 18:37:07.094472: W tensorflow/python/util/util.cc:348] Sets are not currently considered sequences, but this may change in the future, so consider avoiding using them.\n"
     ]
    },
    {
     "name": "stdout",
     "output_type": "stream",
     "text": [
      "INFO:tensorflow:Assets written to: ./models/03a10b_TopCorr_Pos_dnn_model_f786/assets\n",
      "Written to: ./models/03a10b_TopCorr_Pos_dnn_results_f786.pkl\n"
     ]
    },
    {
     "data": {
      "image/png": "[encoded data removed]",
      "text/plain": [
       "<Figure size 720x504 with 2 Axes>"
      ]
     },
     "metadata": {},
     "output_type": "display_data"
    }
   ],
   "source": [
    "# Evaluate performance on Test set1\n",
    "predictions = model.predict(X_test)\n",
    "dnn_y_pred = np.argmax(predictions, 1)\n",
    "dnn_score = get_sk_metrics(y_test, dnn_y_pred)\n",
    "dnn_cm = plot_confusion_matrix(y_test, dnn_y_pred)\n",
    "\n",
    "# save the keras model and results\n",
    "filename = f\"./models/{nb_long_id}_dnn_model_f{topN}\"\n",
    "model.save(filename)\n",
    "\n",
    "filename = f\"./models/{nb_long_id}_dnn_results_f{topN}.pkl\"\n",
    "pickle.dump([history.history, dnn_score, dnn_cm], open(filename, 'wb'))\n",
    "print(f\"Written to: {filename}\")"
   ]
  },
  {
   "cell_type": "markdown",
   "id": "cf077907-217a-42bf-a26d-455c3b2161f7",
   "metadata": {},
   "source": [
    "### Test2"
   ]
  },
  {
   "cell_type": "code",
   "execution_count": 10,
   "id": "07eeb531-765a-4ab8-9c34-ad5c1ce25027",
   "metadata": {},
   "outputs": [
    {
     "name": "stdout",
     "output_type": "stream",
     "text": [
      "Written to: ../results/03_At/prediction/03a10b_TopCorr_Pos_dnn_test_predict_f786.pkl\n"
     ]
    },
    {
     "data": {
      "text/plain": [
       "array([1, 2, 2, 3, 5, 3])"
      ]
     },
     "execution_count": 10,
     "metadata": {},
     "output_type": "execute_result"
    }
   ],
   "source": [
    "# Evaluate performance on Test set2\n",
    "predictions = model.predict(At_X_test_scaled)\n",
    "dnn_y_pred = np.argmax(predictions, 1)\n",
    "\n",
    "filename = f\"../results/03_At/prediction/{nb_long_id}_dnn_test_predict_f{topN}.pkl\"\n",
    "pickle.dump(dnn_y_pred, open(filename, 'wb'))\n",
    "print(f\"Written to: {filename}\")\n",
    "\n",
    "dnn_y_pred"
   ]
  },
  {
   "cell_type": "markdown",
   "id": "427858cf-9230-40d2-87ab-4632343329a0",
   "metadata": {},
   "source": [
    "### Test3 AtPsy"
   ]
  },
  {
   "cell_type": "code",
   "execution_count": 11,
   "id": "9147c2f7-abd7-4469-8846-b89cfaace393",
   "metadata": {},
   "outputs": [],
   "source": [
    "# # load model and results\n",
    "# filename = f'./models/{nb_long_id}_dnn_model_f{topN}'\n",
    "# print(filename)\n",
    "# model = keras.models.load_model(filename)\n",
    "\n",
    "# filename = f'./models/{nb_long_id}_dnn_results_f{topN}.pkl'\n",
    "# # history, dnn_score, dnn_cm = pickle.load(open(filename,'rb'))\n",
    "\n",
    "# predictions = model.predict(X_test)\n",
    "# dnn_y_pred = np.argmax(predictions, 1)\n",
    "# dnn_score = get_sk_metrics(y_test, dnn_y_pred)\n",
    "# dnn_cm = plot_confusion_matrix(y_test, dnn_y_pred)"
   ]
  },
  {
   "cell_type": "code",
   "execution_count": 12,
   "id": "db154c19-20ef-465f-9d6a-695adb9838a9",
   "metadata": {},
   "outputs": [
    {
     "name": "stdout",
     "output_type": "stream",
     "text": [
      "Written to: ../results/03_At/prediction/03a10b_TopCorr_Pos_dnn_test_AtPsy_predict_f786.pkl\n"
     ]
    },
    {
     "data": {
      "text/plain": [
       "array([4, 3, 5, 3, 5, 5, 5, 5, 4, 2, 4, 2, 5, 5, 5, 5, 4, 3, 4, 3, 5, 5,\n",
       "       5, 3, 4, 3, 5, 2, 4, 3, 5, 3, 4, 3, 4, 3, 4, 3, 4, 4, 5, 4, 4, 3,\n",
       "       4, 4, 3, 4, 4, 3, 2, 3, 4, 5, 4, 5, 5, 5, 5, 5, 4, 4, 4, 4, 3, 4,\n",
       "       4, 5, 3, 4, 4, 4, 3, 4, 4, 4, 5, 4, 4, 4, 4, 4, 4, 5, 4, 4, 4, 2,\n",
       "       3, 5, 5, 2, 4, 4, 4, 4, 4, 4, 4, 4])"
      ]
     },
     "execution_count": 12,
     "metadata": {},
     "output_type": "execute_result"
    }
   ],
   "source": [
    "X_test_scaled = AtPsy_X_test_scaled\n",
    "\n",
    "predictions = model.predict(X_test_scaled)\n",
    "dnn_y_pred = np.argmax(predictions, 1)\n",
    "\n",
    "filename = f\"../results/03_At/prediction/{nb_long_id}_dnn_test_AtPsy_predict_f{topN}.pkl\"\n",
    "pickle.dump(dnn_y_pred, open(filename, 'wb'))\n",
    "print(f\"Written to: {filename}\")\n",
    "\n",
    "dnn_y_pred"
   ]
  },
  {
   "cell_type": "markdown",
   "id": "63969112-a843-402a-b860-1300a852f7ea",
   "metadata": {},
   "source": [
    "## XGBoost\n",
    "XGBoost is an implementation of gradient boosted decision trees designed for speed and performance.\n",
    "\n",
    "### Train"
   ]
  },
  {
   "cell_type": "code",
   "execution_count": 13,
   "id": "06860ec0-cff9-4ced-afb3-c2cab775de2d",
   "metadata": {},
   "outputs": [
    {
     "name": "stderr",
     "output_type": "stream",
     "text": [
      "/Users/jayson/miniconda3/envs/py38/lib/python3.8/site-packages/xgboost/sklearn.py:888: UserWarning: The use of label encoder in XGBClassifier is deprecated and will be removed in a future release. To remove this warning, do the following: 1) Pass option use_label_encoder=False when constructing XGBClassifier object; and 2) Encode your labels (y) as integers starting with 0, i.e. 0, 1, 2, ..., [num_class - 1].\n",
      "  warnings.warn(label_encoder_deprecation_msg, UserWarning)\n"
     ]
    },
    {
     "name": "stdout",
     "output_type": "stream",
     "text": [
      "[18:38:21] WARNING: /Users/runner/miniforge3/conda-bld/xgboost_1607604592557/work/src/learner.cc:1061: Starting in XGBoost 1.3.0, the default evaluation metric used with the objective 'multi:softprob' was changed from 'merror' to 'mlogloss'. Explicitly set eval_metric if you'd like to restore the old behavior.\n",
      "\n",
      "elapsed time: 0.16 mins\n",
      "\n"
     ]
    }
   ],
   "source": [
    "xgb = XGBClassifier()\n",
    "\n",
    "t0 = time.time()\n",
    "xgb.fit(X_train, y_train)\n",
    "t = time.time() - t0\n",
    "\n",
    "print(f\"\\nelapsed time: {(t/60):.2f} mins\")\n",
    "print()"
   ]
  },
  {
   "cell_type": "markdown",
   "id": "12cd5d70-6009-4e9d-add9-7a150601ea9f",
   "metadata": {},
   "source": [
    "### Test1"
   ]
  },
  {
   "cell_type": "code",
   "execution_count": 15,
   "id": "35649cb4-1c6e-47fe-a721-9638ac092027",
   "metadata": {},
   "outputs": [
    {
     "name": "stdout",
     "output_type": "stream",
     "text": [
      "Accuracy:\t 28.05%\n",
      "Precision:\t 16.59%\n",
      "Recall:\t\t 17.05%\n",
      "F1 score:\t 16.64%\n",
      "Written to: ./models/03a10b_TopCorr_Pos_xgb_model_results_f786.pkl\n"
     ]
    },
    {
     "data": {
      "image/png": "[encoded data removed]",
      "text/plain": [
       "<Figure size 720x504 with 2 Axes>"
      ]
     },
     "metadata": {},
     "output_type": "display_data"
    }
   ],
   "source": [
    "xgb_y_pred = xgb.predict(X_test)\n",
    "xgb_score = get_sk_metrics(y_test, xgb_y_pred, average='macro')\n",
    "xgb_cm = plot_confusion_matrix(y_test, xgb_y_pred)\n",
    "\n",
    "filename = f\"./models/{nb_long_id}_xgb_model_results_f{topN}.pkl\"\n",
    "pickle.dump([xgb, xgb_score, xgb_cm], open(filename, 'wb'))\n",
    "print(f\"Written to: {filename}\")"
   ]
  },
  {
   "cell_type": "markdown",
   "id": "d6228ce2-7ab8-4959-8ec5-10795694e5ad",
   "metadata": {},
   "source": [
    "### Test2"
   ]
  },
  {
   "cell_type": "code",
   "execution_count": 16,
   "id": "234f69a3-16d9-4050-9f73-765c31e91b58",
   "metadata": {},
   "outputs": [
    {
     "name": "stdout",
     "output_type": "stream",
     "text": [
      "Written to: ../results/03_At/prediction/03a10b_TopCorr_Pos_xgb_test_predict_f786.pkl\n"
     ]
    },
    {
     "data": {
      "text/plain": [
       "array([0., 1., 2., 2., 2., 5.])"
      ]
     },
     "execution_count": 16,
     "metadata": {},
     "output_type": "execute_result"
    }
   ],
   "source": [
    "xgb_y_pred = xgb.predict(At_X_test_scaled)\n",
    "\n",
    "filename = f\"../results/03_At/prediction/{nb_long_id}_xgb_test_predict_f{topN}.pkl\"\n",
    "pickle.dump(xgb_y_pred, open(filename, 'wb'))\n",
    "print(f\"Written to: {filename}\")\n",
    "xgb_y_pred"
   ]
  },
  {
   "cell_type": "markdown",
   "id": "29e9f643-3f42-47ed-a483-6519b896feef",
   "metadata": {},
   "source": [
    "### Test3 AtPsy"
   ]
  },
  {
   "cell_type": "code",
   "execution_count": 17,
   "id": "39e30dde-10cb-47a9-8edc-d8139a4121cb",
   "metadata": {},
   "outputs": [],
   "source": [
    "# filename = f'./models/{nb_long_id}_xgb_model_results_f{topN}.pkl'\n",
    "# print(filename)\n",
    "# xgb, xgb_score, xgb_cm = pickle.load(open(filename,'rb'))\n",
    "\n",
    "# xgb_y_pred = xgb.predict(X_test)\n",
    "# xgb_score = get_sk_metrics(y_test, xgb_y_pred, average='macro')\n",
    "# xgb_cm = plot_confusion_matrix(y_test, xgb_y_pred)"
   ]
  },
  {
   "cell_type": "code",
   "execution_count": 18,
   "id": "27cbc89d-424c-4363-bab1-3e639707df16",
   "metadata": {},
   "outputs": [
    {
     "name": "stdout",
     "output_type": "stream",
     "text": [
      "Written to: ../results/03_At/prediction/03a10b_TopCorr_Pos_xgb_test_AtPsy_predict_f786.pkl\n"
     ]
    },
    {
     "data": {
      "text/plain": [
       "array([2., 4., 5., 3., 1., 4., 4., 3., 4., 2., 2., 4., 5., 4., 4., 4., 5.,\n",
       "       4., 5., 4., 4., 4., 4., 4., 2., 2., 4., 3., 4., 4., 4., 2., 4., 4.,\n",
       "       5., 4., 2., 2., 4., 1., 2., 4., 2., 2., 5., 4., 2., 4., 2., 2., 2.,\n",
       "       2., 4., 4., 4., 4., 4., 4., 1., 4., 3., 4., 2., 8., 4., 2., 1., 1.,\n",
       "       4., 2., 1., 1., 4., 1., 8., 2., 4., 2., 4., 4., 4., 4., 4., 4., 1.,\n",
       "       8., 2., 2., 2., 1., 4., 4., 5., 4., 4., 4., 5., 4., 5., 5.])"
      ]
     },
     "execution_count": 18,
     "metadata": {},
     "output_type": "execute_result"
    }
   ],
   "source": [
    "X_test_scaled = AtPsy_X_test_scaled\n",
    "\n",
    "xgb_y_pred = xgb.predict(X_test_scaled)\n",
    "\n",
    "filename = f\"../results/03_At/prediction/{nb_long_id}_xgb_test_AtPsy_predict_f{topN}.pkl\"\n",
    "pickle.dump(xgb_y_pred, open(filename, 'wb'))\n",
    "print(f\"Written to: {filename}\")\n",
    "xgb_y_pred"
   ]
  },
  {
   "cell_type": "markdown",
   "id": "a8128dbf-8283-4549-bfe4-59936cafba5a",
   "metadata": {},
   "source": [
    "## Random Forest"
   ]
  },
  {
   "cell_type": "markdown",
   "id": "b7e996c6-de7a-431b-9ce3-13af0b512086",
   "metadata": {},
   "source": [
    "### Train"
   ]
  },
  {
   "cell_type": "code",
   "execution_count": 19,
   "id": "1ed2d864-52c2-4e04-a4f6-f1c6ef8fae75",
   "metadata": {},
   "outputs": [
    {
     "name": "stdout",
     "output_type": "stream",
     "text": [
      "\n",
      "elapsed time: 0.03 mins\n",
      "\n"
     ]
    }
   ],
   "source": [
    "rf = RandomForestClassifier(n_estimators=100, max_depth=30, random_state=0)\n",
    "\n",
    "t0 = time.time()\n",
    "rf.fit(X_train, y_train)\n",
    "t = time.time() - t0\n",
    "\n",
    "print(f\"\\nelapsed time: {(t/60):.2f} mins\")\n",
    "print()"
   ]
  },
  {
   "cell_type": "markdown",
   "id": "34e934a6-4eb2-4a9f-b1d1-6fcae62cc058",
   "metadata": {},
   "source": [
    "### Test1"
   ]
  },
  {
   "cell_type": "code",
   "execution_count": 20,
   "id": "4337569c-ee82-4247-9f3f-d2bf4c48c6e7",
   "metadata": {},
   "outputs": [
    {
     "name": "stdout",
     "output_type": "stream",
     "text": [
      "Accuracy:\t 31.71%\n",
      "Precision:\t 21.15%\n",
      "Recall:\t\t 22.27%\n",
      "F1 score:\t 21.31%\n",
      "Written to: ./models/03a10b_TopCorr_Pos_rf_model_results_f786.pkl\n"
     ]
    },
    {
     "data": {
      "image/png": "[encoded data removed]",
      "text/plain": [
       "<Figure size 720x504 with 2 Axes>"
      ]
     },
     "metadata": {},
     "output_type": "display_data"
    }
   ],
   "source": [
    "rf_y_pred = rf.predict(X_test)\n",
    "rf_score = get_sk_metrics(y_test, rf_y_pred, average='macro')\n",
    "rf_cm = plot_confusion_matrix(y_test, rf_y_pred)\n",
    "\n",
    "filename = f\"./models/{nb_long_id}_rf_model_results_f{topN}.pkl\"\n",
    "pickle.dump([rf, rf_score, rf_cm], open(filename, 'wb'))\n",
    "print(f\"Written to: {filename}\")"
   ]
  },
  {
   "cell_type": "markdown",
   "id": "a0bd6d8a-f05f-4d00-a06e-e69f0077af15",
   "metadata": {},
   "source": [
    "### Test2"
   ]
  },
  {
   "cell_type": "code",
   "execution_count": 21,
   "id": "1ea3d9b5-8390-480e-88fc-8360a10a341e",
   "metadata": {},
   "outputs": [
    {
     "name": "stdout",
     "output_type": "stream",
     "text": [
      "Written to: ../results/03_At/prediction/03a10b_TopCorr_Pos_rf_test_predict_f786.pkl\n"
     ]
    },
    {
     "data": {
      "text/plain": [
       "array([1., 1., 2., 5., 2., 2.])"
      ]
     },
     "execution_count": 21,
     "metadata": {},
     "output_type": "execute_result"
    }
   ],
   "source": [
    "rf_y_pred = rf.predict(At_X_test_scaled)\n",
    "\n",
    "filename = f\"../results/03_At/prediction/{nb_long_id}_rf_test_predict_f{topN}.pkl\"\n",
    "pickle.dump(rf_y_pred, open(filename, 'wb'))\n",
    "print(f\"Written to: {filename}\")\n",
    "rf_y_pred"
   ]
  },
  {
   "cell_type": "markdown",
   "id": "25afa9a9-3983-4a42-a302-00b8f1003204",
   "metadata": {},
   "source": [
    "### Test3 AtPsy"
   ]
  },
  {
   "cell_type": "code",
   "execution_count": 22,
   "id": "70848b26-6c14-4ff7-988c-c9f82169029e",
   "metadata": {},
   "outputs": [],
   "source": [
    "# filename = f'./models/{nb_long_id}_rf_model_results_f{topN}.pkl'\n",
    "# print(filename)\n",
    "# rf, rf_score, rf_cm = pickle.load(open(filename,'rb'))\n",
    "\n",
    "# rf_y_pred = rf.predict(X_test)\n",
    "# rf_score = get_sk_metrics(y_test, rf_y_pred, average='macro')\n",
    "# rf_cm = plot_confusion_matrix(y_test, rf_y_pred)"
   ]
  },
  {
   "cell_type": "code",
   "execution_count": 23,
   "id": "bfe90087-9520-4734-8cc8-dc89a35c1e59",
   "metadata": {},
   "outputs": [
    {
     "name": "stdout",
     "output_type": "stream",
     "text": [
      "Written to: ../results/03_At/prediction/03a10b_TopCorr_Pos_rf_test_AtPsy_predict_f786.pkl\n"
     ]
    },
    {
     "data": {
      "text/plain": [
       "array([5., 2., 5., 1., 5., 5., 5., 4., 5., 2., 5., 2., 5., 5., 5., 5., 5.,\n",
       "       3., 2., 2., 5., 5., 5., 3., 5., 2., 5., 4., 5., 5., 3., 3., 5., 5.,\n",
       "       5., 5., 1., 2., 5., 5., 5., 5., 1., 1., 1., 5., 2., 5., 5., 2., 2.,\n",
       "       1., 5., 5., 5., 5., 5., 5., 2., 5., 1., 5., 2., 5., 5., 5., 4., 5.,\n",
       "       5., 4., 5., 5., 4., 5., 5., 5., 5., 5., 4., 5., 5., 4., 1., 5., 5.,\n",
       "       4., 1., 2., 1., 5., 5., 4., 2., 1., 5., 5., 5., 5., 5., 5.])"
      ]
     },
     "execution_count": 23,
     "metadata": {},
     "output_type": "execute_result"
    }
   ],
   "source": [
    "X_test_scaled = AtPsy_X_test_scaled\n",
    "rf_y_pred = rf.predict(X_test_scaled)\n",
    "\n",
    "filename = f\"../results/03_At/prediction/{nb_long_id}_rf_test_AtPsy_predict_f{topN}.pkl\"\n",
    "pickle.dump(rf_y_pred, open(filename, 'wb'))\n",
    "print(f\"Written to: {filename}\")\n",
    "rf_y_pred"
   ]
  },
  {
   "cell_type": "markdown",
   "id": "3d74bd50-526a-4f37-98b4-1ede267380ea",
   "metadata": {},
   "source": [
    "## SVM\n",
    "### RBF kernel\n",
    "#### Train"
   ]
  },
  {
   "cell_type": "code",
   "execution_count": 24,
   "id": "c9b8af1b-0816-4a29-af75-935c863c7359",
   "metadata": {},
   "outputs": [
    {
     "name": "stdout",
     "output_type": "stream",
     "text": [
      "\n",
      "elapsed time: 0.01 mins\n",
      "\n"
     ]
    }
   ],
   "source": [
    "#Create a svm Classifier\n",
    "svm = SVC() \n",
    "\n",
    "t0 = time.time()\n",
    "svm.fit(X_train, y_train)\n",
    "t = time.time() - t0\n",
    "\n",
    "print(f\"\\nelapsed time: {(t/60):.2f} mins\")\n",
    "print()"
   ]
  },
  {
   "cell_type": "markdown",
   "id": "9b620f09-4fa8-4167-9b9b-ae6c3fb8e0a9",
   "metadata": {},
   "source": [
    "#### Test1"
   ]
  },
  {
   "cell_type": "code",
   "execution_count": 25,
   "id": "44e224ae-3888-4944-a4cc-e3026ee659fa",
   "metadata": {},
   "outputs": [
    {
     "name": "stderr",
     "output_type": "stream",
     "text": [
      "/Users/jayson/miniconda3/envs/py38/lib/python3.8/site-packages/sklearn/metrics/_classification.py:1245: UndefinedMetricWarning: Precision is ill-defined and being set to 0.0 in labels with no predicted samples. Use `zero_division` parameter to control this behavior.\n",
      "  _warn_prf(average, modifier, msg_start, len(result))\n"
     ]
    },
    {
     "name": "stdout",
     "output_type": "stream",
     "text": [
      "Accuracy:\t 24.09%\n",
      "Precision:\t 19.88%\n",
      "Recall:\t\t 17.25%\n",
      "F1 score:\t 17.48%\n",
      "Written to: ./models/03a10b_TopCorr_Pos_svm_model_results_f786.pkl\n"
     ]
    },
    {
     "data": {
      "image/png": "[encoded data removed]",
      "text/plain": [
       "<Figure size 720x504 with 2 Axes>"
      ]
     },
     "metadata": {},
     "output_type": "display_data"
    }
   ],
   "source": [
    "#Predict the response for test dataset\n",
    "svm_y_pred = svm.predict(X_test)\n",
    "svm_score = get_sk_metrics(y_test, svm_y_pred, average='macro')\n",
    "svm_cm = plot_confusion_matrix(y_test, svm_y_pred)\n",
    "\n",
    "filename = f\"./models/{nb_long_id}_svm_model_results_f{topN}.pkl\"\n",
    "pickle.dump([svm, svm_score, svm_cm], open(filename, 'wb'))\n",
    "print(f\"Written to: {filename}\")"
   ]
  },
  {
   "cell_type": "markdown",
   "id": "bcd934bf-d612-4a8b-b779-6f5ad3df99a3",
   "metadata": {},
   "source": [
    "#### Test2"
   ]
  },
  {
   "cell_type": "code",
   "execution_count": 26,
   "id": "bc3490b5-d477-4a08-a57b-fed47875f907",
   "metadata": {},
   "outputs": [
    {
     "name": "stdout",
     "output_type": "stream",
     "text": [
      "Written to: ../results/03_At/prediction/03a10b_TopCorr_Pos_svm_test_predict_f786.pkl\n"
     ]
    },
    {
     "data": {
      "text/plain": [
       "array([1., 1., 1., 5., 5., 5.])"
      ]
     },
     "execution_count": 26,
     "metadata": {},
     "output_type": "execute_result"
    }
   ],
   "source": [
    "#Predict the response for test dataset\n",
    "svm_y_pred = svm.predict(At_X_test_scaled)\n",
    "\n",
    "filename = f\"../results/03_At/prediction/{nb_long_id}_svm_test_predict_f{topN}.pkl\"\n",
    "pickle.dump(svm_y_pred, open(filename, 'wb'))\n",
    "print(f\"Written to: {filename}\")\n",
    "svm_y_pred"
   ]
  },
  {
   "cell_type": "markdown",
   "id": "7b074770-df06-4a06-9ab4-dd9973943e1f",
   "metadata": {},
   "source": [
    "#### Test3 AtPsy"
   ]
  },
  {
   "cell_type": "code",
   "execution_count": 27,
   "id": "d95629f5-0bcb-47c8-a82c-9fdb876bc7b4",
   "metadata": {},
   "outputs": [],
   "source": [
    "# filename = f'./models/{nb_long_id}_svm_model_results_f{topN}.pkl'\n",
    "# print(filename)\n",
    "# svm, svm_score, svm_cm = pickle.load(open(filename,'rb'))\n",
    "\n",
    "# svm_y_pred = svm.predict(X_test)\n",
    "# svm_score = get_sk_metrics(y_test, svm_y_pred, average='macro')\n",
    "# svm_cm = plot_confusion_matrix(y_test, svm_y_pred)"
   ]
  },
  {
   "cell_type": "code",
   "execution_count": 29,
   "id": "93010873-d549-465f-b07d-a5ccd5fefd09",
   "metadata": {},
   "outputs": [
    {
     "name": "stdout",
     "output_type": "stream",
     "text": [
      "Written to: ../results/03_At/prediction/03a10b_TopCorr_Pos_svm_test_AtPsy_predict_f786.pkl\n"
     ]
    },
    {
     "data": {
      "text/plain": [
       "array([5., 5., 5., 5., 5., 5., 5., 5., 5., 5., 5., 5., 5., 5., 5., 5., 5.,\n",
       "       5., 5., 5., 5., 5., 5., 5., 5., 5., 5., 5., 5., 5., 5., 5., 5., 5.,\n",
       "       5., 5., 5., 5., 5., 5., 5., 5., 5., 5., 5., 5., 5., 5., 5., 5., 5.,\n",
       "       5., 5., 5., 5., 5., 5., 5., 5., 5., 5., 5., 5., 5., 5., 5., 5., 5.,\n",
       "       5., 5., 5., 5., 5., 5., 5., 5., 5., 5., 5., 5., 5., 5., 5., 5., 5.,\n",
       "       5., 5., 5., 3., 5., 5., 5., 5., 5., 5., 5., 5., 5., 5., 5.])"
      ]
     },
     "execution_count": 29,
     "metadata": {},
     "output_type": "execute_result"
    }
   ],
   "source": [
    "X_test_scaled = AtPsy_X_test_scaled\n",
    "svm_y_pred = svm.predict(X_test_scaled)\n",
    "\n",
    "filename = f\"../results/03_At/prediction/{nb_long_id}_svm_test_AtPsy_predict_f{topN}.pkl\"\n",
    "pickle.dump(svm_y_pred, open(filename, 'wb'))\n",
    "print(f\"Written to: {filename}\")\n",
    "svm_y_pred"
   ]
  },
  {
   "cell_type": "markdown",
   "id": "f60abe85-bb14-4ea8-ae36-994c63fdaf6e",
   "metadata": {},
   "source": [
    "### Linear kernel\n",
    "#### Train"
   ]
  },
  {
   "cell_type": "code",
   "execution_count": 30,
   "id": "e27a9221-74db-4e13-ab89-821b8d6015b4",
   "metadata": {},
   "outputs": [
    {
     "name": "stdout",
     "output_type": "stream",
     "text": [
      "\n",
      "elapsed time: 0.01 mins\n",
      "\n"
     ]
    }
   ],
   "source": [
    "#Create a svm Classifier\n",
    "svm_lin = SVC(kernel='linear') # Linear Kernel\n",
    "\n",
    "t0 = time.time()\n",
    "#Train the model using the training sets\n",
    "svm_lin.fit(X_train, y_train)\n",
    "t = time.time() - t0\n",
    "\n",
    "print(f\"\\nelapsed time: {(t/60):.2f} mins\")\n",
    "print()"
   ]
  },
  {
   "cell_type": "markdown",
   "id": "c96cab27-5893-452d-957e-01a459c04cff",
   "metadata": {},
   "source": [
    "#### Test1"
   ]
  },
  {
   "cell_type": "code",
   "execution_count": 31,
   "id": "07d0a157-0384-415b-b1b3-b2edc2bec0df",
   "metadata": {},
   "outputs": [
    {
     "name": "stdout",
     "output_type": "stream",
     "text": [
      "Accuracy:\t 23.17%\n",
      "Precision:\t 16.41%\n",
      "Recall:\t\t 15.37%\n",
      "F1 score:\t 15.45%\n",
      "Written to: ./models/03a10b_TopCorr_Pos_svm_lin_model_results_f786.pkl\n"
     ]
    },
    {
     "data": {
      "image/png": "[encoded data removed]",
      "text/plain": [
       "<Figure size 720x504 with 2 Axes>"
      ]
     },
     "metadata": {},
     "output_type": "display_data"
    }
   ],
   "source": [
    "svm_lin_y_pred = svm_lin.predict(X_test)\n",
    "svm_lin_score = get_sk_metrics(y_test, svm_lin_y_pred, average='macro')\n",
    "svm_lin_cm = plot_confusion_matrix(y_test, svm_lin_y_pred)\n",
    "\n",
    "filename = f\"./models/{nb_long_id}_svm_lin_model_results_f{topN}.pkl\"\n",
    "pickle.dump([svm_lin, svm_lin_score, svm_lin_cm], open(filename, 'wb'))\n",
    "print(f\"Written to: {filename}\")"
   ]
  },
  {
   "cell_type": "markdown",
   "id": "537b2b99-6354-4e9a-a402-f9a044edc5b2",
   "metadata": {},
   "source": [
    "#### Test2"
   ]
  },
  {
   "cell_type": "code",
   "execution_count": 32,
   "id": "5cca2516-2372-48f5-a773-b8cbc0389729",
   "metadata": {},
   "outputs": [
    {
     "name": "stdout",
     "output_type": "stream",
     "text": [
      "Written to: ../results/03_At/prediction/03a10b_TopCorr_Pos_svm_lin_test_predict_f786.pkl\n"
     ]
    },
    {
     "data": {
      "text/plain": [
       "array([1., 3., 4., 3., 3., 3.])"
      ]
     },
     "execution_count": 32,
     "metadata": {},
     "output_type": "execute_result"
    }
   ],
   "source": [
    "svm_lin_y_pred = svm_lin.predict(At_X_test_scaled)\n",
    "\n",
    "filename = f\"../results/03_At/prediction/{nb_long_id}_svm_lin_test_predict_f{topN}.pkl\"\n",
    "pickle.dump(svm_lin_y_pred, open(filename, 'wb'))\n",
    "print(f\"Written to: {filename}\")\n",
    "svm_lin_y_pred"
   ]
  },
  {
   "cell_type": "markdown",
   "id": "242afc85-5c8a-4b85-a52a-79a89f6cd616",
   "metadata": {},
   "source": [
    "#### Test3 AtPsy"
   ]
  },
  {
   "cell_type": "code",
   "execution_count": 33,
   "id": "81414145-2865-4068-be86-868e7d8228b3",
   "metadata": {},
   "outputs": [],
   "source": [
    "# filename = f'./models/{nb_long_id}_svm_lin_model_results_f{topN}.pkl'\n",
    "# print(filename)\n",
    "# svm_lin, svm_lin_score, svm_lin_cm = pickle.load(open(filename,'rb'))\n",
    "\n",
    "# svm_lin_y_pred = svm_lin.predict(X_test)\n",
    "# svm_lin_score = get_sk_metrics(y_test, svm_lin_y_pred, average='macro')\n",
    "# svm_lin_cm = plot_confusion_matrix(y_test, svm_lin_y_pred)"
   ]
  },
  {
   "cell_type": "code",
   "execution_count": 34,
   "id": "5364ac92-2a17-4959-8bb8-da90446059e9",
   "metadata": {},
   "outputs": [
    {
     "name": "stdout",
     "output_type": "stream",
     "text": [
      "Written to: ../results/03_At/prediction/03a10b_TopCorr_Pos_svm_lin_test_AtPsy_predict_f786.pkl\n"
     ]
    },
    {
     "data": {
      "text/plain": [
       "array([4., 5., 5., 4., 7., 5., 3., 5., 4., 4., 4., 5., 4., 5., 4., 5., 5.,\n",
       "       3., 5., 3., 4., 5., 3., 3., 4., 5., 5., 3., 4., 5., 3., 4., 4., 3.,\n",
       "       4., 5., 5., 5., 5., 2., 5., 7., 4., 5., 5., 5., 3., 5., 5., 5., 5.,\n",
       "       3., 7., 5., 4., 3., 5., 5., 5., 5., 4., 4., 5., 5., 5., 5., 5., 5.,\n",
       "       5., 5., 5., 5., 4., 5., 5., 4., 4., 4., 4., 5., 4., 7., 5., 7., 4.,\n",
       "       7., 5., 5., 3., 5., 5., 5., 5., 5., 5., 5., 5., 5., 3., 7.])"
      ]
     },
     "execution_count": 34,
     "metadata": {},
     "output_type": "execute_result"
    }
   ],
   "source": [
    "X_test_scaled = AtPsy_X_test_scaled\n",
    "\n",
    "svm_lin_y_pred = svm_lin.predict(X_test_scaled)\n",
    "\n",
    "filename = f\"../results/03_At/prediction/{nb_long_id}_svm_lin_test_AtPsy_predict_f{topN}.pkl\"\n",
    "pickle.dump(svm_lin_y_pred, open(filename, 'wb'))\n",
    "print(f\"Written to: {filename}\")\n",
    "svm_lin_y_pred"
   ]
  },
  {
   "cell_type": "markdown",
   "id": "a7d81ab2-14fd-43d6-8cb3-8d9b4016b90d",
   "metadata": {},
   "source": [
    "## Plots\n",
    "### Performance metrics\n",
    "\n",
    "**Precision** is a measure of the ability of a classification model to identify only the relevant data points.<br>\n",
    "**Recall** is a measure of the ability of a model to find all the relevant cases within a dataset."
   ]
  },
  {
   "cell_type": "code",
   "execution_count": 35,
   "id": "1e38f059-23a8-4784-a757-c147e3787025",
   "metadata": {},
   "outputs": [
    {
     "name": "stdout",
     "output_type": "stream",
     "text": [
      "Saving to ./figures/03a10b_TopCorr_Pos_score_f786.pdf\n",
      "\n"
     ]
    },
    {
     "data": {
      "image/png": "[encoded data removed]",
      "text/plain": [
       "<Figure size 864x504 with 4 Axes>"
      ]
     },
     "metadata": {},
     "output_type": "display_data"
    },
    {
     "data": {
      "text/html": [
       "<div>\n",
       "<style scoped>\n",
       "    .dataframe tbody tr th:only-of-type {\n",
       "        vertical-align: middle;\n",
       "    }\n",
       "\n",
       "    .dataframe tbody tr th {\n",
       "        vertical-align: top;\n",
       "    }\n",
       "\n",
       "    .dataframe thead th {\n",
       "        text-align: right;\n",
       "    }\n",
       "</style>\n",
       "<table border=\"1\" class=\"dataframe\">\n",
       "  <thead>\n",
       "    <tr style=\"text-align: right;\">\n",
       "      <th></th>\n",
       "      <th>Accuracy</th>\n",
       "      <th>Precision</th>\n",
       "      <th>Recall</th>\n",
       "      <th>F1 Score</th>\n",
       "    </tr>\n",
       "  </thead>\n",
       "  <tbody>\n",
       "    <tr>\n",
       "      <th>DNN</th>\n",
       "      <td>0.246951</td>\n",
       "      <td>0.161840</td>\n",
       "      <td>0.155211</td>\n",
       "      <td>0.155608</td>\n",
       "    </tr>\n",
       "    <tr>\n",
       "      <th>XGB</th>\n",
       "      <td>0.280488</td>\n",
       "      <td>0.165898</td>\n",
       "      <td>0.170539</td>\n",
       "      <td>0.166424</td>\n",
       "    </tr>\n",
       "    <tr>\n",
       "      <th>RF</th>\n",
       "      <td>0.317073</td>\n",
       "      <td>0.211460</td>\n",
       "      <td>0.222720</td>\n",
       "      <td>0.213100</td>\n",
       "    </tr>\n",
       "    <tr>\n",
       "      <th>SVM</th>\n",
       "      <td>0.240854</td>\n",
       "      <td>0.198810</td>\n",
       "      <td>0.172467</td>\n",
       "      <td>0.174771</td>\n",
       "    </tr>\n",
       "    <tr>\n",
       "      <th>linSVM</th>\n",
       "      <td>0.231707</td>\n",
       "      <td>0.164063</td>\n",
       "      <td>0.153697</td>\n",
       "      <td>0.154533</td>\n",
       "    </tr>\n",
       "  </tbody>\n",
       "</table>\n",
       "</div>"
      ],
      "text/plain": [
       "        Accuracy  Precision    Recall  F1 Score\n",
       "DNN     0.246951   0.161840  0.155211  0.155608\n",
       "XGB     0.280488   0.165898  0.170539  0.166424\n",
       "RF      0.317073   0.211460  0.222720  0.213100\n",
       "SVM     0.240854   0.198810  0.172467  0.174771\n",
       "linSVM  0.231707   0.164063  0.153697  0.154533"
      ]
     },
     "execution_count": 35,
     "metadata": {},
     "output_type": "execute_result"
    }
   ],
   "source": [
    "max_ylim = 0.5\n",
    "file_out = f'./figures/{nb_long_id}_score_f{topN}.pdf'\n",
    "fig_title = 'At only features'\n",
    "df_metrics = plot_performance_metrics(nb_long_id, max_ylim, file_out, fig_title, feature_size=topN)\n",
    "df_metrics"
   ]
  },
  {
   "cell_type": "markdown",
   "id": "10b6e7ab-edeb-47ef-abe1-65d3d36a978b",
   "metadata": {},
   "source": [
    "#### Fuzzy results"
   ]
  },
  {
   "cell_type": "code",
   "execution_count": 36,
   "id": "db5a2e7d-854a-4fd3-bc89-1cc79981f9e1",
   "metadata": {},
   "outputs": [
    {
     "name": "stderr",
     "output_type": "stream",
     "text": [
      "../atbotml/custom_fuctions.py:312: RuntimeWarning: invalid value encountered in long_scalars\n",
      "  fuzzy_precision[i] = np.sum(cmT[i, min_idx:max_idx + 1]) / np.sum(cmT[i])\n"
     ]
    },
    {
     "name": "stdout",
     "output_type": "stream",
     "text": [
      "Saving to ./figures/03a10b_TopCorr_Pos_fuzzy_score_f786.pdf\n",
      "\n"
     ]
    },
    {
     "data": {
      "image/png": "[encoded data removed]",
      "text/plain": [
       "<Figure size 864x504 with 4 Axes>"
      ]
     },
     "metadata": {},
     "output_type": "display_data"
    },
    {
     "data": {
      "text/html": [
       "<div>\n",
       "<style scoped>\n",
       "    .dataframe tbody tr th:only-of-type {\n",
       "        vertical-align: middle;\n",
       "    }\n",
       "\n",
       "    .dataframe tbody tr th {\n",
       "        vertical-align: top;\n",
       "    }\n",
       "\n",
       "    .dataframe thead th {\n",
       "        text-align: right;\n",
       "    }\n",
       "</style>\n",
       "<table border=\"1\" class=\"dataframe\">\n",
       "  <thead>\n",
       "    <tr style=\"text-align: right;\">\n",
       "      <th></th>\n",
       "      <th>Accuracy</th>\n",
       "      <th>Precision</th>\n",
       "      <th>Recall</th>\n",
       "      <th>F1 Score</th>\n",
       "    </tr>\n",
       "  </thead>\n",
       "  <tbody>\n",
       "    <tr>\n",
       "      <th>DNN</th>\n",
       "      <td>0.652439</td>\n",
       "      <td>0.505543</td>\n",
       "      <td>0.469801</td>\n",
       "      <td>0.436172</td>\n",
       "    </tr>\n",
       "    <tr>\n",
       "      <th>XGB</th>\n",
       "      <td>0.676829</td>\n",
       "      <td>0.553760</td>\n",
       "      <td>0.522303</td>\n",
       "      <td>0.507539</td>\n",
       "    </tr>\n",
       "    <tr>\n",
       "      <th>RF</th>\n",
       "      <td>0.679878</td>\n",
       "      <td>0.501858</td>\n",
       "      <td>0.538944</td>\n",
       "      <td>0.453451</td>\n",
       "    </tr>\n",
       "    <tr>\n",
       "      <th>SVM</th>\n",
       "      <td>0.679878</td>\n",
       "      <td>0.594510</td>\n",
       "      <td>0.510576</td>\n",
       "      <td>0.473628</td>\n",
       "    </tr>\n",
       "    <tr>\n",
       "      <th>linSVM</th>\n",
       "      <td>0.609756</td>\n",
       "      <td>0.500105</td>\n",
       "      <td>0.435165</td>\n",
       "      <td>0.436986</td>\n",
       "    </tr>\n",
       "  </tbody>\n",
       "</table>\n",
       "</div>"
      ],
      "text/plain": [
       "        Accuracy  Precision    Recall  F1 Score\n",
       "DNN     0.652439   0.505543  0.469801  0.436172\n",
       "XGB     0.676829   0.553760  0.522303  0.507539\n",
       "RF      0.679878   0.501858  0.538944  0.453451\n",
       "SVM     0.679878   0.594510  0.510576  0.473628\n",
       "linSVM  0.609756   0.500105  0.435165  0.436986"
      ]
     },
     "execution_count": 36,
     "metadata": {},
     "output_type": "execute_result"
    }
   ],
   "source": [
    "max_ylim = 0.8\n",
    "offset = 1\n",
    "file_out = f'./figures/{nb_long_id}_fuzzy_score_f{topN}.pdf'\n",
    "fig_title = f'At only features (class offset tolerance = {offset})'\n",
    "df_metrics = plot_performance_metrics(nb_long_id, max_ylim, file_out, fig_title, offset, feature_size=topN)\n",
    "df_metrics"
   ]
  },
  {
   "cell_type": "markdown",
   "id": "676096d3-189b-4169-b7a0-f1d4c77f2639",
   "metadata": {},
   "source": [
    "### MSE"
   ]
  },
  {
   "cell_type": "code",
   "execution_count": 38,
   "id": "402db0c8-d631-4993-b3c1-3349ec6a17cc",
   "metadata": {},
   "outputs": [
    {
     "name": "stdout",
     "output_type": "stream",
     "text": [
      "Saving to ./figures/03a10b_TopCorr_Pos_mse_f786.pdf\n",
      "\n"
     ]
    },
    {
     "data": {
      "image/png": "[encoded data removed]",
      "text/plain": [
       "<Figure size 864x504 with 1 Axes>"
      ]
     },
     "metadata": {},
     "output_type": "display_data"
    },
    {
     "data": {
      "text/html": [
       "<div>\n",
       "<style scoped>\n",
       "    .dataframe tbody tr th:only-of-type {\n",
       "        vertical-align: middle;\n",
       "    }\n",
       "\n",
       "    .dataframe tbody tr th {\n",
       "        vertical-align: top;\n",
       "    }\n",
       "\n",
       "    .dataframe thead th {\n",
       "        text-align: right;\n",
       "    }\n",
       "</style>\n",
       "<table border=\"1\" class=\"dataframe\">\n",
       "  <thead>\n",
       "    <tr style=\"text-align: right;\">\n",
       "      <th></th>\n",
       "      <th>MSE</th>\n",
       "    </tr>\n",
       "  </thead>\n",
       "  <tbody>\n",
       "    <tr>\n",
       "      <th>DNN</th>\n",
       "      <td>3.591463</td>\n",
       "    </tr>\n",
       "    <tr>\n",
       "      <th>XGB</th>\n",
       "      <td>3.341463</td>\n",
       "    </tr>\n",
       "    <tr>\n",
       "      <th>RF</th>\n",
       "      <td>3.332317</td>\n",
       "    </tr>\n",
       "    <tr>\n",
       "      <th>SVM</th>\n",
       "      <td>3.125000</td>\n",
       "    </tr>\n",
       "    <tr>\n",
       "      <th>linSVM</th>\n",
       "      <td>3.817073</td>\n",
       "    </tr>\n",
       "  </tbody>\n",
       "</table>\n",
       "</div>"
      ],
      "text/plain": [
       "             MSE\n",
       "DNN     3.591463\n",
       "XGB     3.341463\n",
       "RF      3.332317\n",
       "SVM     3.125000\n",
       "linSVM  3.817073"
      ]
     },
     "execution_count": 38,
     "metadata": {},
     "output_type": "execute_result"
    }
   ],
   "source": [
    "total_class_mse, class_mse, class_rss = class_error(dnn_cm)\n",
    "total_class_mse\n",
    "\n",
    "max_ylim = 3.5\n",
    "file_out = f'./figures/{nb_long_id}_mse_f{topN}.pdf'\n",
    "fig_title = f'At only features, class MSE'\n",
    "df_metrics = plot_mse(nb_long_id, max_ylim, file_out, fig_title, feature_size=topN)\n",
    "df_metrics"
   ]
  },
  {
   "cell_type": "markdown",
   "id": "5f59e7ec-1bd5-45cf-a447-6cb2731482b1",
   "metadata": {},
   "source": [
    "### Test2 prediction summary"
   ]
  },
  {
   "cell_type": "code",
   "execution_count": 40,
   "id": "4911de1c-5680-4010-8f39-476ed9ce0372",
   "metadata": {},
   "outputs": [
    {
     "name": "stdout",
     "output_type": "stream",
     "text": [
      "03a10b_TopCorr_Pos Test Predictions\n",
      "Written to: ../results/03_At/prediction/03a10b_TopCorr_Pos_test_predictions_f786.pkl\n"
     ]
    },
    {
     "data": {
      "text/html": [
       "<div>\n",
       "<style scoped>\n",
       "    .dataframe tbody tr th:only-of-type {\n",
       "        vertical-align: middle;\n",
       "    }\n",
       "\n",
       "    .dataframe tbody tr th {\n",
       "        vertical-align: top;\n",
       "    }\n",
       "\n",
       "    .dataframe thead th {\n",
       "        text-align: right;\n",
       "    }\n",
       "</style>\n",
       "<table border=\"1\" class=\"dataframe\">\n",
       "  <thead>\n",
       "    <tr style=\"text-align: right;\">\n",
       "      <th></th>\n",
       "      <th>DNN</th>\n",
       "      <th>XGB</th>\n",
       "      <th>RF</th>\n",
       "      <th>SVM</th>\n",
       "      <th>linSVM</th>\n",
       "    </tr>\n",
       "  </thead>\n",
       "  <tbody>\n",
       "    <tr>\n",
       "      <th>0</th>\n",
       "      <td>4.0</td>\n",
       "      <td>2.0</td>\n",
       "      <td>5.0</td>\n",
       "      <td>5.0</td>\n",
       "      <td>4.0</td>\n",
       "    </tr>\n",
       "    <tr>\n",
       "      <th>1</th>\n",
       "      <td>3.0</td>\n",
       "      <td>4.0</td>\n",
       "      <td>2.0</td>\n",
       "      <td>5.0</td>\n",
       "      <td>5.0</td>\n",
       "    </tr>\n",
       "    <tr>\n",
       "      <th>2</th>\n",
       "      <td>5.0</td>\n",
       "      <td>5.0</td>\n",
       "      <td>5.0</td>\n",
       "      <td>5.0</td>\n",
       "      <td>5.0</td>\n",
       "    </tr>\n",
       "    <tr>\n",
       "      <th>3</th>\n",
       "      <td>3.0</td>\n",
       "      <td>3.0</td>\n",
       "      <td>1.0</td>\n",
       "      <td>5.0</td>\n",
       "      <td>4.0</td>\n",
       "    </tr>\n",
       "    <tr>\n",
       "      <th>4</th>\n",
       "      <td>5.0</td>\n",
       "      <td>1.0</td>\n",
       "      <td>5.0</td>\n",
       "      <td>5.0</td>\n",
       "      <td>7.0</td>\n",
       "    </tr>\n",
       "    <tr>\n",
       "      <th>...</th>\n",
       "      <td>...</td>\n",
       "      <td>...</td>\n",
       "      <td>...</td>\n",
       "      <td>...</td>\n",
       "      <td>...</td>\n",
       "    </tr>\n",
       "    <tr>\n",
       "      <th>95</th>\n",
       "      <td>4.0</td>\n",
       "      <td>4.0</td>\n",
       "      <td>5.0</td>\n",
       "      <td>5.0</td>\n",
       "      <td>5.0</td>\n",
       "    </tr>\n",
       "    <tr>\n",
       "      <th>96</th>\n",
       "      <td>4.0</td>\n",
       "      <td>5.0</td>\n",
       "      <td>5.0</td>\n",
       "      <td>5.0</td>\n",
       "      <td>5.0</td>\n",
       "    </tr>\n",
       "    <tr>\n",
       "      <th>97</th>\n",
       "      <td>4.0</td>\n",
       "      <td>4.0</td>\n",
       "      <td>5.0</td>\n",
       "      <td>5.0</td>\n",
       "      <td>5.0</td>\n",
       "    </tr>\n",
       "    <tr>\n",
       "      <th>98</th>\n",
       "      <td>4.0</td>\n",
       "      <td>5.0</td>\n",
       "      <td>5.0</td>\n",
       "      <td>5.0</td>\n",
       "      <td>3.0</td>\n",
       "    </tr>\n",
       "    <tr>\n",
       "      <th>99</th>\n",
       "      <td>4.0</td>\n",
       "      <td>5.0</td>\n",
       "      <td>5.0</td>\n",
       "      <td>5.0</td>\n",
       "      <td>7.0</td>\n",
       "    </tr>\n",
       "  </tbody>\n",
       "</table>\n",
       "<p>100 rows × 5 columns</p>\n",
       "</div>"
      ],
      "text/plain": [
       "    DNN  XGB   RF  SVM  linSVM\n",
       "0   4.0  2.0  5.0  5.0     4.0\n",
       "1   3.0  4.0  2.0  5.0     5.0\n",
       "2   5.0  5.0  5.0  5.0     5.0\n",
       "3   3.0  3.0  1.0  5.0     4.0\n",
       "4   5.0  1.0  5.0  5.0     7.0\n",
       "..  ...  ...  ...  ...     ...\n",
       "95  4.0  4.0  5.0  5.0     5.0\n",
       "96  4.0  5.0  5.0  5.0     5.0\n",
       "97  4.0  4.0  5.0  5.0     5.0\n",
       "98  4.0  5.0  5.0  5.0     3.0\n",
       "99  4.0  5.0  5.0  5.0     7.0\n",
       "\n",
       "[100 rows x 5 columns]"
      ]
     },
     "execution_count": 40,
     "metadata": {},
     "output_type": "execute_result"
    }
   ],
   "source": [
    "cols = ['DNN', 'XGB', 'RF', 'SVM', 'linSVM']\n",
    "ml_predictions = np.vstack((dnn_y_pred, xgb_y_pred, rf_y_pred, svm_y_pred, svm_lin_y_pred)).T\n",
    "df_test2_predict = pd.DataFrame(data=ml_predictions, columns=cols, )\n",
    "\n",
    "print(f\"{nb_long_id} Test Predictions\")\n",
    "filename = f\"../results/03_At/prediction/{nb_long_id}_test_predictions_f{topN}.pkl\"\n",
    "pickle.dump(df_test2_predict, open(filename, 'wb'))\n",
    "print(f\"Written to: {filename}\")\n",
    "\n",
    "df_test2_predict"
   ]
  },
  {
   "cell_type": "markdown",
   "id": "be87989c-4f0b-4104-a0ae-b2ddea4f0cac",
   "metadata": {},
   "source": [
    "### Test3 prediction summary"
   ]
  },
  {
   "cell_type": "code",
   "execution_count": 41,
   "id": "bfcd2436-e16c-4273-9d67-930a063926e7",
   "metadata": {},
   "outputs": [
    {
     "name": "stdout",
     "output_type": "stream",
     "text": [
      "03a10b_TopCorr_Pos Test Predictions\n",
      "Written to: ../results/03_At/prediction/03a10b_TopCorr_Pos_test_AtPsy_predictions_f786.pkl\n"
     ]
    },
    {
     "data": {
      "text/html": [
       "<div>\n",
       "<style scoped>\n",
       "    .dataframe tbody tr th:only-of-type {\n",
       "        vertical-align: middle;\n",
       "    }\n",
       "\n",
       "    .dataframe tbody tr th {\n",
       "        vertical-align: top;\n",
       "    }\n",
       "\n",
       "    .dataframe thead th {\n",
       "        text-align: right;\n",
       "    }\n",
       "</style>\n",
       "<table border=\"1\" class=\"dataframe\">\n",
       "  <thead>\n",
       "    <tr style=\"text-align: right;\">\n",
       "      <th></th>\n",
       "      <th>DNN</th>\n",
       "      <th>XGB</th>\n",
       "      <th>RF</th>\n",
       "      <th>SVM</th>\n",
       "      <th>linSVM</th>\n",
       "    </tr>\n",
       "  </thead>\n",
       "  <tbody>\n",
       "    <tr>\n",
       "      <th>0</th>\n",
       "      <td>4.0</td>\n",
       "      <td>2.0</td>\n",
       "      <td>5.0</td>\n",
       "      <td>5.0</td>\n",
       "      <td>4.0</td>\n",
       "    </tr>\n",
       "    <tr>\n",
       "      <th>1</th>\n",
       "      <td>3.0</td>\n",
       "      <td>4.0</td>\n",
       "      <td>2.0</td>\n",
       "      <td>5.0</td>\n",
       "      <td>5.0</td>\n",
       "    </tr>\n",
       "    <tr>\n",
       "      <th>2</th>\n",
       "      <td>5.0</td>\n",
       "      <td>5.0</td>\n",
       "      <td>5.0</td>\n",
       "      <td>5.0</td>\n",
       "      <td>5.0</td>\n",
       "    </tr>\n",
       "    <tr>\n",
       "      <th>3</th>\n",
       "      <td>3.0</td>\n",
       "      <td>3.0</td>\n",
       "      <td>1.0</td>\n",
       "      <td>5.0</td>\n",
       "      <td>4.0</td>\n",
       "    </tr>\n",
       "    <tr>\n",
       "      <th>4</th>\n",
       "      <td>5.0</td>\n",
       "      <td>1.0</td>\n",
       "      <td>5.0</td>\n",
       "      <td>5.0</td>\n",
       "      <td>7.0</td>\n",
       "    </tr>\n",
       "    <tr>\n",
       "      <th>...</th>\n",
       "      <td>...</td>\n",
       "      <td>...</td>\n",
       "      <td>...</td>\n",
       "      <td>...</td>\n",
       "      <td>...</td>\n",
       "    </tr>\n",
       "    <tr>\n",
       "      <th>95</th>\n",
       "      <td>4.0</td>\n",
       "      <td>4.0</td>\n",
       "      <td>5.0</td>\n",
       "      <td>5.0</td>\n",
       "      <td>5.0</td>\n",
       "    </tr>\n",
       "    <tr>\n",
       "      <th>96</th>\n",
       "      <td>4.0</td>\n",
       "      <td>5.0</td>\n",
       "      <td>5.0</td>\n",
       "      <td>5.0</td>\n",
       "      <td>5.0</td>\n",
       "    </tr>\n",
       "    <tr>\n",
       "      <th>97</th>\n",
       "      <td>4.0</td>\n",
       "      <td>4.0</td>\n",
       "      <td>5.0</td>\n",
       "      <td>5.0</td>\n",
       "      <td>5.0</td>\n",
       "    </tr>\n",
       "    <tr>\n",
       "      <th>98</th>\n",
       "      <td>4.0</td>\n",
       "      <td>5.0</td>\n",
       "      <td>5.0</td>\n",
       "      <td>5.0</td>\n",
       "      <td>3.0</td>\n",
       "    </tr>\n",
       "    <tr>\n",
       "      <th>99</th>\n",
       "      <td>4.0</td>\n",
       "      <td>5.0</td>\n",
       "      <td>5.0</td>\n",
       "      <td>5.0</td>\n",
       "      <td>7.0</td>\n",
       "    </tr>\n",
       "  </tbody>\n",
       "</table>\n",
       "<p>100 rows × 5 columns</p>\n",
       "</div>"
      ],
      "text/plain": [
       "    DNN  XGB   RF  SVM  linSVM\n",
       "0   4.0  2.0  5.0  5.0     4.0\n",
       "1   3.0  4.0  2.0  5.0     5.0\n",
       "2   5.0  5.0  5.0  5.0     5.0\n",
       "3   3.0  3.0  1.0  5.0     4.0\n",
       "4   5.0  1.0  5.0  5.0     7.0\n",
       "..  ...  ...  ...  ...     ...\n",
       "95  4.0  4.0  5.0  5.0     5.0\n",
       "96  4.0  5.0  5.0  5.0     5.0\n",
       "97  4.0  4.0  5.0  5.0     5.0\n",
       "98  4.0  5.0  5.0  5.0     3.0\n",
       "99  4.0  5.0  5.0  5.0     7.0\n",
       "\n",
       "[100 rows x 5 columns]"
      ]
     },
     "execution_count": 41,
     "metadata": {},
     "output_type": "execute_result"
    }
   ],
   "source": [
    "cols = ['DNN', 'XGB', 'RF', 'SVM', 'linSVM']\n",
    "ml_predictions = np.vstack((dnn_y_pred, xgb_y_pred, rf_y_pred, svm_y_pred, svm_lin_y_pred)).T\n",
    "df_test3_predict = pd.DataFrame(data=ml_predictions, columns=cols, )\n",
    "\n",
    "print(f\"{nb_long_id} Test Predictions\")\n",
    "filename = f\"../results/03_At/prediction/{nb_long_id}_test_AtPsy_predictions_f{topN}.pkl\"\n",
    "pickle.dump(df_test3_predict, open(filename, 'wb'))\n",
    "print(f\"Written to: {filename}\")\n",
    "\n",
    "df_test3_predict"
   ]
  }
 ],
 "metadata": {
  "kernelspec": {
   "display_name": "Python 3 (ipykernel)",
   "language": "python",
   "name": "python3"
  },
  "language_info": {
   "codemirror_mode": {
    "name": "ipython",
    "version": 3
   },
   "file_extension": ".py",
   "mimetype": "text/x-python",
   "name": "python",
   "nbconvert_exporter": "python",
   "pygments_lexer": "ipython3",
   "version": "3.8.5"
  }
 },
 "nbformat": 4,
 "nbformat_minor": 5
}

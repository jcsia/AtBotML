{
 "cells": [
  {
   "cell_type": "markdown",
   "id": "d335927c-ab16-47ce-85ae-c688fe99ef1b",
   "metadata": {
    "pycharm": {
     "name": "#%% md\n"
    }
   },
   "source": [
    "# 03a At Only Data"
   ]
  },
  {
   "cell_type": "code",
   "execution_count": 1,
   "id": "d11d63db-0de4-48cb-a28f-e73fa9b54e0d",
   "metadata": {
    "tags": [],
    "pycharm": {
     "name": "#%%\n"
    }
   },
   "outputs": [],
   "source": [
    "%matplotlib inline\n",
    "\n",
    "import pandas as pd\n",
    "import numpy as np\n",
    "import pickle \n",
    "import time \n",
    "\n",
    "from scipy import stats\n",
    "\n",
    "from xgboost import XGBClassifier\n",
    "\n",
    "from sklearn.ensemble import RandomForestClassifier\n",
    "from sklearn.svm import SVC\n",
    "# from sklearn.inspection import permutation_importance\n",
    "\n",
    "import seaborn as sns\n",
    "import matplotlib.pyplot as plt\n",
    "sns.set_theme(style=\"white\")\n",
    "\n",
    "from collections import Counter\n",
    "\n",
    "import sys; sys.path.insert(0, '..') # add parent folder path where lib folder is\n",
    "from atbotml.custom_fuctions import *"
   ]
  },
  {
   "cell_type": "markdown",
   "id": "b7fecacd-7f12-4896-a54b-c8057cf41362",
   "metadata": {
    "pycharm": {
     "name": "#%% md\n"
    }
   },
   "source": [
    "## Notebook parameters"
   ]
  },
  {
   "cell_type": "code",
   "execution_count": 2,
   "id": "44b50dc9-97aa-4829-a470-f138a6683504",
   "metadata": {
    "pycharm": {
     "name": "#%%\n"
    }
   },
   "outputs": [],
   "source": [
    "nb_id = f'03a'\n",
    "nb_long_id = f'{nb_id}_At'\n",
    "num_classes = 10\n",
    "random_state = 42"
   ]
  },
  {
   "cell_type": "markdown",
   "id": "ec0ccf84-3b57-4eb4-91f0-b947acba9f41",
   "metadata": {
    "tags": [],
    "pycharm": {
     "name": "#%% md\n"
    }
   },
   "source": [
    "## Load data"
   ]
  },
  {
   "cell_type": "code",
   "execution_count": 3,
   "id": "4052c6a6-c24f-45ce-a1ac-79533b0d7c95",
   "metadata": {
    "pycharm": {
     "name": "#%%\n"
    }
   },
   "outputs": [
    {
     "name": "stdout",
     "output_type": "stream",
     "text": [
      "Number of data samples: 1092\n",
      "Number of features: 29101\n",
      "Number of At genes: 20340\n"
     ]
    },
    {
     "data": {
      "text/html": [
       "<div>\n",
       "<style scoped>\n",
       "    .dataframe tbody tr th:only-of-type {\n",
       "        vertical-align: middle;\n",
       "    }\n",
       "\n",
       "    .dataframe tbody tr th {\n",
       "        vertical-align: top;\n",
       "    }\n",
       "\n",
       "    .dataframe thead th {\n",
       "        text-align: right;\n",
       "    }\n",
       "</style>\n",
       "<table border=\"1\" class=\"dataframe\">\n",
       "  <thead>\n",
       "    <tr style=\"text-align: right;\">\n",
       "      <th></th>\n",
       "      <th>Index</th>\n",
       "      <th>LibraryID</th>\n",
       "      <th>HostGenoType</th>\n",
       "      <th>Sample</th>\n",
       "      <th>Isolate</th>\n",
       "      <th>Lesion</th>\n",
       "      <th>AT1G01010</th>\n",
       "      <th>AT1G01040</th>\n",
       "      <th>AT1G01046</th>\n",
       "      <th>AT1G01050</th>\n",
       "      <th>...</th>\n",
       "      <th>BCIN18G00020</th>\n",
       "      <th>BCIN18G00060</th>\n",
       "      <th>BCIN18G00145</th>\n",
       "      <th>BCIN18G00180</th>\n",
       "      <th>BCIN18G00190</th>\n",
       "      <th>EFBCT00000013145</th>\n",
       "      <th>EFBCT00000013262</th>\n",
       "      <th>EFBCT00000013292</th>\n",
       "      <th>ENSRNA049512921.T1</th>\n",
       "      <th>ENSRNA049513883.T1</th>\n",
       "    </tr>\n",
       "  </thead>\n",
       "  <tbody>\n",
       "    <tr>\n",
       "      <th>0</th>\n",
       "      <td>coi1_1</td>\n",
       "      <td>coi.1.G1E.1</td>\n",
       "      <td>coi1</td>\n",
       "      <td>1</td>\n",
       "      <td>1.01.01</td>\n",
       "      <td>36.590004</td>\n",
       "      <td>39.556340</td>\n",
       "      <td>0.000000</td>\n",
       "      <td>0.000000</td>\n",
       "      <td>21.373592</td>\n",
       "      <td>...</td>\n",
       "      <td>0.0</td>\n",
       "      <td>0.000000</td>\n",
       "      <td>0.000000</td>\n",
       "      <td>0.000000</td>\n",
       "      <td>0.000000</td>\n",
       "      <td>12.438875</td>\n",
       "      <td>0.000000</td>\n",
       "      <td>0.000000</td>\n",
       "      <td>0.000000</td>\n",
       "      <td>5.321551</td>\n",
       "    </tr>\n",
       "    <tr>\n",
       "      <th>1</th>\n",
       "      <td>coi1_1</td>\n",
       "      <td>coi.1.G1F.1</td>\n",
       "      <td>coi1</td>\n",
       "      <td>1</td>\n",
       "      <td>1.01.01</td>\n",
       "      <td>36.590004</td>\n",
       "      <td>16.918722</td>\n",
       "      <td>0.000000</td>\n",
       "      <td>0.000000</td>\n",
       "      <td>119.029216</td>\n",
       "      <td>...</td>\n",
       "      <td>0.0</td>\n",
       "      <td>0.000000</td>\n",
       "      <td>0.000000</td>\n",
       "      <td>0.000000</td>\n",
       "      <td>0.000000</td>\n",
       "      <td>15.521645</td>\n",
       "      <td>0.000000</td>\n",
       "      <td>0.000000</td>\n",
       "      <td>0.000000</td>\n",
       "      <td>0.000000</td>\n",
       "    </tr>\n",
       "    <tr>\n",
       "      <th>2</th>\n",
       "      <td>coi1_1</td>\n",
       "      <td>coi.1.G2F.1</td>\n",
       "      <td>coi1</td>\n",
       "      <td>1</td>\n",
       "      <td>1.01.01</td>\n",
       "      <td>36.590004</td>\n",
       "      <td>14.735361</td>\n",
       "      <td>0.000000</td>\n",
       "      <td>0.000000</td>\n",
       "      <td>58.388002</td>\n",
       "      <td>...</td>\n",
       "      <td>0.0</td>\n",
       "      <td>0.000000</td>\n",
       "      <td>0.000000</td>\n",
       "      <td>0.000000</td>\n",
       "      <td>0.000000</td>\n",
       "      <td>76.250891</td>\n",
       "      <td>0.000000</td>\n",
       "      <td>0.000000</td>\n",
       "      <td>0.000000</td>\n",
       "      <td>0.000000</td>\n",
       "    </tr>\n",
       "    <tr>\n",
       "      <th>3</th>\n",
       "      <td>coi1_1</td>\n",
       "      <td>coi.1.G2E.1</td>\n",
       "      <td>coi1</td>\n",
       "      <td>1</td>\n",
       "      <td>1.01.01</td>\n",
       "      <td>36.590004</td>\n",
       "      <td>10.552052</td>\n",
       "      <td>0.000000</td>\n",
       "      <td>1.000161</td>\n",
       "      <td>19.548414</td>\n",
       "      <td>...</td>\n",
       "      <td>0.0</td>\n",
       "      <td>0.000000</td>\n",
       "      <td>0.000000</td>\n",
       "      <td>0.000000</td>\n",
       "      <td>0.000000</td>\n",
       "      <td>41.388120</td>\n",
       "      <td>73.847835</td>\n",
       "      <td>53.937879</td>\n",
       "      <td>0.000000</td>\n",
       "      <td>5.059001</td>\n",
       "    </tr>\n",
       "    <tr>\n",
       "      <th>4</th>\n",
       "      <td>coi1_10</td>\n",
       "      <td>coi.1.G2E.10</td>\n",
       "      <td>coi1</td>\n",
       "      <td>10</td>\n",
       "      <td>1.02.04</td>\n",
       "      <td>36.418731</td>\n",
       "      <td>15.229003</td>\n",
       "      <td>0.000000</td>\n",
       "      <td>0.000000</td>\n",
       "      <td>99.136624</td>\n",
       "      <td>...</td>\n",
       "      <td>0.0</td>\n",
       "      <td>15.577566</td>\n",
       "      <td>32.042486</td>\n",
       "      <td>0.000000</td>\n",
       "      <td>24.233666</td>\n",
       "      <td>47.555802</td>\n",
       "      <td>0.000000</td>\n",
       "      <td>54.228767</td>\n",
       "      <td>0.000000</td>\n",
       "      <td>0.000000</td>\n",
       "    </tr>\n",
       "    <tr>\n",
       "      <th>...</th>\n",
       "      <td>...</td>\n",
       "      <td>...</td>\n",
       "      <td>...</td>\n",
       "      <td>...</td>\n",
       "      <td>...</td>\n",
       "      <td>...</td>\n",
       "      <td>...</td>\n",
       "      <td>...</td>\n",
       "      <td>...</td>\n",
       "      <td>...</td>\n",
       "      <td>...</td>\n",
       "      <td>...</td>\n",
       "      <td>...</td>\n",
       "      <td>...</td>\n",
       "      <td>...</td>\n",
       "      <td>...</td>\n",
       "      <td>...</td>\n",
       "      <td>...</td>\n",
       "      <td>...</td>\n",
       "      <td>...</td>\n",
       "      <td>...</td>\n",
       "    </tr>\n",
       "    <tr>\n",
       "      <th>1087</th>\n",
       "      <td>npr1_97</td>\n",
       "      <td>npr.1.G1F.972</td>\n",
       "      <td>npr1</td>\n",
       "      <td>97</td>\n",
       "      <td>1.05.16</td>\n",
       "      <td>20.747628</td>\n",
       "      <td>4.210585</td>\n",
       "      <td>0.226497</td>\n",
       "      <td>0.000000</td>\n",
       "      <td>88.664582</td>\n",
       "      <td>...</td>\n",
       "      <td>0.0</td>\n",
       "      <td>4.623277</td>\n",
       "      <td>12.227030</td>\n",
       "      <td>3.334425</td>\n",
       "      <td>16.953341</td>\n",
       "      <td>12.097817</td>\n",
       "      <td>0.000000</td>\n",
       "      <td>13.795366</td>\n",
       "      <td>0.000000</td>\n",
       "      <td>0.000000</td>\n",
       "    </tr>\n",
       "    <tr>\n",
       "      <th>1088</th>\n",
       "      <td>npr1_97</td>\n",
       "      <td>npr.1.G2E.971</td>\n",
       "      <td>npr1</td>\n",
       "      <td>97</td>\n",
       "      <td>1.05.16</td>\n",
       "      <td>20.747628</td>\n",
       "      <td>3.895372</td>\n",
       "      <td>0.000000</td>\n",
       "      <td>0.000000</td>\n",
       "      <td>18.900222</td>\n",
       "      <td>...</td>\n",
       "      <td>0.0</td>\n",
       "      <td>5.101576</td>\n",
       "      <td>16.951453</td>\n",
       "      <td>7.924833</td>\n",
       "      <td>14.651827</td>\n",
       "      <td>48.519908</td>\n",
       "      <td>11.222415</td>\n",
       "      <td>24.590291</td>\n",
       "      <td>1.537600</td>\n",
       "      <td>0.000000</td>\n",
       "    </tr>\n",
       "    <tr>\n",
       "      <th>1089</th>\n",
       "      <td>npr1_97</td>\n",
       "      <td>npr.1.G2E.972</td>\n",
       "      <td>npr1</td>\n",
       "      <td>97</td>\n",
       "      <td>1.05.16</td>\n",
       "      <td>20.747628</td>\n",
       "      <td>7.494782</td>\n",
       "      <td>0.000000</td>\n",
       "      <td>0.000000</td>\n",
       "      <td>14.318503</td>\n",
       "      <td>...</td>\n",
       "      <td>0.0</td>\n",
       "      <td>7.547289</td>\n",
       "      <td>19.236880</td>\n",
       "      <td>3.313311</td>\n",
       "      <td>15.314539</td>\n",
       "      <td>42.074248</td>\n",
       "      <td>18.768019</td>\n",
       "      <td>27.416028</td>\n",
       "      <td>0.642859</td>\n",
       "      <td>3.857151</td>\n",
       "    </tr>\n",
       "    <tr>\n",
       "      <th>1090</th>\n",
       "      <td>npr1_97</td>\n",
       "      <td>npr.1.G2F.971</td>\n",
       "      <td>npr1</td>\n",
       "      <td>97</td>\n",
       "      <td>1.05.16</td>\n",
       "      <td>20.747628</td>\n",
       "      <td>1.965208</td>\n",
       "      <td>0.000000</td>\n",
       "      <td>0.000000</td>\n",
       "      <td>23.361068</td>\n",
       "      <td>...</td>\n",
       "      <td>0.0</td>\n",
       "      <td>1.803102</td>\n",
       "      <td>16.690115</td>\n",
       "      <td>4.551550</td>\n",
       "      <td>37.868097</td>\n",
       "      <td>132.109896</td>\n",
       "      <td>103.127734</td>\n",
       "      <td>0.000000</td>\n",
       "      <td>0.000000</td>\n",
       "      <td>0.000000</td>\n",
       "    </tr>\n",
       "    <tr>\n",
       "      <th>1091</th>\n",
       "      <td>npr1_97</td>\n",
       "      <td>npr.1.G2F.972</td>\n",
       "      <td>npr1</td>\n",
       "      <td>97</td>\n",
       "      <td>1.05.16</td>\n",
       "      <td>20.747628</td>\n",
       "      <td>4.988623</td>\n",
       "      <td>0.000000</td>\n",
       "      <td>0.866872</td>\n",
       "      <td>21.179064</td>\n",
       "      <td>...</td>\n",
       "      <td>0.0</td>\n",
       "      <td>0.000000</td>\n",
       "      <td>13.988056</td>\n",
       "      <td>19.073366</td>\n",
       "      <td>10.579138</td>\n",
       "      <td>107.261806</td>\n",
       "      <td>43.215895</td>\n",
       "      <td>31.564551</td>\n",
       "      <td>0.000000</td>\n",
       "      <td>2.960537</td>\n",
       "    </tr>\n",
       "  </tbody>\n",
       "</table>\n",
       "<p>1092 rows × 29107 columns</p>\n",
       "</div>"
      ],
      "text/plain": [
       "        Index      LibraryID HostGenoType  Sample  Isolate     Lesion  \\\n",
       "0      coi1_1    coi.1.G1E.1         coi1       1  1.01.01  36.590004   \n",
       "1      coi1_1    coi.1.G1F.1         coi1       1  1.01.01  36.590004   \n",
       "2      coi1_1    coi.1.G2F.1         coi1       1  1.01.01  36.590004   \n",
       "3      coi1_1    coi.1.G2E.1         coi1       1  1.01.01  36.590004   \n",
       "4     coi1_10   coi.1.G2E.10         coi1      10  1.02.04  36.418731   \n",
       "...       ...            ...          ...     ...      ...        ...   \n",
       "1087  npr1_97  npr.1.G1F.972         npr1      97  1.05.16  20.747628   \n",
       "1088  npr1_97  npr.1.G2E.971         npr1      97  1.05.16  20.747628   \n",
       "1089  npr1_97  npr.1.G2E.972         npr1      97  1.05.16  20.747628   \n",
       "1090  npr1_97  npr.1.G2F.971         npr1      97  1.05.16  20.747628   \n",
       "1091  npr1_97  npr.1.G2F.972         npr1      97  1.05.16  20.747628   \n",
       "\n",
       "      AT1G01010  AT1G01040  AT1G01046   AT1G01050  ...  BCIN18G00020  \\\n",
       "0     39.556340   0.000000   0.000000   21.373592  ...           0.0   \n",
       "1     16.918722   0.000000   0.000000  119.029216  ...           0.0   \n",
       "2     14.735361   0.000000   0.000000   58.388002  ...           0.0   \n",
       "3     10.552052   0.000000   1.000161   19.548414  ...           0.0   \n",
       "4     15.229003   0.000000   0.000000   99.136624  ...           0.0   \n",
       "...         ...        ...        ...         ...  ...           ...   \n",
       "1087   4.210585   0.226497   0.000000   88.664582  ...           0.0   \n",
       "1088   3.895372   0.000000   0.000000   18.900222  ...           0.0   \n",
       "1089   7.494782   0.000000   0.000000   14.318503  ...           0.0   \n",
       "1090   1.965208   0.000000   0.000000   23.361068  ...           0.0   \n",
       "1091   4.988623   0.000000   0.866872   21.179064  ...           0.0   \n",
       "\n",
       "      BCIN18G00060  BCIN18G00145  BCIN18G00180  BCIN18G00190  \\\n",
       "0         0.000000      0.000000      0.000000      0.000000   \n",
       "1         0.000000      0.000000      0.000000      0.000000   \n",
       "2         0.000000      0.000000      0.000000      0.000000   \n",
       "3         0.000000      0.000000      0.000000      0.000000   \n",
       "4        15.577566     32.042486      0.000000     24.233666   \n",
       "...            ...           ...           ...           ...   \n",
       "1087      4.623277     12.227030      3.334425     16.953341   \n",
       "1088      5.101576     16.951453      7.924833     14.651827   \n",
       "1089      7.547289     19.236880      3.313311     15.314539   \n",
       "1090      1.803102     16.690115      4.551550     37.868097   \n",
       "1091      0.000000     13.988056     19.073366     10.579138   \n",
       "\n",
       "      EFBCT00000013145  EFBCT00000013262  EFBCT00000013292  \\\n",
       "0            12.438875          0.000000          0.000000   \n",
       "1            15.521645          0.000000          0.000000   \n",
       "2            76.250891          0.000000          0.000000   \n",
       "3            41.388120         73.847835         53.937879   \n",
       "4            47.555802          0.000000         54.228767   \n",
       "...                ...               ...               ...   \n",
       "1087         12.097817          0.000000         13.795366   \n",
       "1088         48.519908         11.222415         24.590291   \n",
       "1089         42.074248         18.768019         27.416028   \n",
       "1090        132.109896        103.127734          0.000000   \n",
       "1091        107.261806         43.215895         31.564551   \n",
       "\n",
       "      ENSRNA049512921.T1  ENSRNA049513883.T1  \n",
       "0               0.000000            5.321551  \n",
       "1               0.000000            0.000000  \n",
       "2               0.000000            0.000000  \n",
       "3               0.000000            5.059001  \n",
       "4               0.000000            0.000000  \n",
       "...                  ...                 ...  \n",
       "1087            0.000000            0.000000  \n",
       "1088            1.537600            0.000000  \n",
       "1089            0.642859            3.857151  \n",
       "1090            0.000000            0.000000  \n",
       "1091            0.000000            2.960537  \n",
       "\n",
       "[1092 rows x 29107 columns]"
      ]
     },
     "execution_count": 3,
     "metadata": {},
     "output_type": "execute_result"
    }
   ],
   "source": [
    "# load complete training dataframe\n",
    "df = pd.read_pickle(\"./01_AtBot_data.pkl\")\n",
    "print(f\"Number of data samples: {len(df)}\")\n",
    "print(f\"Number of features: {len(df.columns)-6}\")\n",
    "\n",
    "# extract feature names from RNASeq data\n",
    "gene_names = list(df)[6:29107]\n",
    "\n",
    "# Arabidopsis only feature gene set\n",
    "n_At = 20340\n",
    "At_list = gene_names[0:n_At]\n",
    "print(f\"Number of At genes: {n_At}\")\n",
    "df"
   ]
  },
  {
   "cell_type": "code",
   "execution_count": 14,
   "id": "5d5266dc-f2ac-4431-bc4b-b82355c93da4",
   "metadata": {
    "pycharm": {
     "name": "#%%\n"
    }
   },
   "outputs": [],
   "source": [
    "# save features\n",
    "topN = len(At_list)\n",
    "df_fs = pd.DataFrame(At_list) \n",
    "df_fs.to_csv(f\"../results/03_At/features/{nb_long_id}_list_{topN}.csv\", header=False, index=False)"
   ]
  },
  {
   "cell_type": "code",
   "execution_count": 17,
   "id": "db40d8fd-b195-4ad0-a21a-2f305757f738",
   "metadata": {
    "pycharm": {
     "name": "#%%\n"
    }
   },
   "outputs": [
    {
     "name": "stdout",
     "output_type": "stream",
     "text": [
      "Training and validation sets\n",
      "X_train: (2060, 20340)\n",
      "X_test: (328, 20340)\n",
      "y_train: (2060,)\n",
      "y_test: (328,)\n",
      "\n",
      "Test set\n",
      "At_X_test_scaled: (6, 20340)\n",
      "\n",
      "AtPsy Test set\n",
      "At_X_test_scaled: (100, 20340)\n"
     ]
    }
   ],
   "source": [
    "# load training, validation data\n",
    "f = open(\"01_train_test_data.pkl\", 'rb')\n",
    "train_test_data = pickle.load(f)\n",
    "f.close()\n",
    "\n",
    "df_X_train = train_test_data['df_X_train']\n",
    "df_X_train = df_X_train.loc[:,At_list]\n",
    "\n",
    "df_X_test = train_test_data['df_X_test']\n",
    "df_X_test = df_X_test.loc[:,At_list]\n",
    "\n",
    "y_train = train_test_data['y_train']\n",
    "y_test = train_test_data['y_test']\n",
    "scaler = train_test_data['scaler']\n",
    "\n",
    "print(f\"Training and validation sets\")\n",
    "print(f\"X_train: {np.shape(df_X_train)}\")\n",
    "print(f\"X_test: {np.shape(df_X_test)}\")\n",
    "print(f\"y_train: {np.shape(y_train)}\")\n",
    "print(f\"y_test: {np.shape(y_test)}\")\n",
    "\n",
    "# At Only test data\n",
    "f = open(\"01_At_test_data.pkl\", 'rb')\n",
    "df_At_X_test_scaled = pickle.load(f)\n",
    "f.close()\n",
    "\n",
    "df_At_X_test_scaled = df_At_X_test_scaled.loc[:,At_list]\n",
    "\n",
    "print(f\"\\nTest set\")\n",
    "print(f\"At_X_test_scaled: {np.shape(df_At_X_test_scaled)}\")\n",
    "\n",
    "# At-Psy test data\n",
    "f = open(\"01_AtPsy_test_data.pkl\", 'rb')\n",
    "df_AtPsy_X_test_scaled = pickle.load(f)\n",
    "f.close()\n",
    "\n",
    "df_AtPsy_X_test_scaled = df_AtPsy_X_test_scaled.loc[:,At_list]\n",
    "\n",
    "print(f\"\\nAtPsy Test set\")\n",
    "print(f\"At_X_test_scaled: {np.shape(df_AtPsy_X_test_scaled)}\")"
   ]
  },
  {
   "cell_type": "code",
   "execution_count": 18,
   "id": "95cdf6f0-9cad-4bb1-b927-ecc6cd6a3b3c",
   "metadata": {
    "pycharm": {
     "name": "#%%\n"
    }
   },
   "outputs": [
    {
     "name": "stdout",
     "output_type": "stream",
     "text": [
      "Saving to 03a_At_train_test_data.pkl\n"
     ]
    }
   ],
   "source": [
    "# Save train validation test dataframes\n",
    "\n",
    "At_train_test_data = dict()\n",
    "At_train_test_data['df_X_train'] = df_X_train\n",
    "At_train_test_data['df_X_test1'] = df_X_test\n",
    "At_train_test_data['df_X_test2'] = df_At_X_test_scaled\n",
    "At_train_test_data['df_X_AtPsy'] = df_AtPsy_X_test_scaled\n",
    "\n",
    "filename = f'{nb_long_id}_train_test_data.pkl'\n",
    "f = open(filename, 'wb')\n",
    "pickle.dump(At_train_test_data, f)\n",
    "f.close()\n",
    "print(f\"Saving to {filename}\")"
   ]
  },
  {
   "cell_type": "code",
   "execution_count": 19,
   "id": "e53aa6c6-f1f3-40f3-b8e4-1ed822df8be9",
   "metadata": {
    "pycharm": {
     "name": "#%%\n"
    }
   },
   "outputs": [],
   "source": [
    "X_train = df_X_train.to_numpy()\n",
    "X_test = df_X_test.to_numpy()\n",
    "At_X_test_scaled = df_At_X_test_scaled.to_numpy()\n",
    "AtPsy_X_test_scaled = df_AtPsy_X_test_scaled.to_numpy()"
   ]
  },
  {
   "cell_type": "markdown",
   "id": "e8d41746-b7bb-4f21-b494-c1804b68a214",
   "metadata": {
    "pycharm": {
     "name": "#%% md\n"
    }
   },
   "source": [
    "### Top Defense"
   ]
  },
  {
   "cell_type": "code",
   "execution_count": 10,
   "id": "4763c99a-c455-456b-bc9e-784f09a14bb3",
   "metadata": {
    "pycharm": {
     "name": "#%%\n"
    }
   },
   "outputs": [
    {
     "name": "stdout",
     "output_type": "stream",
     "text": [
      "Number of defense genes: 130\n"
     ]
    }
   ],
   "source": [
    "# top defense feature set\n",
    "f = open(\"01_AtDefenseGeneList.pkl\", 'rb')\n",
    "defense_list = pickle.load(f)\n",
    "f.close()\n",
    "print(\"Number of defense genes:\", len(defense_list))"
   ]
  },
  {
   "cell_type": "markdown",
   "id": "b3ee6c58-1941-47bc-80e9-c6812c599d64",
   "metadata": {
    "pycharm": {
     "name": "#%% md\n"
    }
   },
   "source": [
    "## Full Data\n",
    "### Data preprocessing\n",
    "Commented out. Data loaded directed instead."
   ]
  },
  {
   "cell_type": "code",
   "execution_count": 11,
   "id": "e9ea7ab9-f49d-46f9-adc7-9a878d5e9c7e",
   "metadata": {
    "pycharm": {
     "name": "#%%\n"
    }
   },
   "outputs": [],
   "source": [
    "# y_class, df_lesion, df_lesion_summary = direct_standardize_labelling(df, num_classes, min_zero=True)\n",
    "\n",
    "# plt.hist(y_class, bins=num_classes)\n",
    "# df_lesion_summary"
   ]
  },
  {
   "cell_type": "code",
   "execution_count": 12,
   "id": "1878efb6-f370-4870-a189-2241e1f15e7e",
   "metadata": {
    "pycharm": {
     "name": "#%%\n"
    }
   },
   "outputs": [],
   "source": [
    "# X_train, X_test, y_train, y_test, scaler = preprocess_AtBotData(df, standardize_label_func=direct_standardize_labelling, \n",
    "#                                                                 features_filter=At_list, \n",
    "#                                                                 num_classes=num_classes, verbose=\"Info\", show_figure=True, \n",
    "#                                                                 nb_id=nb_id, random_state=random_state)"
   ]
  },
  {
   "cell_type": "markdown",
   "id": "09567cd5-350e-4e20-802b-f72836c4a26a",
   "metadata": {
    "pycharm": {
     "name": "#%% md\n"
    }
   },
   "source": [
    "### DNN"
   ]
  },
  {
   "cell_type": "markdown",
   "id": "c5f48930-3116-47c2-9f80-69c764ed930f",
   "metadata": {
    "pycharm": {
     "name": "#%% md\n"
    }
   },
   "source": [
    "Classification accuracy is almost universally inappropriate for imbalanced classification.\n",
    "\n",
    "For imbalanced classification problems, the *majority class* is typically referred to as the negative outcome (e.g. such as “no change” or “negative test result“), and the *minority class* is typically referred to as the positive outcome (e.g. “change” or “positive test result“).\n",
    "\n",
    "**Sensitivity-Specificity Metrics** <br>\n",
    "Sensitivity = TruePositive / (TruePositive + FalseNegative) *<br>\n",
    "Specificity = TrueNegative / (FalsePositive + TrueNegative) <br>\n",
    "G-Mean = sqrt(Sensitivity * Specificity)<br>\n",
    "\n",
    "\n",
    "\n",
    "\n",
    "**Precision-Recall Metrics**<br>\n",
    "Precision = TruePositive / (TruePositive + FalsePositive)<br>\n",
    "Recall = TruePositive / (TruePositive + FalseNegative)<br>\n",
    "F-Measure = (2 * Precision * Recall) / (Precision + Recall) *\n",
    "\n",
    "#### Train"
   ]
  },
  {
   "cell_type": "code",
   "execution_count": null,
   "id": "ce9c8456-8ae5-42aa-87ff-0db9f1cf04f9",
   "metadata": {
    "scrolled": true,
    "tags": [],
    "pycharm": {
     "name": "#%%\n"
    }
   },
   "outputs": [],
   "source": [
    "model, history = train_dnn_1layer(X_train, y_train, X_test, y_test, num_classes, epochs=50)"
   ]
  },
  {
   "cell_type": "markdown",
   "id": "95915a3a-bd33-4992-8a69-879bb49b516b",
   "metadata": {
    "pycharm": {
     "name": "#%% md\n"
    }
   },
   "source": [
    "#### Test1"
   ]
  },
  {
   "cell_type": "code",
   "execution_count": null,
   "id": "c6b83a05-6eed-4924-a823-b395f916276d",
   "metadata": {
    "pycharm": {
     "name": "#%%\n"
    }
   },
   "outputs": [],
   "source": [
    "# Evaluate performance on Test set1\n",
    "predictions = model.predict(X_test)\n",
    "dnn_y_pred = np.argmax(predictions, 1)\n",
    "dnn_score = get_sk_metrics(y_test, dnn_y_pred)\n",
    "dnn_cm = plot_confusion_matrix(y_test, dnn_y_pred)\n",
    "\n",
    "# save the keras model and results\n",
    "filename = f\"./models/{nb_long_id}_dnn_model\"\n",
    "model.save(filename)\n",
    "\n",
    "filename = f\"./models/{nb_long_id}_dnn_results.pkl\"\n",
    "pickle.dump([history.history, dnn_score, dnn_cm], open(filename, 'wb'))\n",
    "print(f\"Written to: {filename}\")"
   ]
  },
  {
   "cell_type": "markdown",
   "id": "cf077907-217a-42bf-a26d-455c3b2161f7",
   "metadata": {
    "pycharm": {
     "name": "#%% md\n"
    }
   },
   "source": [
    "#### Test2"
   ]
  },
  {
   "cell_type": "code",
   "execution_count": 53,
   "id": "07eeb531-765a-4ab8-9c34-ad5c1ce25027",
   "metadata": {
    "pycharm": {
     "name": "#%%\n"
    }
   },
   "outputs": [
    {
     "name": "stdout",
     "output_type": "stream",
     "text": [
      "Written to: ../results/03_At/prediction/03a_At_dnn_test_predict.pkl\n"
     ]
    },
    {
     "data": {
      "text/plain": [
       "array([2, 2, 2, 3, 3, 1])"
      ]
     },
     "execution_count": 53,
     "metadata": {},
     "output_type": "execute_result"
    }
   ],
   "source": [
    "# Evaluate performance on Test set2\n",
    "predictions = model.predict(At_X_test_scaled)\n",
    "dnn_y_pred = np.argmax(predictions, 1)\n",
    "\n",
    "filename = f\"../results/03_At/prediction/{nb_long_id}_dnn_test_predict.pkl\"\n",
    "pickle.dump(dnn_y_pred, open(filename, 'wb'))\n",
    "print(f\"Written to: {filename}\")\n",
    "\n",
    "dnn_y_pred"
   ]
  },
  {
   "cell_type": "markdown",
   "id": "2f332259-0992-4e4e-a8a8-ad57ed136500",
   "metadata": {
    "pycharm": {
     "name": "#%% md\n"
    }
   },
   "source": [
    "#### Test3 AtPsy"
   ]
  },
  {
   "cell_type": "code",
   "execution_count": 35,
   "id": "2f9efe69-b0e6-4250-af22-5edc3363ae9d",
   "metadata": {
    "pycharm": {
     "name": "#%%\n"
    }
   },
   "outputs": [
    {
     "name": "stderr",
     "output_type": "stream",
     "text": [
      "/Users/jayson/miniconda3/envs/py38/lib/python3.8/site-packages/sklearn/metrics/_classification.py:1245: UndefinedMetricWarning: Precision is ill-defined and being set to 0.0 in labels with no predicted samples. Use `zero_division` parameter to control this behavior.\n",
      "  _warn_prf(average, modifier, msg_start, len(result))\n"
     ]
    },
    {
     "name": "stdout",
     "output_type": "stream",
     "text": [
      "Accuracy:\t 29.88%\n",
      "Precision:\t 22.90%\n",
      "Recall:\t\t 20.37%\n",
      "F1 score:\t 20.52%\n"
     ]
    },
    {
     "data": {
      "image/png": "[encoded data removed]",
      "text/plain": [
       "<Figure size 720x504 with 2 Axes>"
      ]
     },
     "metadata": {},
     "output_type": "display_data"
    }
   ],
   "source": [
    "# load model and results\n",
    "filename = './models/' + nb_long_id + '_dnn_model'\n",
    "model = keras.models.load_model(filename)\n",
    "\n",
    "filename = './models/' + nb_long_id + '_dnn_results.pkl'\n",
    "history, dnn_score, dnn_cm = pickle.load(open(filename,'rb'))\n",
    "\n",
    "predictions = model.predict(X_test)\n",
    "dnn_y_pred = np.argmax(predictions, 1)\n",
    "dnn_score = get_sk_metrics(y_test, dnn_y_pred)\n",
    "dnn_cm = plot_confusion_matrix(y_test, dnn_y_pred)"
   ]
  },
  {
   "cell_type": "code",
   "execution_count": 36,
   "id": "5ac9d4b0-2f02-49b2-9be0-5b1fca9b5e11",
   "metadata": {
    "pycharm": {
     "name": "#%%\n"
    }
   },
   "outputs": [
    {
     "name": "stdout",
     "output_type": "stream",
     "text": [
      "Written to: ../results/03_At/prediction/03a_At_dnn_test_AtPsy_predict.pkl\n"
     ]
    },
    {
     "data": {
      "text/plain": [
       "array([2, 2, 2, 2, 2, 2, 2, 2, 2, 2, 2, 2, 2, 2, 2, 2, 2, 2, 2, 2, 2, 2,\n",
       "       2, 2, 2, 2, 2, 2, 2, 2, 2, 2, 2, 2, 2, 2, 2, 2, 2, 2, 2, 2, 2, 2,\n",
       "       2, 2, 2, 2, 2, 2, 2, 2, 2, 2, 2, 2, 2, 2, 2, 2, 2, 2, 2, 2, 2, 2,\n",
       "       2, 2, 2, 2, 2, 2, 2, 2, 2, 2, 2, 2, 2, 2, 2, 2, 2, 2, 2, 2, 2, 2,\n",
       "       2, 2, 2, 2, 2, 2, 2, 2, 2, 2, 2, 2])"
      ]
     },
     "execution_count": 36,
     "metadata": {},
     "output_type": "execute_result"
    }
   ],
   "source": [
    "# Evaluate performance on Test set2\n",
    "\n",
    "X_test_scaled = AtPsy_X_test_scaled\n",
    "\n",
    "predictions = model.predict(X_test_scaled)\n",
    "dnn_y_pred = np.argmax(predictions, 1)\n",
    "\n",
    "filename = f\"../results/03_At/prediction/{nb_long_id}_dnn_test_AtPsy_predict.pkl\"\n",
    "pickle.dump(dnn_y_pred, open(filename, 'wb'))\n",
    "print(f\"Written to: {filename}\")\n",
    "\n",
    "dnn_y_pred"
   ]
  },
  {
   "cell_type": "markdown",
   "id": "63969112-a843-402a-b860-1300a852f7ea",
   "metadata": {
    "pycharm": {
     "name": "#%% md\n"
    }
   },
   "source": [
    "### XGBoost\n",
    "XGBoost is an implementaplotscriben of gradient boosted decision trees designed for speed and performance.\n",
    "\n",
    "#### Train"
   ]
  },
  {
   "cell_type": "code",
   "execution_count": null,
   "id": "06860ec0-cff9-4ced-afb3-c2cab775de2d",
   "metadata": {
    "pycharm": {
     "name": "#%%\n"
    }
   },
   "outputs": [],
   "source": [
    "xgb = XGBClassifier()\n",
    "\n",
    "t0 = time.time()\n",
    "xgb.fit(X_train, y_train)\n",
    "t = time.time() - t0\n",
    "\n",
    "print(f\"\\nelapsed time: {(t/60):.2f} mins\")\n",
    "print()"
   ]
  },
  {
   "cell_type": "markdown",
   "id": "d8cce114-08fe-42e5-a7cd-8a0ec6f9326a",
   "metadata": {
    "pycharm": {
     "name": "#%% md\n"
    }
   },
   "source": [
    "##### Features importance"
   ]
  },
  {
   "cell_type": "code",
   "execution_count": null,
   "id": "7190b1f5-55f7-4af3-b717-d9975caa5da3",
   "metadata": {
    "pycharm": {
     "name": "#%%\n"
    }
   },
   "outputs": [],
   "source": [
    "node_features = xgb.feature_importances_\n",
    "node_features_dict = {At_list[i]: node_features[i] for i in range(len(At_list))}\n",
    "node_ranking_dict = {k: v for k, v in sorted(node_features_dict.items(), key=lambda item: item[1], reverse=True)}\n",
    "\n",
    "filename = f\"../results/03_At/features/{nb_long_id}_xgb.npy\"\n",
    "np.save(filename,node_ranking_dict)\n",
    "print(f\"Written to: {filename}\")"
   ]
  },
  {
   "cell_type": "code",
   "execution_count": null,
   "id": "57c60d95-975f-4975-8d68-d77b9a569427",
   "metadata": {
    "pycharm": {
     "name": "#%%\n"
    }
   },
   "outputs": [],
   "source": [
    "filename = f\"../results/03_At/features/{nb_long_id}_xgb.npy\"\n",
    "\n",
    "node_ranking_dict = np.load(filename, allow_pickle=True)\n",
    "node_ranking_dict = node_ranking_dict.item()\n",
    "\n",
    "topN = None # 3500\n",
    "plt.plot(list(node_ranking_dict.values())[0:topN])\n",
    "plt.yscale(\"log\")\n",
    "plt.title('XGB ranked fnb_long_id importance')\n",
    "# plt.xticks()\n",
    "plt.xlabel('top features')\n",
    "plt.ylabel('Importance')\n",
    "plt.show()"
   ]
  },
  {
   "cell_type": "markdown",
   "id": "12cd5d70-6009-4e9d-add9-7a150601ea9f",
   "metadata": {
    "pycharm": {
     "name": "#%% md\n"
    }
   },
   "source": [
    "#### Test1"
   ]
  },
  {
   "cell_type": "code",
   "execution_count": null,
   "id": "35649cb4-1c6e-47fe-a721-9638ac092027",
   "metadata": {
    "pycharm": {
     "name": "#%%\n"
    }
   },
   "outputs": [],
   "source": [
    "xgb_y_pred = xgb.predict(X_test)\n",
    "xgb_score = get_sk_metrics(y_test, xgb_y_pred, average='macro')\n",
    "xgb_cm = plot_confusion_matrix(y_test, xgb_y_pred)\n",
    "\n",
    "filename = f\"./models/{nb_long_id}_xgb_model_results.pkl\"\n",
    "pickle.dump([xgb, xgb_score, xgb_cm], open(filename, 'wb'))\n",
    "print(f\"Written to: {filename}\")"
   ]
  },
  {
   "cell_type": "markdown",
   "id": "d6228ce2-7ab8-4959-8ec5-10795694e5ad",
   "metadata": {
    "pycharm": {
     "name": "#%% md\n"
    }
   },
   "source": [
    "#### Test2"
   ]
  },
  {
   "cell_type": "code",
   "execution_count": 54,
   "id": "234f69a3-16d9-4050-9f73-765c31e91b58",
   "metadata": {
    "pycharm": {
     "name": "#%%\n"
    }
   },
   "outputs": [
    {
     "name": "stdout",
     "output_type": "stream",
     "text": [
      "Written to: ../results/03_At/prediction/03a_At_xgb_test_predict.pkl\n"
     ]
    },
    {
     "data": {
      "text/plain": [
       "array([5., 5., 2., 5., 8., 5.])"
      ]
     },
     "execution_count": 54,
     "metadata": {},
     "output_type": "execute_result"
    }
   ],
   "source": [
    "xgb_y_pred = xgb.predict(At_X_test_scaled)\n",
    "\n",
    "filename = f\"../results/03_At/prediction/{nb_long_id}_xgb_test_predict.pkl\"\n",
    "pickle.dump(xgb_y_pred, open(filename, 'wb'))\n",
    "print(f\"Written to: {filename}\")\n",
    "xgb_y_pred"
   ]
  },
  {
   "cell_type": "markdown",
   "id": "172115b3-9e48-41b8-a87b-6650322c9532",
   "metadata": {
    "pycharm": {
     "name": "#%% md\n"
    }
   },
   "source": [
    "#### Test3 AtPsy"
   ]
  },
  {
   "cell_type": "code",
   "execution_count": 30,
   "id": "dfc42802-c11b-41bd-808d-e79178ea7712",
   "metadata": {
    "pycharm": {
     "name": "#%%\n"
    }
   },
   "outputs": [
    {
     "name": "stdout",
     "output_type": "stream",
     "text": [
      "Accuracy:\t 30.18%\n",
      "Precision:\t 17.39%\n",
      "Recall:\t\t 17.79%\n",
      "F1 score:\t 17.19%\n"
     ]
    },
    {
     "data": {
      "image/png": "[encoded data removed]",
      "text/plain": [
       "<Figure size 720x504 with 2 Axes>"
      ]
     },
     "metadata": {},
     "output_type": "display_data"
    }
   ],
   "source": [
    "filename = './models/' + nb_long_id + '_xgb_model_results.pkl'\n",
    "xgb, xgb_score, xgb_cm = pickle.load(open(filename,'rb'))\n",
    "\n",
    "xgb_y_pred = xgb.predict(X_test)\n",
    "xgb_score = get_sk_metrics(y_test, xgb_y_pred, average='macro')\n",
    "xgb_cm = plot_confusion_matrix(y_test, xgb_y_pred)"
   ]
  },
  {
   "cell_type": "code",
   "execution_count": 39,
   "id": "11dab6a6-a36b-423b-9be8-d8ab8aea150d",
   "metadata": {
    "pycharm": {
     "name": "#%%\n"
    }
   },
   "outputs": [
    {
     "name": "stdout",
     "output_type": "stream",
     "text": [
      "Written to: ../results/03_At/prediction/03a_At_xgb_test_AtPsy_predict.pkl\n"
     ]
    },
    {
     "data": {
      "text/plain": [
       "array([5., 3., 4., 3., 5., 4., 5., 6., 4., 2., 6., 5., 5., 5., 5., 4., 4.,\n",
       "       4., 5., 4., 5., 5., 5., 3., 5., 5., 3., 4., 5., 5., 5., 5., 5., 4.,\n",
       "       4., 4., 4., 3., 4., 5., 5., 4., 4., 5., 4., 4., 3., 5., 5., 0., 5.,\n",
       "       0., 5., 4., 5., 4., 4., 4., 5., 5., 4., 5., 4., 5., 5., 5., 4., 5.,\n",
       "       5., 5., 5., 6., 5., 5., 4., 4., 5., 5., 5., 5., 5., 5., 4., 5., 5.,\n",
       "       5., 4., 5., 4., 5., 5., 5., 4., 3., 4., 4., 5., 4., 5., 6.])"
      ]
     },
     "execution_count": 39,
     "metadata": {},
     "output_type": "execute_result"
    }
   ],
   "source": [
    "X_test_scaled = AtPsy_X_test_scaled\n",
    "\n",
    "xgb_y_pred = xgb.predict(X_test_scaled)\n",
    "\n",
    "filename = f\"../results/03_At/prediction/{nb_long_id}_xgb_test_AtPsy_predict.pkl\"\n",
    "pickle.dump(xgb_y_pred, open(filename, 'wb'))\n",
    "print(f\"Written to: {filename}\")\n",
    "xgb_y_pred"
   ]
  },
  {
   "cell_type": "markdown",
   "id": "a8128dbf-8283-4549-bfe4-59936cafba5a",
   "metadata": {
    "pycharm": {
     "name": "#%% md\n"
    }
   },
   "source": [
    "### Random Forest"
   ]
  },
  {
   "cell_type": "markdown",
   "id": "b7e996c6-de7a-431b-9ce3-13af0b512086",
   "metadata": {
    "pycharm": {
     "name": "#%% md\n"
    }
   },
   "source": [
    "#### Train"
   ]
  },
  {
   "cell_type": "code",
   "execution_count": null,
   "id": "1ed2d864-52c2-4e04-a4f6-f1c6ef8fae75",
   "metadata": {
    "pycharm": {
     "name": "#%%\n"
    }
   },
   "outputs": [],
   "source": [
    "rf = RandomForestClassifier(n_estimators=100, max_depth=30, random_state=0)\n",
    "\n",
    "t0 = time.time()\n",
    "rf.fit(X_train, y_train)\n",
    "t = time.time() - t0\n",
    "\n",
    "print(f\"\\nelapsed time: {(t/60):.2f} mins\")\n",
    "print()"
   ]
  },
  {
   "cell_type": "markdown",
   "id": "ce834834-0100-499a-a820-ba15976f278f",
   "metadata": {
    "pycharm": {
     "name": "#%% md\n"
    }
   },
   "source": [
    "##### Features importance"
   ]
  },
  {
   "cell_type": "code",
   "execution_count": null,
   "id": "53c9d3d1-0d49-425f-926e-b82c04251351",
   "metadata": {
    "pycharm": {
     "name": "#%%\n"
    }
   },
   "outputs": [],
   "source": [
    "node_features = rf.feature_importances_\n",
    "node_features_dict = {At_list[i]: node_features[i] for i in range(len(At_list))}\n",
    "node_ranking_dict = {k: v for k, v in sorted(node_features_dict.items(), key=lambda item: item[1], reverse=True)}\n",
    "\n",
    "filename = f\"../results/03_At/features/{nb_long_id}_rf.npy\"\n",
    "np.save(filename,node_ranking_dict)\n",
    "print(f\"Written to: {filename}\")"
   ]
  },
  {
   "cell_type": "code",
   "execution_count": null,
   "id": "8d1c33ff-4ce2-4561-8ee8-ea67aafc67d1",
   "metadata": {
    "pycharm": {
     "name": "#%%\n"
    }
   },
   "outputs": [],
   "source": [
    "filename = f\"../results/03_At/features/{nb_long_id}_rf.npy\"\n",
    "\n",
    "node_ranking_dict = np.load(filename, allow_pickle=True)\n",
    "node_ranking_dict = node_ranking_dict.item()\n",
    "\n",
    "topN = None\n",
    "plt.plot(list(node_ranking_dict.values())[0:topN])\n",
    "plt.yscale(\"log\")\n",
    "plt.title('XGB ranked feature importance')\n",
    "# plt.xticks()\n",
    "plt.xlabel('top features')\n",
    "plt.ylabel('Importance')\n",
    "plt.show()"
   ]
  },
  {
   "cell_type": "markdown",
   "id": "34e934a6-4eb2-4a9f-b1d1-6fcae62cc058",
   "metadata": {
    "pycharm": {
     "name": "#%% md\n"
    }
   },
   "source": [
    "#### Test1"
   ]
  },
  {
   "cell_type": "code",
   "execution_count": null,
   "id": "4337569c-ee82-4247-9f3f-d2bf4c48c6e7",
   "metadata": {
    "pycharm": {
     "name": "#%%\n"
    }
   },
   "outputs": [],
   "source": [
    "rf_y_pred = rf.predict(X_test)\n",
    "rf_score = get_sk_metrics(y_test, rf_y_pred, average='macro')\n",
    "rf_cm = plot_confusion_matrix(y_test, rf_y_pred)\n",
    "\n",
    "filename = f\"./models/{nb_long_id}_rf_model_results.pkl\"\n",
    "pickle.dump([rf, rf_score, rf_cm], open(filename, 'wb'))\n",
    "print(f\"Written to: {filename}\")"
   ]
  },
  {
   "cell_type": "markdown",
   "id": "a0bd6d8a-f05f-4d00-a06e-e69f0077af15",
   "metadata": {
    "pycharm": {
     "name": "#%% md\n"
    }
   },
   "source": [
    "#### Test2"
   ]
  },
  {
   "cell_type": "code",
   "execution_count": 55,
   "id": "1ea3d9b5-8390-480e-88fc-8360a10a341e",
   "metadata": {
    "pycharm": {
     "name": "#%%\n"
    }
   },
   "outputs": [
    {
     "name": "stdout",
     "output_type": "stream",
     "text": [
      "Written to: ../results/03_At/prediction/03a_At_rf_test_predict.pkl\n"
     ]
    },
    {
     "data": {
      "text/plain": [
       "array([2., 2., 2., 3., 2., 5.])"
      ]
     },
     "execution_count": 55,
     "metadata": {},
     "output_type": "execute_result"
    }
   ],
   "source": [
    "rf_y_pred = rf.predict(At_X_test_scaled)\n",
    "\n",
    "filename = f\"../results/03_At/prediction/{nb_long_id}_rf_test_predict.pkl\"\n",
    "pickle.dump(rf_y_pred, open(filename, 'wb'))\n",
    "print(f\"Written to: {filename}\")\n",
    "rf_y_pred"
   ]
  },
  {
   "cell_type": "markdown",
   "id": "62d862ed-5ef9-4470-8b16-f768a8265d57",
   "metadata": {
    "pycharm": {
     "name": "#%% md\n"
    }
   },
   "source": [
    "#### Test3 AtPsy"
   ]
  },
  {
   "cell_type": "code",
   "execution_count": 40,
   "id": "dd1dcb49-5dd9-46df-a050-fbdfe184aae1",
   "metadata": {
    "pycharm": {
     "name": "#%%\n"
    }
   },
   "outputs": [
    {
     "name": "stdout",
     "output_type": "stream",
     "text": [
      "Accuracy:\t 33.84%\n",
      "Precision:\t 23.02%\n",
      "Recall:\t\t 22.10%\n",
      "F1 score:\t 21.79%\n"
     ]
    },
    {
     "data": {
      "image/png": "[encoded data removed]",
      "text/plain": [
       "<Figure size 720x504 with 2 Axes>"
      ]
     },
     "metadata": {},
     "output_type": "display_data"
    }
   ],
   "source": [
    "filename = './models/' + nb_long_id + '_rf_model_results.pkl'\n",
    "rf, rf_score, rf_cm = pickle.load(open(filename,'rb'))\n",
    "\n",
    "rf_y_pred = rf.predict(X_test)\n",
    "rf_score = get_sk_metrics(y_test, rf_y_pred, average='macro')\n",
    "rf_cm = plot_confusion_matrix(y_test, rf_y_pred)"
   ]
  },
  {
   "cell_type": "code",
   "execution_count": 43,
   "id": "994ab631-dd24-4443-a71a-8d5632e49763",
   "metadata": {
    "pycharm": {
     "name": "#%%\n"
    }
   },
   "outputs": [
    {
     "name": "stdout",
     "output_type": "stream",
     "text": [
      "Written to: ../results/03_At/prediction/03a_At_rf_test_AtPsy_predict.pkl\n"
     ]
    },
    {
     "data": {
      "text/plain": [
       "array([5., 5., 3., 5., 7., 5., 5., 5., 5., 5., 5., 2., 5., 4., 5., 5., 5.,\n",
       "       5., 5., 5., 5., 5., 5., 5., 5., 2., 5., 4., 5., 5., 5., 5., 5., 5.,\n",
       "       5., 5., 5., 5., 5., 5., 5., 4., 5., 2., 5., 5., 3., 5., 3., 5., 5.,\n",
       "       2., 5., 5., 5., 5., 5., 5., 5., 5., 1., 5., 2., 5., 5., 5., 5., 2.,\n",
       "       5., 5., 5., 5., 5., 5., 5., 5., 5., 5., 5., 2., 5., 5., 3., 5., 5.,\n",
       "       5., 2., 5., 2., 5., 5., 5., 5., 5., 5., 5., 5., 5., 5., 5.])"
      ]
     },
     "execution_count": 43,
     "metadata": {},
     "output_type": "execute_result"
    }
   ],
   "source": [
    "X_test_scaled = AtPsy_X_test_scaled\n",
    "rf_y_pred = rf.predict(X_test_scaled)\n",
    "\n",
    "filename = f\"../results/03_At/prediction/{nb_long_id}_rf_test_AtPsy_predict.pkl\"\n",
    "pickle.dump(rf_y_pred, open(filename, 'wb'))\n",
    "print(f\"Written to: {filename}\")\n",
    "rf_y_pred"
   ]
  },
  {
   "cell_type": "markdown",
   "id": "3d74bd50-526a-4f37-98b4-1ede267380ea",
   "metadata": {
    "pycharm": {
     "name": "#%% md\n"
    }
   },
   "source": [
    "### SVM\n",
    "#### RBF kernel\n",
    "##### Train"
   ]
  },
  {
   "cell_type": "code",
   "execution_count": null,
   "id": "c9b8af1b-0816-4a29-af75-935c863c7359",
   "metadata": {
    "pycharm": {
     "name": "#%%\n"
    }
   },
   "outputs": [],
   "source": [
    "#Create a svm Classifier\n",
    "svm = SVC() \n",
    "\n",
    "t0 = time.time()\n",
    "svm.fit(X_train, y_train)\n",
    "t = time.time() - t0\n",
    "\n",
    "print(f\"\\nelapsed time: {(t/60):.2f} mins\")\n",
    "print()"
   ]
  },
  {
   "cell_type": "markdown",
   "id": "9b620f09-4fa8-4167-9b9b-ae6c3fb8e0a9",
   "metadata": {
    "pycharm": {
     "name": "#%% md\n"
    }
   },
   "source": [
    "##### Test1"
   ]
  },
  {
   "cell_type": "code",
   "execution_count": null,
   "id": "44e224ae-3888-4944-a4cc-e3026ee659fa",
   "metadata": {
    "pycharm": {
     "name": "#%%\n"
    }
   },
   "outputs": [],
   "source": [
    "#Predict the response for test dataset\n",
    "svm_y_pred = svm.predict(X_test)\n",
    "svm_score = get_sk_metrics(y_test, svm_y_pred, average='macro')\n",
    "svm_cm = plot_confusion_matrix(y_test, svm_y_pred)\n",
    "\n",
    "filename = f\"./models/{nb_long_id}_svm_model_results.pkl\"\n",
    "pickle.dump([svm, svm_score, svm_cm], open(filename, 'wb'))\n",
    "print(f\"Written to: {filename}\")"
   ]
  },
  {
   "cell_type": "markdown",
   "id": "bcd934bf-d612-4a8b-b779-6f5ad3df99a3",
   "metadata": {
    "pycharm": {
     "name": "#%% md\n"
    }
   },
   "source": [
    "##### Test2"
   ]
  },
  {
   "cell_type": "code",
   "execution_count": 56,
   "id": "bc3490b5-d477-4a08-a57b-fed47875f907",
   "metadata": {
    "pycharm": {
     "name": "#%%\n"
    }
   },
   "outputs": [
    {
     "name": "stdout",
     "output_type": "stream",
     "text": [
      "Written to: ../results/03_At/prediction/03a_At_svm_test_predict.pkl\n"
     ]
    },
    {
     "data": {
      "text/plain": [
       "array([2., 2., 2., 2., 2., 5.])"
      ]
     },
     "execution_count": 56,
     "metadata": {},
     "output_type": "execute_result"
    }
   ],
   "source": [
    "#Predict the response for test dataset\n",
    "svm_y_pred = svm.predict(At_X_test_scaled)\n",
    "\n",
    "filename = f\"../results/03_At/prediction/{nb_long_id}_svm_test_predict.pkl\"\n",
    "pickle.dump(svm_y_pred, open(filename, 'wb'))\n",
    "print(f\"Written to: {filename}\")\n",
    "svm_y_pred"
   ]
  },
  {
   "cell_type": "markdown",
   "id": "db76d490-e364-4e9e-ba9a-f7ad96a4cc63",
   "metadata": {
    "pycharm": {
     "name": "#%% md\n"
    }
   },
   "source": [
    "##### Test3 AtPsy"
   ]
  },
  {
   "cell_type": "code",
   "execution_count": 44,
   "id": "4da78195-5d06-40d7-b824-c5afa5de760d",
   "metadata": {
    "pycharm": {
     "name": "#%%\n"
    }
   },
   "outputs": [
    {
     "name": "stderr",
     "output_type": "stream",
     "text": [
      "/Users/jayson/miniconda3/envs/py38/lib/python3.8/site-packages/sklearn/metrics/_classification.py:1245: UndefinedMetricWarning: Precision is ill-defined and being set to 0.0 in labels with no predicted samples. Use `zero_division` parameter to control this behavior.\n",
      "  _warn_prf(average, modifier, msg_start, len(result))\n"
     ]
    },
    {
     "name": "stdout",
     "output_type": "stream",
     "text": [
      "Accuracy:\t 29.27%\n",
      "Precision:\t 18.89%\n",
      "Recall:\t\t 17.76%\n",
      "F1 score:\t 17.57%\n"
     ]
    },
    {
     "data": {
      "image/png": "[encoded data removed]",
      "text/plain": [
       "<Figure size 720x504 with 2 Axes>"
      ]
     },
     "metadata": {},
     "output_type": "display_data"
    }
   ],
   "source": [
    "filename = './models/' + nb_long_id + '_svm_model_results.pkl'\n",
    "svm, svm_score, svm_cm = pickle.load(open(filename,'rb'))\n",
    "\n",
    "svm_y_pred = svm.predict(X_test)\n",
    "svm_score = get_sk_metrics(y_test, svm_y_pred, average='macro')\n",
    "svm_cm = plot_confusion_matrix(y_test, svm_y_pred)"
   ]
  },
  {
   "cell_type": "code",
   "execution_count": 45,
   "id": "97490dc8-8711-4097-8438-2a903f9fb5f5",
   "metadata": {
    "pycharm": {
     "name": "#%%\n"
    }
   },
   "outputs": [
    {
     "name": "stdout",
     "output_type": "stream",
     "text": [
      "Written to: ../results/03_At/prediction/03a_At_svm_test_AtPsy_predict.pkl\n"
     ]
    },
    {
     "data": {
      "text/plain": [
       "array([2., 2., 2., 2., 2., 2., 2., 2., 2., 2., 2., 2., 2., 2., 2., 2., 2.,\n",
       "       2., 2., 2., 2., 2., 2., 2., 2., 2., 2., 2., 2., 2., 2., 2., 2., 2.,\n",
       "       2., 2., 2., 2., 2., 2., 2., 2., 2., 2., 2., 2., 2., 2., 2., 2., 2.,\n",
       "       2., 2., 2., 2., 2., 2., 2., 2., 2., 2., 2., 2., 2., 2., 2., 2., 2.,\n",
       "       2., 2., 2., 2., 2., 2., 2., 2., 2., 2., 2., 2., 2., 2., 2., 2., 2.,\n",
       "       2., 2., 2., 2., 2., 2., 2., 2., 2., 2., 2., 2., 2., 2., 2.])"
      ]
     },
     "execution_count": 45,
     "metadata": {},
     "output_type": "execute_result"
    }
   ],
   "source": [
    "#Predict the response for test dataset\n",
    "\n",
    "X_test_scaled = AtPsy_X_test_scaled\n",
    "svm_y_pred = svm.predict(X_test_scaled)\n",
    "\n",
    "filename = f\"../results/03_At/prediction/{nb_long_id}_svm_test_AtPsy_predict.pkl\"\n",
    "pickle.dump(svm_y_pred, open(filename, 'wb'))\n",
    "print(f\"Written to: {filename}\")\n",
    "svm_y_pred"
   ]
  },
  {
   "cell_type": "markdown",
   "id": "f60abe85-bb14-4ea8-ae36-994c63fdaf6e",
   "metadata": {
    "pycharm": {
     "name": "#%% md\n"
    }
   },
   "source": [
    "#### Linear kernel\n",
    "##### Train"
   ]
  },
  {
   "cell_type": "code",
   "execution_count": null,
   "id": "e27a9221-74db-4e13-ab89-821b8d6015b4",
   "metadata": {
    "pycharm": {
     "name": "#%%\n"
    }
   },
   "outputs": [],
   "source": [
    "#Create a svm Classifier\n",
    "svm_lin = SVC(kernel='linear') # Linear Kernel\n",
    "\n",
    "t0 = time.time()\n",
    "#Train the model using the training sets\n",
    "svm_lin.fit(X_train, y_train)\n",
    "t = time.time() - t0\n",
    "\n",
    "print(f\"\\nelapsed time: {(t/60):.2f} mins\")\n",
    "print()"
   ]
  },
  {
   "cell_type": "markdown",
   "id": "c96cab27-5893-452d-957e-01a459c04cff",
   "metadata": {
    "pycharm": {
     "name": "#%% md\n"
    }
   },
   "source": [
    "##### Test1"
   ]
  },
  {
   "cell_type": "code",
   "execution_count": null,
   "id": "07d0a157-0384-415b-b1b3-b2edc2bec0df",
   "metadata": {
    "pycharm": {
     "name": "#%%\n"
    }
   },
   "outputs": [],
   "source": [
    "svm_lin_y_pred = svm_lin.predict(X_test)\n",
    "svm_lin_score = get_sk_metrics(y_test, svm_lin_y_pred, average='macro')\n",
    "svm_lin_cm = plot_confusion_matrix(y_test, svm_lin_y_pred)\n",
    "\n",
    "filename = f\"./models/{nb_long_id}_svm_lin_model_results.pkl\"\n",
    "pickle.dump([svm_lin, svm_lin_score, svm_lin_cm], open(filename, 'wb'))\n",
    "print(f\"Written to: {filename}\")"
   ]
  },
  {
   "cell_type": "markdown",
   "id": "537b2b99-6354-4e9a-a402-f9a044edc5b2",
   "metadata": {
    "pycharm": {
     "name": "#%% md\n"
    }
   },
   "source": [
    "##### Test2"
   ]
  },
  {
   "cell_type": "code",
   "execution_count": 57,
   "id": "5cca2516-2372-48f5-a773-b8cbc0389729",
   "metadata": {
    "pycharm": {
     "name": "#%%\n"
    }
   },
   "outputs": [
    {
     "name": "stdout",
     "output_type": "stream",
     "text": [
      "Written to: ../results/03_At/prediction/03a_At_svm_lin_test_predict.pkl\n"
     ]
    },
    {
     "data": {
      "text/plain": [
       "array([1., 2., 1., 3., 3., 5.])"
      ]
     },
     "execution_count": 57,
     "metadata": {},
     "output_type": "execute_result"
    }
   ],
   "source": [
    "svm_lin_y_pred = svm_lin.predict(At_X_test_scaled)\n",
    "\n",
    "filename = f\"../results/03_At/prediction/{nb_long_id}_svm_lin_test_predict.pkl\"\n",
    "pickle.dump(svm_lin_y_pred, open(filename, 'wb'))\n",
    "print(f\"Written to: {filename}\")\n",
    "svm_lin_y_pred"
   ]
  },
  {
   "cell_type": "markdown",
   "id": "187c6a5d-9cb4-4102-9236-fae49c5db325",
   "metadata": {
    "pycharm": {
     "name": "#%% md\n"
    }
   },
   "source": [
    "##### Test3 AtPsy"
   ]
  },
  {
   "cell_type": "code",
   "execution_count": 46,
   "id": "3444ed55-639a-4a28-97cf-2bc8ea695dbf",
   "metadata": {
    "pycharm": {
     "name": "#%%\n"
    }
   },
   "outputs": [
    {
     "name": "stderr",
     "output_type": "stream",
     "text": [
      "/Users/jayson/miniconda3/envs/py38/lib/python3.8/site-packages/sklearn/metrics/_classification.py:1245: UndefinedMetricWarning: Precision is ill-defined and being set to 0.0 in labels with no predicted samples. Use `zero_division` parameter to control this behavior.\n",
      "  _warn_prf(average, modifier, msg_start, len(result))\n"
     ]
    },
    {
     "name": "stdout",
     "output_type": "stream",
     "text": [
      "Accuracy:\t 32.32%\n",
      "Precision:\t 21.61%\n",
      "Recall:\t\t 19.87%\n",
      "F1 score:\t 20.01%\n"
     ]
    },
    {
     "data": {
      "image/png": "[encoded data removed]",
      "text/plain": [
       "<Figure size 720x504 with 2 Axes>"
      ]
     },
     "metadata": {},
     "output_type": "display_data"
    }
   ],
   "source": [
    "filename = './models/' + nb_long_id + '_svm_lin_model_results.pkl'\n",
    "svm_lin, svm_lin_score, svm_lin_cm = pickle.load(open(filename,'rb'))\n",
    "\n",
    "svm_lin_y_pred = svm_lin.predict(X_test)\n",
    "svm_lin_score = get_sk_metrics(y_test, svm_lin_y_pred, average='macro')\n",
    "svm_lin_cm = plot_confusion_matrix(y_test, svm_lin_y_pred)"
   ]
  },
  {
   "cell_type": "code",
   "execution_count": 47,
   "id": "663a97c5-b604-4959-90b4-058f6b615ea5",
   "metadata": {
    "pycharm": {
     "name": "#%%\n"
    }
   },
   "outputs": [
    {
     "name": "stdout",
     "output_type": "stream",
     "text": [
      "Written to: ../results/03_At/prediction/03a_At_svm_lin_test_AtPsy_predict.pkl\n"
     ]
    },
    {
     "data": {
      "text/plain": [
       "array([2., 3., 2., 3., 4., 4., 5., 2., 2., 2., 0., 0., 8., 2., 2., 2., 2.,\n",
       "       2., 2., 3., 2., 3., 2., 2., 2., 3., 2., 3., 2., 2., 2., 3., 0., 0.,\n",
       "       2., 0., 2., 2., 2., 2., 2., 2., 2., 3., 2., 4., 3., 2., 5., 3., 3.,\n",
       "       3., 2., 2., 2., 5., 4., 5., 3., 5., 2., 5., 3., 2., 5., 5., 5., 2.,\n",
       "       5., 5., 5., 2., 4., 2., 2., 5., 5., 5., 4., 5., 5., 4., 2., 2., 4.,\n",
       "       4., 2., 3., 3., 5., 2., 2., 2., 2., 4., 4., 2., 2., 4., 5.])"
      ]
     },
     "execution_count": 47,
     "metadata": {},
     "output_type": "execute_result"
    }
   ],
   "source": [
    "X_test_scaled = AtPsy_X_test_scaled\n",
    "\n",
    "svm_lin_y_pred = svm_lin.predict(X_test_scaled)\n",
    "\n",
    "filename = f\"../results/03_At/prediction/{nb_long_id}_svm_lin_test_AtPsy_predict.pkl\"\n",
    "pickle.dump(svm_lin_y_pred, open(filename, 'wb'))\n",
    "print(f\"Written to: {filename}\")\n",
    "svm_lin_y_pred"
   ]
  },
  {
   "cell_type": "markdown",
   "id": "07fb93b6-f9a4-4a7f-a28c-24e4feb422f3",
   "metadata": {
    "pycharm": {
     "name": "#%% md\n"
    }
   },
   "source": [
    "## Prediction\n",
    "### Arabidopsis mock data"
   ]
  },
  {
   "cell_type": "code",
   "execution_count": null,
   "id": "0dca024d-9076-481f-a29e-299c2e980419",
   "metadata": {
    "pycharm": {
     "name": "#%%\n"
    }
   },
   "outputs": [],
   "source": [
    "# model, score, cm, dnn_history = fetch_data_metrics(nb_long_id)\n",
    "# print(f'Loading results from nb_id: {nb_id}')"
   ]
  },
  {
   "cell_type": "code",
   "execution_count": null,
   "id": "186e0c3c-7515-435e-a5b9-f836197bbda2",
   "metadata": {
    "pycharm": {
     "name": "#%%\n"
    }
   },
   "outputs": [],
   "source": [
    "# df_mock = pd.read_csv(\"../data/raw/AtBcMicroArray2012/AtBc16hpiMock_2012_IDConver.csv\")\n",
    "\n",
    "# mock_features = df_mock.loc[:,'GeneID']\n",
    "# mock_features.to_list()\n",
    "\n",
    "# print(f'Number of features: {len(mock_features)}')\n",
    "# print(f'Unique features: {len(set(mock_features))}')\n",
    "\n",
    "# ugene_names = [each_string.upper() for each_string in At_list]\n",
    "# common_features = set(mock_features) & set(ugene_names)\n",
    "# print(f'Intersection: {len(common_features)}')\n",
    "\n",
    "# cols = df.columns.to_list()\n",
    "# cols = cols[6:20346]\n",
    "# df2 = pd.DataFrame(columns=cols)\n",
    "# df2.loc[len(df2)] = 0\n",
    "\n",
    "# mock_gene_list = df_mock['GeneID'].to_list()\n",
    "\n",
    "# for gene in common_features:\n",
    "#     df2.loc[0,gene] = df_mock.loc[df_mock['GeneID'] == gene,'Microarray'].values[0]\n",
    "\n",
    "# df2"
   ]
  },
  {
   "cell_type": "code",
   "execution_count": null,
   "id": "1d4c95c6-ab70-4078-afe3-1c80fb1d1933",
   "metadata": {
    "pycharm": {
     "name": "#%%\n"
    }
   },
   "outputs": [],
   "source": [
    "# # # Generate standardized test features \n",
    "# # At_X_test = np.zeros((6,len(gene_names)))\n",
    "# # At_X_test[:20340, :20340] = df_test.to_numpy()\n",
    "\n",
    "# # # scale test features based on training data\n",
    "# # At_X_test_scaled = scaler.transform(At_X_test)\n",
    "# # print(np.shape(At_X_test_scaled))\n",
    "# # At_X_test_scaled\n",
    "\n",
    "\n",
    "# # X_test = df2.loc[0].to_numpy(dtype='float')\n",
    "# X_test = np.zeros((6,len(gene_names)))\n",
    "# X_test[:, :20340] = df2.to_numpy()\n",
    "\n",
    "# # X_test = df2.values\n",
    "# # X_test = X_test.astype('float')\n",
    "\n",
    "# X_test_scaled = scaler.transform(X_test)\n",
    "\n",
    "# predictions = model['dnn'].predict(X_test_scaled)\n",
    "# dnn_y_pred = np.argmax(predictions, 1)\n",
    "# xgb_y_pred = model['xgb'].predict(X_test_scaled)\n",
    "# rf_y_pred = model['rf'].predict(X_test_scaled)\n",
    "# svm_y_pred = model['svm'].predict(X_test_scaled)\n",
    "# svm_lin_y_pred = model['svm_lin'].predict(X_test_scaled)\n",
    "\n",
    "# print(f'DNN predicted class: {dnn_y_pred}')\n",
    "# print(f'XGB predicted class: {xgb_y_pred}')\n",
    "# print(f'RF predicted class: {rf_y_pred}')\n",
    "# print(f'SVM predicted class: {svm_y_pred}')\n",
    "# print(f'linSVM predicted class: {svm_lin_y_pred}')"
   ]
  },
  {
   "cell_type": "code",
   "execution_count": null,
   "id": "c46ae100-d3ef-4662-8c7d-426c920947a4",
   "metadata": {
    "pycharm": {
     "name": "#%%\n"
    }
   },
   "outputs": [],
   "source": [
    "# X_test_scaled[0,0:10]"
   ]
  },
  {
   "cell_type": "markdown",
   "id": "4281bb95-5b1f-4423-8eec-6f33175fdddd",
   "metadata": {
    "pycharm": {
     "name": "#%% md\n"
    }
   },
   "source": [
    "### Arabidopsis infection data"
   ]
  },
  {
   "cell_type": "code",
   "execution_count": null,
   "id": "91d69a67-ed7f-49e0-bc36-0617c0c33831",
   "metadata": {
    "pycharm": {
     "name": "#%%\n"
    }
   },
   "outputs": [],
   "source": [
    "# df_infect = pd.read_csv(\"../data/raw/AtBcMicroArray2012/AtBc16hpiInfe_2012_IDConver.csv\")\n",
    "\n",
    "# infect_features = df_infect.loc[:,'GeneID']\n",
    "# infect_features.to_list()\n",
    "\n",
    "# print(f'Number of features: {len(infect_features)}')\n",
    "# print(f'Unique features: {len(set(infect_features))}')\n",
    "\n",
    "# ugene_names = [each_string.upper() for each_string in gene_names]\n",
    "# common_features = set(infect_features) & set(ugene_names)\n",
    "# print(f'Intersection: {len(common_features)}')\n",
    "\n",
    "# cols = df.columns.to_list()\n",
    "# cols = cols[6:20346]\n",
    "# df2 = pd.DataFrame(columns=cols)\n",
    "# df2.loc[len(df2)] = 0\n",
    "\n",
    "# infect_gene_list = df_infect['GeneID'].to_list()\n",
    "\n",
    "# for gene in common_features:\n",
    "#     df2.loc[0,gene] = df_infect.loc[df_infect['GeneID'] == gene,'Microarray'].values[0]\n",
    "\n",
    "# df2"
   ]
  },
  {
   "cell_type": "code",
   "execution_count": null,
   "id": "027821f0-d5ae-457c-bded-d891bfe6d56c",
   "metadata": {
    "pycharm": {
     "name": "#%%\n"
    }
   },
   "outputs": [],
   "source": [
    "# # X_test = df2.loc[0].to_numpy(dtype='float')\n",
    "# X_test = df2.values\n",
    "# X_test = X_test.astype('float')\n",
    "\n",
    "# X_test_scaled = scaler.transform(X_test)\n",
    "\n",
    "# predictions = model['dnn'].predict(X_test_scaled)\n",
    "# dnn_y_pred = np.argmax(predictions, 1)\n",
    "# xgb_y_pred = model['xgb'].predict(X_test_scaled)\n",
    "# rf_y_pred = model['rf'].predict(X_test_scaled)\n",
    "# svm_y_pred = model['svm'].predict(X_test_scaled)\n",
    "# svm_lin_y_pred = model['svm_lin'].predict(X_test_scaled)\n",
    "\n",
    "# print(f'DNN predicted class: {dnn_y_pred}')\n",
    "# print(f'XGB predicted class: {xgb_y_pred}')\n",
    "# print(f'RF predicted class: {rf_y_pred}')\n",
    "# print(f'SVM predicted class: {svm_y_pred}')\n",
    "# print(f'linSVM predicted class: {svm_lin_y_pred}')"
   ]
  },
  {
   "cell_type": "code",
   "execution_count": null,
   "id": "1da7ccd8-110f-4793-a805-53534e4a9221",
   "metadata": {
    "pycharm": {
     "name": "#%%\n"
    }
   },
   "outputs": [],
   "source": [
    "# X_test_scaled[0,0:10]"
   ]
  },
  {
   "cell_type": "markdown",
   "id": "a7d81ab2-14fd-43d6-8cb3-8d9b4016b90d",
   "metadata": {
    "pycharm": {
     "name": "#%% md\n"
    }
   },
   "source": [
    "## Plots\n",
    "### Performance metrics\n",
    "\n",
    "**Precision** is a measure of the ability of a classification model to identify only the relevant data points.<br>\n",
    "**Recall** is a measure of the ability of a model to find all the relevant cases within a dataset."
   ]
  },
  {
   "cell_type": "code",
   "execution_count": null,
   "id": "1e38f059-23a8-4784-a757-c147e3787025",
   "metadata": {
    "pycharm": {
     "name": "#%%\n"
    }
   },
   "outputs": [],
   "source": [
    "max_ylim = 0.5\n",
    "file_out = f'./figures/{nb_id}_AtOnly_score_class{num_classes}.pdf'\n",
    "fig_title = 'At only features'\n",
    "# df_metrics = plot_performance_metrics(nb_id, max_ylim, file_out, fig_title)\n",
    "df_metrics = plot_performance_metrics(nb_long_id, max_ylim, file_out, fig_title)\n",
    "df_metrics"
   ]
  },
  {
   "cell_type": "markdown",
   "id": "10b6e7ab-edeb-47ef-abe1-65d3d36a978b",
   "metadata": {
    "pycharm": {
     "name": "#%% md\n"
    }
   },
   "source": [
    "#### Fuzzy results"
   ]
  },
  {
   "cell_type": "code",
   "execution_count": null,
   "id": "db5a2e7d-854a-4fd3-bc89-1cc79981f9e1",
   "metadata": {
    "pycharm": {
     "name": "#%%\n"
    }
   },
   "outputs": [],
   "source": [
    "max_ylim = 0.8\n",
    "offset = 1\n",
    "file_out = f'./figures/{nb_id}_AtOnly_fuzzy_score_class{num_classes}.pdf'\n",
    "fig_title = f'At only features (class offset tolerance = {offset})'\n",
    "df_metrics = plot_performance_metrics(nb_long_id, max_ylim, file_out, fig_title, offset)\n",
    "df_metrics"
   ]
  },
  {
   "cell_type": "markdown",
   "id": "676096d3-189b-4169-b7a0-f1d4c77f2639",
   "metadata": {
    "pycharm": {
     "name": "#%% md\n"
    }
   },
   "source": [
    "### MSE"
   ]
  },
  {
   "cell_type": "code",
   "execution_count": null,
   "id": "402db0c8-d631-4993-b3c1-3349ec6a17cc",
   "metadata": {
    "pycharm": {
     "name": "#%%\n"
    }
   },
   "outputs": [],
   "source": [
    "total_class_mse, class_mse, class_rss = class_error(dnn_cm)\n",
    "total_class_mse\n",
    "\n",
    "max_ylim = 3.5\n",
    "file_out = f'./figures/{nb_id}_AtOnly_mse_class{num_classes}.pdf'\n",
    "fig_title = f'At only features, class MSE'\n",
    "df_metrics = plot_mse(nb_long_id, max_ylim, file_out, fig_title)\n",
    "df_metrics"
   ]
  },
  {
   "cell_type": "markdown",
   "id": "5f59e7ec-1bd5-45cf-a447-6cb2731482b1",
   "metadata": {
    "pycharm": {
     "name": "#%% md\n"
    }
   },
   "source": [
    "### Prediction"
   ]
  },
  {
   "cell_type": "code",
   "execution_count": 58,
   "id": "4911de1c-5680-4010-8f39-476ed9ce0372",
   "metadata": {
    "pycharm": {
     "name": "#%%\n"
    }
   },
   "outputs": [
    {
     "name": "stdout",
     "output_type": "stream",
     "text": [
      "03a_At Test Predictions\n",
      "Written to: ../results/03_At/prediction/03a_At_test_predictions.pkl\n"
     ]
    },
    {
     "data": {
      "text/html": [
       "<div>\n",
       "<style scoped>\n",
       "    .dataframe tbody tr th:only-of-type {\n",
       "        vertical-align: middle;\n",
       "    }\n",
       "\n",
       "    .dataframe tbody tr th {\n",
       "        vertical-align: top;\n",
       "    }\n",
       "\n",
       "    .dataframe thead th {\n",
       "        text-align: right;\n",
       "    }\n",
       "</style>\n",
       "<table border=\"1\" class=\"dataframe\">\n",
       "  <thead>\n",
       "    <tr style=\"text-align: right;\">\n",
       "      <th></th>\n",
       "      <th>DNN</th>\n",
       "      <th>XGB</th>\n",
       "      <th>RF</th>\n",
       "      <th>SVM</th>\n",
       "      <th>linSVM</th>\n",
       "    </tr>\n",
       "  </thead>\n",
       "  <tbody>\n",
       "    <tr>\n",
       "      <th>0</th>\n",
       "      <td>2.0</td>\n",
       "      <td>5.0</td>\n",
       "      <td>2.0</td>\n",
       "      <td>2.0</td>\n",
       "      <td>1.0</td>\n",
       "    </tr>\n",
       "    <tr>\n",
       "      <th>1</th>\n",
       "      <td>2.0</td>\n",
       "      <td>5.0</td>\n",
       "      <td>2.0</td>\n",
       "      <td>2.0</td>\n",
       "      <td>2.0</td>\n",
       "    </tr>\n",
       "    <tr>\n",
       "      <th>2</th>\n",
       "      <td>2.0</td>\n",
       "      <td>2.0</td>\n",
       "      <td>2.0</td>\n",
       "      <td>2.0</td>\n",
       "      <td>1.0</td>\n",
       "    </tr>\n",
       "    <tr>\n",
       "      <th>3</th>\n",
       "      <td>3.0</td>\n",
       "      <td>5.0</td>\n",
       "      <td>3.0</td>\n",
       "      <td>2.0</td>\n",
       "      <td>3.0</td>\n",
       "    </tr>\n",
       "    <tr>\n",
       "      <th>4</th>\n",
       "      <td>3.0</td>\n",
       "      <td>8.0</td>\n",
       "      <td>2.0</td>\n",
       "      <td>2.0</td>\n",
       "      <td>3.0</td>\n",
       "    </tr>\n",
       "    <tr>\n",
       "      <th>5</th>\n",
       "      <td>1.0</td>\n",
       "      <td>5.0</td>\n",
       "      <td>5.0</td>\n",
       "      <td>5.0</td>\n",
       "      <td>5.0</td>\n",
       "    </tr>\n",
       "  </tbody>\n",
       "</table>\n",
       "</div>"
      ],
      "text/plain": [
       "   DNN  XGB   RF  SVM  linSVM\n",
       "0  2.0  5.0  2.0  2.0     1.0\n",
       "1  2.0  5.0  2.0  2.0     2.0\n",
       "2  2.0  2.0  2.0  2.0     1.0\n",
       "3  3.0  5.0  3.0  2.0     3.0\n",
       "4  3.0  8.0  2.0  2.0     3.0\n",
       "5  1.0  5.0  5.0  5.0     5.0"
      ]
     },
     "execution_count": 58,
     "metadata": {},
     "output_type": "execute_result"
    }
   ],
   "source": [
    "cols = ['DNN', 'XGB', 'RF', 'SVM', 'linSVM']\n",
    "ml_predictions = np.vstack((dnn_y_pred, xgb_y_pred, rf_y_pred, svm_y_pred, svm_lin_y_pred)).T\n",
    "df_test2_predict = pd.DataFrame(data=ml_predictions, columns=cols, )\n",
    "\n",
    "print(f\"{nb_long_id} Test Predictions\")\n",
    "\n",
    "\n",
    "filename = f\"../results/03_At/prediction/{nb_long_id}_test_predictions.pkl\"\n",
    "# filename = f\"../results/03_At/prediction/{nb_long_id}_test_AtPsy_predictions.pkl\"\n",
    "\n",
    "pickle.dump(df_test2_predict, open(filename, 'wb'))\n",
    "print(f\"Written to: {filename}\")\n",
    "\n",
    "df_test2_predict"
   ]
  },
  {
   "cell_type": "code",
   "execution_count": 59,
   "id": "0a5ac395-cf6a-4751-8331-404e7606f0ee",
   "metadata": {
    "pycharm": {
     "name": "#%%\n"
    }
   },
   "outputs": [
    {
     "data": {
      "text/html": [
       "<div>\n",
       "<style scoped>\n",
       "    .dataframe tbody tr th:only-of-type {\n",
       "        vertical-align: middle;\n",
       "    }\n",
       "\n",
       "    .dataframe tbody tr th {\n",
       "        vertical-align: top;\n",
       "    }\n",
       "\n",
       "    .dataframe thead th {\n",
       "        text-align: right;\n",
       "    }\n",
       "</style>\n",
       "<table border=\"1\" class=\"dataframe\">\n",
       "  <thead>\n",
       "    <tr style=\"text-align: right;\">\n",
       "      <th></th>\n",
       "      <th>dnn</th>\n",
       "      <th>xgb</th>\n",
       "      <th>rf</th>\n",
       "      <th>svm</th>\n",
       "      <th>svm_lin</th>\n",
       "    </tr>\n",
       "  </thead>\n",
       "  <tbody>\n",
       "    <tr>\n",
       "      <th>0</th>\n",
       "      <td>2.0</td>\n",
       "      <td>5.0</td>\n",
       "      <td>2.0</td>\n",
       "      <td>2.0</td>\n",
       "      <td>1.0</td>\n",
       "    </tr>\n",
       "    <tr>\n",
       "      <th>1</th>\n",
       "      <td>2.0</td>\n",
       "      <td>5.0</td>\n",
       "      <td>2.0</td>\n",
       "      <td>2.0</td>\n",
       "      <td>2.0</td>\n",
       "    </tr>\n",
       "    <tr>\n",
       "      <th>2</th>\n",
       "      <td>2.0</td>\n",
       "      <td>2.0</td>\n",
       "      <td>2.0</td>\n",
       "      <td>2.0</td>\n",
       "      <td>1.0</td>\n",
       "    </tr>\n",
       "    <tr>\n",
       "      <th>3</th>\n",
       "      <td>3.0</td>\n",
       "      <td>5.0</td>\n",
       "      <td>3.0</td>\n",
       "      <td>2.0</td>\n",
       "      <td>3.0</td>\n",
       "    </tr>\n",
       "    <tr>\n",
       "      <th>4</th>\n",
       "      <td>3.0</td>\n",
       "      <td>8.0</td>\n",
       "      <td>2.0</td>\n",
       "      <td>2.0</td>\n",
       "      <td>3.0</td>\n",
       "    </tr>\n",
       "    <tr>\n",
       "      <th>5</th>\n",
       "      <td>1.0</td>\n",
       "      <td>5.0</td>\n",
       "      <td>5.0</td>\n",
       "      <td>5.0</td>\n",
       "      <td>5.0</td>\n",
       "    </tr>\n",
       "  </tbody>\n",
       "</table>\n",
       "</div>"
      ],
      "text/plain": [
       "   dnn  xgb   rf  svm  svm_lin\n",
       "0  2.0  5.0  2.0  2.0      1.0\n",
       "1  2.0  5.0  2.0  2.0      2.0\n",
       "2  2.0  2.0  2.0  2.0      1.0\n",
       "3  3.0  5.0  3.0  2.0      3.0\n",
       "4  3.0  8.0  2.0  2.0      3.0\n",
       "5  1.0  5.0  5.0  5.0      5.0"
      ]
     },
     "execution_count": 59,
     "metadata": {},
     "output_type": "execute_result"
    }
   ],
   "source": [
    "df = get_prediction_df(nb_long_id)\n",
    "df"
   ]
  },
  {
   "cell_type": "code",
   "execution_count": 60,
   "id": "61e0c988-b583-433d-9e8c-2cd613b28fbe",
   "metadata": {
    "pycharm": {
     "name": "#%%\n"
    }
   },
   "outputs": [
    {
     "data": {
      "text/html": [
       "<div>\n",
       "<style scoped>\n",
       "    .dataframe tbody tr th:only-of-type {\n",
       "        vertical-align: middle;\n",
       "    }\n",
       "\n",
       "    .dataframe tbody tr th {\n",
       "        vertical-align: top;\n",
       "    }\n",
       "\n",
       "    .dataframe thead th {\n",
       "        text-align: right;\n",
       "    }\n",
       "</style>\n",
       "<table border=\"1\" class=\"dataframe\">\n",
       "  <thead>\n",
       "    <tr style=\"text-align: right;\">\n",
       "      <th></th>\n",
       "      <th>DNN</th>\n",
       "      <th>XGB</th>\n",
       "      <th>RF</th>\n",
       "      <th>SVM</th>\n",
       "      <th>linSVM</th>\n",
       "    </tr>\n",
       "  </thead>\n",
       "  <tbody>\n",
       "    <tr>\n",
       "      <th>0</th>\n",
       "      <td>2.0</td>\n",
       "      <td>5.0</td>\n",
       "      <td>5.0</td>\n",
       "      <td>2.0</td>\n",
       "      <td>2.0</td>\n",
       "    </tr>\n",
       "    <tr>\n",
       "      <th>1</th>\n",
       "      <td>2.0</td>\n",
       "      <td>3.0</td>\n",
       "      <td>5.0</td>\n",
       "      <td>2.0</td>\n",
       "      <td>3.0</td>\n",
       "    </tr>\n",
       "    <tr>\n",
       "      <th>2</th>\n",
       "      <td>2.0</td>\n",
       "      <td>4.0</td>\n",
       "      <td>3.0</td>\n",
       "      <td>2.0</td>\n",
       "      <td>2.0</td>\n",
       "    </tr>\n",
       "    <tr>\n",
       "      <th>3</th>\n",
       "      <td>2.0</td>\n",
       "      <td>3.0</td>\n",
       "      <td>5.0</td>\n",
       "      <td>2.0</td>\n",
       "      <td>3.0</td>\n",
       "    </tr>\n",
       "    <tr>\n",
       "      <th>4</th>\n",
       "      <td>2.0</td>\n",
       "      <td>5.0</td>\n",
       "      <td>7.0</td>\n",
       "      <td>2.0</td>\n",
       "      <td>4.0</td>\n",
       "    </tr>\n",
       "    <tr>\n",
       "      <th>...</th>\n",
       "      <td>...</td>\n",
       "      <td>...</td>\n",
       "      <td>...</td>\n",
       "      <td>...</td>\n",
       "      <td>...</td>\n",
       "    </tr>\n",
       "    <tr>\n",
       "      <th>95</th>\n",
       "      <td>2.0</td>\n",
       "      <td>4.0</td>\n",
       "      <td>5.0</td>\n",
       "      <td>2.0</td>\n",
       "      <td>4.0</td>\n",
       "    </tr>\n",
       "    <tr>\n",
       "      <th>96</th>\n",
       "      <td>2.0</td>\n",
       "      <td>5.0</td>\n",
       "      <td>5.0</td>\n",
       "      <td>2.0</td>\n",
       "      <td>2.0</td>\n",
       "    </tr>\n",
       "    <tr>\n",
       "      <th>97</th>\n",
       "      <td>2.0</td>\n",
       "      <td>4.0</td>\n",
       "      <td>5.0</td>\n",
       "      <td>2.0</td>\n",
       "      <td>2.0</td>\n",
       "    </tr>\n",
       "    <tr>\n",
       "      <th>98</th>\n",
       "      <td>2.0</td>\n",
       "      <td>5.0</td>\n",
       "      <td>5.0</td>\n",
       "      <td>2.0</td>\n",
       "      <td>4.0</td>\n",
       "    </tr>\n",
       "    <tr>\n",
       "      <th>99</th>\n",
       "      <td>2.0</td>\n",
       "      <td>6.0</td>\n",
       "      <td>5.0</td>\n",
       "      <td>2.0</td>\n",
       "      <td>5.0</td>\n",
       "    </tr>\n",
       "  </tbody>\n",
       "</table>\n",
       "<p>100 rows × 5 columns</p>\n",
       "</div>"
      ],
      "text/plain": [
       "    DNN  XGB   RF  SVM  linSVM\n",
       "0   2.0  5.0  5.0  2.0     2.0\n",
       "1   2.0  3.0  5.0  2.0     3.0\n",
       "2   2.0  4.0  3.0  2.0     2.0\n",
       "3   2.0  3.0  5.0  2.0     3.0\n",
       "4   2.0  5.0  7.0  2.0     4.0\n",
       "..  ...  ...  ...  ...     ...\n",
       "95  2.0  4.0  5.0  2.0     4.0\n",
       "96  2.0  5.0  5.0  2.0     2.0\n",
       "97  2.0  4.0  5.0  2.0     2.0\n",
       "98  2.0  5.0  5.0  2.0     4.0\n",
       "99  2.0  6.0  5.0  2.0     5.0\n",
       "\n",
       "[100 rows x 5 columns]"
      ]
     },
     "execution_count": 60,
     "metadata": {},
     "output_type": "execute_result"
    }
   ],
   "source": [
    "filename = f\"../results/03_At/prediction/{nb_long_id}_test_AtPsy_predictions.pkl\"\n",
    "\n",
    "f = open(filename, 'rb')\n",
    "df_AtPsy_prediction = pickle.load(f)\n",
    "f.close()\n",
    "\n",
    "df_AtPsy_prediction"
   ]
  },
  {
   "cell_type": "markdown",
   "id": "88a9bbb2-d228-4fa6-8002-bcedb2969047",
   "metadata": {
    "pycharm": {
     "name": "#%% md\n"
    }
   },
   "source": [
    "## Others"
   ]
  }
 ],
 "metadata": {
  "kernelspec": {
   "display_name": "Python 3 (ipykernel)",
   "language": "python",
   "name": "python3"
  },
  "language_info": {
   "codemirror_mode": {
    "name": "ipython",
    "version": 3
   },
   "file_extension": ".py",
   "mimetype": "text/x-python",
   "name": "python",
   "nbconvert_exporter": "python",
   "pygments_lexer": "ipython3",
   "version": "3.8.5"
  }
 },
 "nbformat": 4,
 "nbformat_minor": 5
}